{
 "cells": [
  {
   "cell_type": "markdown",
   "metadata": {},
   "source": [
    "Let's load the validation images"
   ]
  },
  {
   "cell_type": "code",
   "execution_count": 28,
   "metadata": {},
   "outputs": [],
   "source": [
    "import re\n",
    "import pandas as pd\n",
    "import cv2\n",
    "import matplotlib.pyplot as plt\n",
    "import numpy as np\n",
    "import os\n",
    "import random\n",
    "import shutil\n",
    "\n",
    "import tensorflow as tf\n",
    "from tensorflow.keras.models import load_model\n",
    "import seaborn as sns\n",
    "from sklearn.metrics import accuracy_score, confusion_matrix, classification_report"
   ]
  },
  {
   "cell_type": "code",
   "execution_count": 29,
   "metadata": {},
   "outputs": [
    {
     "name": "stdout",
     "output_type": "stream",
     "text": [
      "['normal (1).png', 'normal (10).png', 'normal (100).png', 'normal (101).png', 'normal (102).png', 'normal (103).png', 'normal (104).png', 'normal (105).png', 'normal (106).png', 'normal (107).png', 'normal (108).png', 'normal (109).png', 'normal (11).png', 'normal (110).png', 'normal (111).png', 'normal (112).png', 'normal (113).png', 'normal (114).png', 'normal (115).png', 'normal (116).png', 'normal (117).png', 'normal (118).png', 'normal (119).png', 'normal (12).png', 'normal (120).png', 'normal (121).png', 'normal (122).png', 'normal (123).png', 'normal (124).png', 'normal (125).png', 'normal (126).png', 'normal (127).png', 'normal (128).png', 'normal (129).png', 'normal (13).png', 'normal (130).png', 'normal (131).png', 'normal (132).png', 'normal (133).png', 'normal (14).png', 'normal (15).png', 'normal (16).png', 'normal (17).png', 'normal (18).png', 'normal (19).png', 'normal (2).png', 'normal (20).png', 'normal (21).png', 'normal (22).png', 'normal (23).png', 'normal (24).png', 'normal (25).png', 'normal (26).png', 'normal (27).png', 'normal (28).png', 'normal (29).png', 'normal (3).png', 'normal (30).png', 'normal (31).png', 'normal (32).png', 'normal (33).png', 'normal (34).png', 'normal (35).png', 'normal (36).png', 'normal (37).png', 'normal (38).png', 'normal (39).png', 'normal (4).png', 'normal (40).png', 'normal (41).png', 'normal (42).png', 'normal (43).png', 'normal (44).png', 'normal (45).png', 'normal (46).png', 'normal (47).png', 'normal (48).png', 'normal (49).png', 'normal (5).png', 'normal (50).png', 'normal (51).png', 'normal (52).png', 'normal (53).png', 'normal (54).png', 'normal (55).png', 'normal (56).png', 'normal (57).png', 'normal (58).png', 'normal (59).png', 'normal (6).png', 'normal (60).png', 'normal (61).png', 'normal (62).png', 'normal (63).png', 'normal (64).png', 'normal (65).png', 'normal (66).png', 'normal (67).png', 'normal (68).png', 'normal (69).png', 'normal (7).png', 'normal (70).png', 'normal (71).png', 'normal (72).png', 'normal (73).png', 'normal (74).png', 'normal (75).png', 'normal (76).png', 'normal (77).png', 'normal (78).png', 'normal (79).png', 'normal (8).png', 'normal (80).png', 'normal (81).png', 'normal (82).png', 'normal (83).png', 'normal (84).png', 'normal (85).png', 'normal (86).png', 'normal (87).png', 'normal (88).png', 'normal (89).png', 'normal (9).png', 'normal (90).png', 'normal (91).png', 'normal (92).png', 'normal (93).png', 'normal (94).png', 'normal (95).png', 'normal (96).png', 'normal (97).png', 'normal (98).png', 'normal (99).png']\n"
     ]
    }
   ],
   "source": [
    "# Load the CSV file\n",
    "file_path = \"full_img_test.csv\" \n",
    "df = pd.read_csv(file_path)\n",
    "df[\"image_path\"] = df[\"image_path\"].str.replace(r\".*(Breast_Images[\\\\/])\", r\"\\1\", regex=True)\n",
    "\n",
    "\n",
    "# Read 20% of normal images\n",
    "random.seed(42)\n",
    "\n",
    "# Define the path to the folder and get files of normal folder\n",
    "folder_path = \"Breast_Images/normal/\"\n",
    "# List all files in the directory\n",
    "all_files = os.listdir(folder_path)\n",
    "# Filter files that do not contain '_mask' in their name\n",
    "non_mask_files = [f for f in all_files if \"_mask\" not in f]\n",
    "# Select 20% of the images\n",
    "num_selected = int(len(non_mask_files) * 0.2)\n",
    "selected_files = random.sample(non_mask_files, num_selected)\n",
    "# Print the list of selected files\n",
    "print(non_mask_files)\n",
    "\n",
    "df_normal = pd.DataFrame(selected_files, columns=['image_path'])\n",
    "df_normal['label'] = 0\n",
    "df_normal['image_path'] = folder_path + df_normal['image_path']\n",
    "\n",
    "\n",
    "\n",
    "df_normal\n",
    "\n",
    "df = pd.concat([df, df_normal], ignore_index=True)\n",
    "\n",
    "df.to_csv(\"full_img_test_relative_routes.csv\")\n"
   ]
  },
  {
   "cell_type": "code",
   "execution_count": 30,
   "metadata": {},
   "outputs": [],
   "source": [
    "# Define source and destination directories\n",
    "source_folder = \"Breast_Images/normal/\"  # Update with actual path\n",
    "destination_folder = \"Breast_Images_Test/normal/\"  # Update with actual path\n",
    "\n",
    "# Ensure the destination folder exists\n",
    "os.makedirs(destination_folder, exist_ok=True)\n",
    "\n",
    "# List all non-mask files\n",
    "all_files = os.listdir(source_folder)\n",
    "non_mask_files = [f for f in all_files if \"_mask\" not in f]  # Exclude mask images\n",
    "\n",
    "# Select 20% of images\n",
    "\n",
    "\n",
    "# Copy files to the destination folder\n",
    "for file_name in selected_files:\n",
    "    src_path = os.path.join(source_folder, file_name)\n",
    "    dst_path = os.path.join(destination_folder, file_name)\n",
    "    shutil.copy(src_path, dst_path)"
   ]
  },
  {
   "cell_type": "code",
   "execution_count": 31,
   "metadata": {},
   "outputs": [
    {
     "data": {
      "application/vnd.microsoft.datawrangler.viewer.v0+json": {
       "columns": [
        {
         "name": "index",
         "rawType": "int64",
         "type": "integer"
        },
        {
         "name": "image_path",
         "rawType": "object",
         "type": "string"
        },
        {
         "name": "label",
         "rawType": "int64",
         "type": "integer"
        }
       ],
       "conversionMethod": "pd.DataFrame",
       "ref": "c7dfc231-755e-4626-8ed9-773ce609178a",
       "rows": [
        [
         "0",
         "Breast_Images/benign\\benign (58).png",
         "1"
        ],
        [
         "1",
         "Breast_Images/benign\\benign (131).png",
         "1"
        ],
        [
         "2",
         "Breast_Images/benign\\benign (113).png",
         "1"
        ],
        [
         "3",
         "Breast_Images/benign\\benign (47).png",
         "1"
        ],
        [
         "4",
         "Breast_Images/benign\\benign (155).png",
         "1"
        ],
        [
         "5",
         "Breast_Images/benign\\benign (375).png",
         "1"
        ],
        [
         "6",
         "Breast_Images/benign\\benign (171).png",
         "1"
        ],
        [
         "7",
         "Breast_Images/benign\\benign (210).png",
         "1"
        ],
        [
         "8",
         "Breast_Images/benign\\benign (432).png",
         "1"
        ],
        [
         "9",
         "Breast_Images/benign\\benign (228).png",
         "1"
        ],
        [
         "10",
         "Breast_Images/benign\\benign (37).png",
         "1"
        ],
        [
         "11",
         "Breast_Images/benign\\benign (137).png",
         "1"
        ],
        [
         "12",
         "Breast_Images/benign\\benign (292).png",
         "1"
        ],
        [
         "13",
         "Breast_Images/benign\\benign (153).png",
         "1"
        ],
        [
         "14",
         "Breast_Images/benign\\benign (294).png",
         "1"
        ],
        [
         "15",
         "Breast_Images/benign\\benign (409).png",
         "1"
        ],
        [
         "16",
         "Breast_Images/benign\\benign (1).png",
         "1"
        ],
        [
         "17",
         "Breast_Images/benign\\benign (368).png",
         "1"
        ],
        [
         "18",
         "Breast_Images/benign\\benign (67).png",
         "1"
        ],
        [
         "19",
         "Breast_Images/benign\\benign (192).png",
         "1"
        ],
        [
         "20",
         "Breast_Images/benign\\benign (106).png",
         "1"
        ],
        [
         "21",
         "Breast_Images/benign\\benign (322).png",
         "1"
        ],
        [
         "22",
         "Breast_Images/benign\\benign (168).png",
         "1"
        ],
        [
         "23",
         "Breast_Images/benign\\benign (373).png",
         "1"
        ],
        [
         "24",
         "Breast_Images/benign\\benign (39).png",
         "1"
        ],
        [
         "25",
         "Breast_Images/benign\\benign (25).png",
         "1"
        ],
        [
         "26",
         "Breast_Images/benign\\benign (362).png",
         "1"
        ],
        [
         "27",
         "Breast_Images/benign\\benign (335).png",
         "1"
        ],
        [
         "28",
         "Breast_Images/benign\\benign (334).png",
         "1"
        ],
        [
         "29",
         "Breast_Images/benign\\benign (96).png",
         "1"
        ],
        [
         "30",
         "Breast_Images/benign\\benign (124).png",
         "1"
        ],
        [
         "31",
         "Breast_Images/benign\\benign (197).png",
         "1"
        ],
        [
         "32",
         "Breast_Images/benign\\benign (140).png",
         "1"
        ],
        [
         "33",
         "Breast_Images/benign\\benign (9).png",
         "1"
        ],
        [
         "34",
         "Breast_Images/benign\\benign (418).png",
         "1"
        ],
        [
         "35",
         "Breast_Images/benign\\benign (202).png",
         "1"
        ],
        [
         "36",
         "Breast_Images/benign\\benign (160).png",
         "1"
        ],
        [
         "37",
         "Breast_Images/benign\\benign (120).png",
         "1"
        ],
        [
         "38",
         "Breast_Images/benign\\benign (291).png",
         "1"
        ],
        [
         "39",
         "Breast_Images/benign\\benign (319).png",
         "1"
        ],
        [
         "40",
         "Breast_Images/benign\\benign (384).png",
         "1"
        ],
        [
         "41",
         "Breast_Images/benign\\benign (425).png",
         "1"
        ],
        [
         "42",
         "Breast_Images/benign\\benign (129).png",
         "1"
        ],
        [
         "43",
         "Breast_Images/benign\\benign (357).png",
         "1"
        ],
        [
         "44",
         "Breast_Images/benign\\benign (198).png",
         "1"
        ],
        [
         "45",
         "Breast_Images/benign\\benign (224).png",
         "1"
        ],
        [
         "46",
         "Breast_Images/benign\\benign (182).png",
         "1"
        ],
        [
         "47",
         "Breast_Images/benign\\benign (154).png",
         "1"
        ],
        [
         "48",
         "Breast_Images/benign\\benign (102).png",
         "1"
        ],
        [
         "49",
         "Breast_Images/benign\\benign (144).png",
         "1"
        ]
       ],
       "shape": {
        "columns": 2,
        "rows": 138
       }
      },
      "text/html": [
       "<div>\n",
       "<style scoped>\n",
       "    .dataframe tbody tr th:only-of-type {\n",
       "        vertical-align: middle;\n",
       "    }\n",
       "\n",
       "    .dataframe tbody tr th {\n",
       "        vertical-align: top;\n",
       "    }\n",
       "\n",
       "    .dataframe thead th {\n",
       "        text-align: right;\n",
       "    }\n",
       "</style>\n",
       "<table border=\"1\" class=\"dataframe\">\n",
       "  <thead>\n",
       "    <tr style=\"text-align: right;\">\n",
       "      <th></th>\n",
       "      <th>image_path</th>\n",
       "      <th>label</th>\n",
       "    </tr>\n",
       "  </thead>\n",
       "  <tbody>\n",
       "    <tr>\n",
       "      <th>0</th>\n",
       "      <td>Breast_Images/benign\\benign (58).png</td>\n",
       "      <td>1</td>\n",
       "    </tr>\n",
       "    <tr>\n",
       "      <th>1</th>\n",
       "      <td>Breast_Images/benign\\benign (131).png</td>\n",
       "      <td>1</td>\n",
       "    </tr>\n",
       "    <tr>\n",
       "      <th>2</th>\n",
       "      <td>Breast_Images/benign\\benign (113).png</td>\n",
       "      <td>1</td>\n",
       "    </tr>\n",
       "    <tr>\n",
       "      <th>3</th>\n",
       "      <td>Breast_Images/benign\\benign (47).png</td>\n",
       "      <td>1</td>\n",
       "    </tr>\n",
       "    <tr>\n",
       "      <th>4</th>\n",
       "      <td>Breast_Images/benign\\benign (155).png</td>\n",
       "      <td>1</td>\n",
       "    </tr>\n",
       "    <tr>\n",
       "      <th>...</th>\n",
       "      <td>...</td>\n",
       "      <td>...</td>\n",
       "    </tr>\n",
       "    <tr>\n",
       "      <th>133</th>\n",
       "      <td>Breast_Images/normal/normal (49).png</td>\n",
       "      <td>0</td>\n",
       "    </tr>\n",
       "    <tr>\n",
       "      <th>134</th>\n",
       "      <td>Breast_Images/normal/normal (84).png</td>\n",
       "      <td>0</td>\n",
       "    </tr>\n",
       "    <tr>\n",
       "      <th>135</th>\n",
       "      <td>Breast_Images/normal/normal (43).png</td>\n",
       "      <td>0</td>\n",
       "    </tr>\n",
       "    <tr>\n",
       "      <th>136</th>\n",
       "      <td>Breast_Images/normal/normal (121).png</td>\n",
       "      <td>0</td>\n",
       "    </tr>\n",
       "    <tr>\n",
       "      <th>137</th>\n",
       "      <td>Breast_Images/normal/normal (61).png</td>\n",
       "      <td>0</td>\n",
       "    </tr>\n",
       "  </tbody>\n",
       "</table>\n",
       "<p>138 rows × 2 columns</p>\n",
       "</div>"
      ],
      "text/plain": [
       "                                image_path  label\n",
       "0     Breast_Images/benign\\benign (58).png      1\n",
       "1    Breast_Images/benign\\benign (131).png      1\n",
       "2    Breast_Images/benign\\benign (113).png      1\n",
       "3     Breast_Images/benign\\benign (47).png      1\n",
       "4    Breast_Images/benign\\benign (155).png      1\n",
       "..                                     ...    ...\n",
       "133   Breast_Images/normal/normal (49).png      0\n",
       "134   Breast_Images/normal/normal (84).png      0\n",
       "135   Breast_Images/normal/normal (43).png      0\n",
       "136  Breast_Images/normal/normal (121).png      0\n",
       "137   Breast_Images/normal/normal (61).png      0\n",
       "\n",
       "[138 rows x 2 columns]"
      ]
     },
     "execution_count": 31,
     "metadata": {},
     "output_type": "execute_result"
    }
   ],
   "source": [
    "df"
   ]
  },
  {
   "cell_type": "markdown",
   "metadata": {},
   "source": [
    "Load the first image and show it"
   ]
  },
  {
   "cell_type": "code",
   "execution_count": 32,
   "metadata": {},
   "outputs": [
    {
     "name": "stdout",
     "output_type": "stream",
     "text": [
      "Breast_Images/benign\\benign (58).png\n"
     ]
    }
   ],
   "source": [
    "first_image_path = df['image_path'].iloc[0]\n",
    "print(first_image_path)\n",
    "first_image = cv2.imread(first_image_path)"
   ]
  },
  {
   "cell_type": "markdown",
   "metadata": {},
   "source": [
    "### Test the model for the first image"
   ]
  },
  {
   "cell_type": "code",
   "execution_count": 33,
   "metadata": {},
   "outputs": [
    {
     "name": "stderr",
     "output_type": "stream",
     "text": [
      "C:\\Users\\adral\\AppData\\Local\\Packages\\PythonSoftwareFoundation.Python.3.12_qbz5n2kfra8p0\\LocalCache\\local-packages\\Python312\\site-packages\\keras\\src\\layers\\convolutional\\base_conv.py:107: UserWarning: Do not pass an `input_shape`/`input_dim` argument to a layer. When using Sequential models, prefer using an `Input(shape)` object as the first layer in the model instead.\n",
      "  super().__init__(activity_regularizer=activity_regularizer, **kwargs)\n",
      "C:\\Users\\adral\\AppData\\Local\\Packages\\PythonSoftwareFoundation.Python.3.12_qbz5n2kfra8p0\\LocalCache\\local-packages\\Python312\\site-packages\\keras\\src\\optimizers\\base_optimizer.py:86: UserWarning: Argument `decay` is no longer supported and will be ignored.\n",
      "  warnings.warn(\n",
      "WARNING:absl:Compiled the loaded model, but the compiled metrics have yet to be built. `model.compile_metrics` will be empty until you train or evaluate the model.\n",
      "WARNING:absl:Error in loading the saved optimizer state. As a result, your model is starting with a freshly initialized optimizer.\n"
     ]
    }
   ],
   "source": [
    "# Load the CNN model\n",
    "model_path = \"tumor_classifier.h5\"  # Ensure this is correct\n",
    "model = load_model(model_path)\n",
    "\n",
    "# Model expected input size\n",
    "IMG_SIZE = (128, 128)  # Update if your model expects a different input size"
   ]
  },
  {
   "cell_type": "code",
   "execution_count": 34,
   "metadata": {},
   "outputs": [],
   "source": [
    "# Path to the test image\n",
    "test_image_path =  first_image_path # Update with the actual image path\n",
    "\n",
    "# Function to preprocess the image\n",
    "def preprocess_image(image_path, target_size=IMG_SIZE):\n",
    "    img = cv2.imread(image_path)  # Load the image\n",
    "    if img is None:\n",
    "        raise FileNotFoundError(f\"Error: Image not found at {image_path}\")\n",
    "    \n",
    "    img = cv2.cvtColor(img, cv2.COLOR_BGR2RGB)  # Convert to RGB\n",
    "    img = cv2.resize(img, target_size)  # Resize to match model input\n",
    "    img = img / 255.0  # Normalize\n",
    "    img = np.expand_dims(img, axis=0)  # Add batch dimension\n",
    "    return img\n",
    "\n",
    "# Preprocess the test image\n",
    "processed_image = preprocess_image(test_image_path)"
   ]
  },
  {
   "cell_type": "markdown",
   "metadata": {},
   "source": [
    "### Make a prediction"
   ]
  },
  {
   "cell_type": "markdown",
   "metadata": {},
   "source": [
    "Verify the input shape"
   ]
  },
  {
   "cell_type": "code",
   "execution_count": 35,
   "metadata": {},
   "outputs": [
    {
     "name": "stdout",
     "output_type": "stream",
     "text": [
      "(None, 128, 128, 3)\n"
     ]
    }
   ],
   "source": [
    "print(model.input_shape)"
   ]
  },
  {
   "cell_type": "code",
   "execution_count": 36,
   "metadata": {},
   "outputs": [
    {
     "name": "stdout",
     "output_type": "stream",
     "text": [
      "\u001b[1m1/1\u001b[0m \u001b[32m━━━━━━━━━━━━━━━━━━━━\u001b[0m\u001b[37m\u001b[0m \u001b[1m0s\u001b[0m 191ms/step\n",
      "Prediction: Malignant (Confidence: 0.80)\n"
     ]
    },
    {
     "data": {
      "image/png": "[encoded data removed]",
      "text/plain": [
       "<Figure size 640x480 with 1 Axes>"
      ]
     },
     "metadata": {},
     "output_type": "display_data"
    }
   ],
   "source": [
    "# Make a prediction\n",
    "prediction = model.predict(processed_image)\n",
    "\n",
    "# Interpret prediction\n",
    "if prediction.shape[1] == 1:  # Binary classification\n",
    "    result = \"Tumor Detected\" if prediction[0][0] > 0.5 else \"No Tumor Detected\"\n",
    "    confidence = prediction[0][0]\n",
    "else:  # Multi-class classification\n",
    "    classes = [\"Benign\", \"Malignant\"]\n",
    "    predicted_class = np.argmax(prediction)\n",
    "    result = classes[predicted_class]\n",
    "    confidence = prediction[0][predicted_class]\n",
    "\n",
    "# Print result\n",
    "print(f\"Prediction: {result} (Confidence: {confidence:.2f})\")\n",
    "\n",
    "# Display the image with the prediction\n",
    "img = cv2.imread(test_image_path)\n",
    "img = cv2.cvtColor(img, cv2.COLOR_BGR2RGB)\n",
    "plt.imshow(img)\n",
    "plt.title(f\"Prediction: {result}\")\n",
    "plt.axis(\"off\")\n",
    "plt.show()\n"
   ]
  },
  {
   "cell_type": "markdown",
   "metadata": {},
   "source": [
    "### Full file prediction"
   ]
  },
  {
   "cell_type": "code",
   "execution_count": 37,
   "metadata": {},
   "outputs": [
    {
     "data": {
      "application/vnd.microsoft.datawrangler.viewer.v0+json": {
       "columns": [
        {
         "name": "index",
         "rawType": "int64",
         "type": "integer"
        },
        {
         "name": "Unnamed: 0",
         "rawType": "int64",
         "type": "integer"
        },
        {
         "name": "image_path",
         "rawType": "object",
         "type": "string"
        },
        {
         "name": "label",
         "rawType": "int64",
         "type": "integer"
        }
       ],
       "conversionMethod": "pd.DataFrame",
       "ref": "25756de6-6ded-4823-9c31-db2f3f98ce95",
       "rows": [
        [
         "0",
         "0",
         "Breast_Images/benign/benign (58).png",
         "1"
        ],
        [
         "1",
         "1",
         "Breast_Images/benign/benign (131).png",
         "1"
        ],
        [
         "2",
         "2",
         "Breast_Images/benign/benign (113).png",
         "1"
        ],
        [
         "3",
         "3",
         "Breast_Images/benign/benign (47).png",
         "1"
        ],
        [
         "4",
         "4",
         "Breast_Images/benign/benign (155).png",
         "1"
        ],
        [
         "5",
         "5",
         "Breast_Images/benign/benign (375).png",
         "1"
        ],
        [
         "6",
         "6",
         "Breast_Images/benign/benign (171).png",
         "1"
        ],
        [
         "7",
         "7",
         "Breast_Images/benign/benign (210).png",
         "1"
        ],
        [
         "8",
         "8",
         "Breast_Images/benign/benign (432).png",
         "1"
        ],
        [
         "9",
         "9",
         "Breast_Images/benign/benign (228).png",
         "1"
        ],
        [
         "10",
         "10",
         "Breast_Images/benign/benign (37).png",
         "1"
        ],
        [
         "11",
         "11",
         "Breast_Images/benign/benign (137).png",
         "1"
        ],
        [
         "12",
         "12",
         "Breast_Images/benign/benign (292).png",
         "1"
        ],
        [
         "13",
         "13",
         "Breast_Images/benign/benign (153).png",
         "1"
        ],
        [
         "14",
         "14",
         "Breast_Images/benign/benign (294).png",
         "1"
        ],
        [
         "15",
         "15",
         "Breast_Images/benign/benign (409).png",
         "1"
        ],
        [
         "16",
         "16",
         "Breast_Images/benign/benign (1).png",
         "1"
        ],
        [
         "17",
         "17",
         "Breast_Images/benign/benign (368).png",
         "1"
        ],
        [
         "18",
         "18",
         "Breast_Images/benign/benign (67).png",
         "1"
        ],
        [
         "19",
         "19",
         "Breast_Images/benign/benign (192).png",
         "1"
        ],
        [
         "20",
         "20",
         "Breast_Images/benign/benign (106).png",
         "1"
        ],
        [
         "21",
         "21",
         "Breast_Images/benign/benign (322).png",
         "1"
        ],
        [
         "22",
         "22",
         "Breast_Images/benign/benign (168).png",
         "1"
        ],
        [
         "23",
         "23",
         "Breast_Images/benign/benign (373).png",
         "1"
        ],
        [
         "24",
         "24",
         "Breast_Images/benign/benign (39).png",
         "1"
        ],
        [
         "25",
         "25",
         "Breast_Images/benign/benign (25).png",
         "1"
        ],
        [
         "26",
         "26",
         "Breast_Images/benign/benign (362).png",
         "1"
        ],
        [
         "27",
         "27",
         "Breast_Images/benign/benign (335).png",
         "1"
        ],
        [
         "28",
         "28",
         "Breast_Images/benign/benign (334).png",
         "1"
        ],
        [
         "29",
         "29",
         "Breast_Images/benign/benign (96).png",
         "1"
        ],
        [
         "30",
         "30",
         "Breast_Images/benign/benign (124).png",
         "1"
        ],
        [
         "31",
         "31",
         "Breast_Images/benign/benign (197).png",
         "1"
        ],
        [
         "32",
         "32",
         "Breast_Images/benign/benign (140).png",
         "1"
        ],
        [
         "33",
         "33",
         "Breast_Images/benign/benign (9).png",
         "1"
        ],
        [
         "34",
         "34",
         "Breast_Images/benign/benign (418).png",
         "1"
        ],
        [
         "35",
         "35",
         "Breast_Images/benign/benign (202).png",
         "1"
        ],
        [
         "36",
         "36",
         "Breast_Images/benign/benign (160).png",
         "1"
        ],
        [
         "37",
         "37",
         "Breast_Images/benign/benign (120).png",
         "1"
        ],
        [
         "38",
         "38",
         "Breast_Images/benign/benign (291).png",
         "1"
        ],
        [
         "39",
         "39",
         "Breast_Images/benign/benign (319).png",
         "1"
        ],
        [
         "40",
         "40",
         "Breast_Images/benign/benign (384).png",
         "1"
        ],
        [
         "41",
         "41",
         "Breast_Images/benign/benign (425).png",
         "1"
        ],
        [
         "42",
         "42",
         "Breast_Images/benign/benign (129).png",
         "1"
        ],
        [
         "43",
         "43",
         "Breast_Images/benign/benign (357).png",
         "1"
        ],
        [
         "44",
         "44",
         "Breast_Images/benign/benign (198).png",
         "1"
        ],
        [
         "45",
         "45",
         "Breast_Images/benign/benign (224).png",
         "1"
        ],
        [
         "46",
         "46",
         "Breast_Images/benign/benign (182).png",
         "1"
        ],
        [
         "47",
         "47",
         "Breast_Images/benign/benign (154).png",
         "1"
        ],
        [
         "48",
         "48",
         "Breast_Images/benign/benign (102).png",
         "1"
        ],
        [
         "49",
         "49",
         "Breast_Images/benign/benign (144).png",
         "1"
        ]
       ],
       "shape": {
        "columns": 3,
        "rows": 138
       }
      },
      "text/html": [
       "<div>\n",
       "<style scoped>\n",
       "    .dataframe tbody tr th:only-of-type {\n",
       "        vertical-align: middle;\n",
       "    }\n",
       "\n",
       "    .dataframe tbody tr th {\n",
       "        vertical-align: top;\n",
       "    }\n",
       "\n",
       "    .dataframe thead th {\n",
       "        text-align: right;\n",
       "    }\n",
       "</style>\n",
       "<table border=\"1\" class=\"dataframe\">\n",
       "  <thead>\n",
       "    <tr style=\"text-align: right;\">\n",
       "      <th></th>\n",
       "      <th>Unnamed: 0</th>\n",
       "      <th>image_path</th>\n",
       "      <th>label</th>\n",
       "    </tr>\n",
       "  </thead>\n",
       "  <tbody>\n",
       "    <tr>\n",
       "      <th>0</th>\n",
       "      <td>0</td>\n",
       "      <td>Breast_Images/benign/benign (58).png</td>\n",
       "      <td>1</td>\n",
       "    </tr>\n",
       "    <tr>\n",
       "      <th>1</th>\n",
       "      <td>1</td>\n",
       "      <td>Breast_Images/benign/benign (131).png</td>\n",
       "      <td>1</td>\n",
       "    </tr>\n",
       "    <tr>\n",
       "      <th>2</th>\n",
       "      <td>2</td>\n",
       "      <td>Breast_Images/benign/benign (113).png</td>\n",
       "      <td>1</td>\n",
       "    </tr>\n",
       "    <tr>\n",
       "      <th>3</th>\n",
       "      <td>3</td>\n",
       "      <td>Breast_Images/benign/benign (47).png</td>\n",
       "      <td>1</td>\n",
       "    </tr>\n",
       "    <tr>\n",
       "      <th>4</th>\n",
       "      <td>4</td>\n",
       "      <td>Breast_Images/benign/benign (155).png</td>\n",
       "      <td>1</td>\n",
       "    </tr>\n",
       "    <tr>\n",
       "      <th>...</th>\n",
       "      <td>...</td>\n",
       "      <td>...</td>\n",
       "      <td>...</td>\n",
       "    </tr>\n",
       "    <tr>\n",
       "      <th>133</th>\n",
       "      <td>133</td>\n",
       "      <td>Breast_Images/normal/normal (49).png</td>\n",
       "      <td>0</td>\n",
       "    </tr>\n",
       "    <tr>\n",
       "      <th>134</th>\n",
       "      <td>134</td>\n",
       "      <td>Breast_Images/normal/normal (84).png</td>\n",
       "      <td>0</td>\n",
       "    </tr>\n",
       "    <tr>\n",
       "      <th>135</th>\n",
       "      <td>135</td>\n",
       "      <td>Breast_Images/normal/normal (43).png</td>\n",
       "      <td>0</td>\n",
       "    </tr>\n",
       "    <tr>\n",
       "      <th>136</th>\n",
       "      <td>136</td>\n",
       "      <td>Breast_Images/normal/normal (121).png</td>\n",
       "      <td>0</td>\n",
       "    </tr>\n",
       "    <tr>\n",
       "      <th>137</th>\n",
       "      <td>137</td>\n",
       "      <td>Breast_Images/normal/normal (61).png</td>\n",
       "      <td>0</td>\n",
       "    </tr>\n",
       "  </tbody>\n",
       "</table>\n",
       "<p>138 rows × 3 columns</p>\n",
       "</div>"
      ],
      "text/plain": [
       "     Unnamed: 0                             image_path  label\n",
       "0             0   Breast_Images/benign/benign (58).png      1\n",
       "1             1  Breast_Images/benign/benign (131).png      1\n",
       "2             2  Breast_Images/benign/benign (113).png      1\n",
       "3             3   Breast_Images/benign/benign (47).png      1\n",
       "4             4  Breast_Images/benign/benign (155).png      1\n",
       "..          ...                                    ...    ...\n",
       "133         133   Breast_Images/normal/normal (49).png      0\n",
       "134         134   Breast_Images/normal/normal (84).png      0\n",
       "135         135   Breast_Images/normal/normal (43).png      0\n",
       "136         136  Breast_Images/normal/normal (121).png      0\n",
       "137         137   Breast_Images/normal/normal (61).png      0\n",
       "\n",
       "[138 rows x 3 columns]"
      ]
     },
     "execution_count": 37,
     "metadata": {},
     "output_type": "execute_result"
    }
   ],
   "source": [
    "# Load the CSV file with image paths\n",
    "csv_path = \"full_img_test_relative_routes.csv\"  # Update with actual file path\n",
    "df = pd.read_csv(csv_path)\n",
    "\n",
    "# Ensure paths are correctly formatted (fixing backslashes if needed)\n",
    "df[\"image_path\"] = df[\"image_path\"].str.replace(\"\\\\\", \"/\")\n",
    "df"
   ]
  },
  {
   "cell_type": "code",
   "execution_count": 38,
   "metadata": {},
   "outputs": [
    {
     "name": "stdout",
     "output_type": "stream",
     "text": [
      "WARNING:tensorflow:5 out of the last 13 calls to <function TensorFlowTrainer.make_predict_function.<locals>.one_step_on_data_distributed at 0x0000025B1F7B2660> triggered tf.function retracing. Tracing is expensive and the excessive number of tracings could be due to (1) creating @tf.function repeatedly in a loop, (2) passing tensors with different shapes, (3) passing Python objects instead of tensors. For (1), please define your @tf.function outside of the loop. For (2), @tf.function has reduce_retracing=True option that can avoid unnecessary retracing. For (3), please refer to https://www.tensorflow.org/guide/function#controlling_retracing and https://www.tensorflow.org/api_docs/python/tf/function for  more details.\n"
     ]
    },
    {
     "name": "stderr",
     "output_type": "stream",
     "text": [
      "WARNING:tensorflow:5 out of the last 13 calls to <function TensorFlowTrainer.make_predict_function.<locals>.one_step_on_data_distributed at 0x0000025B1F7B2660> triggered tf.function retracing. Tracing is expensive and the excessive number of tracings could be due to (1) creating @tf.function repeatedly in a loop, (2) passing tensors with different shapes, (3) passing Python objects instead of tensors. For (1), please define your @tf.function outside of the loop. For (2), @tf.function has reduce_retracing=True option that can avoid unnecessary retracing. For (3), please refer to https://www.tensorflow.org/guide/function#controlling_retracing and https://www.tensorflow.org/api_docs/python/tf/function for  more details.\n"
     ]
    },
    {
     "name": "stdout",
     "output_type": "stream",
     "text": [
      "\u001b[1m5/5\u001b[0m \u001b[32m━━━━━━━━━━━━━━━━━━━━\u001b[0m\u001b[37m\u001b[0m \u001b[1m1s\u001b[0m 104ms/step\n",
      "Predictions completed.\n",
      "   Unnamed: 0                             image_path  label  prediction\n",
      "0           0   Breast_Images/benign/benign (58).png      1           1\n",
      "1           1  Breast_Images/benign/benign (131).png      1           0\n",
      "2           2  Breast_Images/benign/benign (113).png      1           2\n",
      "3           3   Breast_Images/benign/benign (47).png      1           0\n",
      "4           4  Breast_Images/benign/benign (155).png      1           0\n"
     ]
    }
   ],
   "source": [
    "# Prepare lists for predictions\n",
    "X_test = []\n",
    "valid_image_paths = []\n",
    "\n",
    "# Process all images in the dataset\n",
    "for path in df[\"image_path\"]:\n",
    "    img = preprocess_image(path)\n",
    "    if img is not None:\n",
    "        X_test.append(img)\n",
    "        valid_image_paths.append(path)  # Keep only valid paths\n",
    "\n",
    "# Convert list to NumPy array\n",
    "X_test = np.vstack(X_test)\n",
    "\n",
    "# Run predictions\n",
    "predictions = model.predict(X_test)\n",
    "\n",
    "# Convert predictions to class labels\n",
    "if predictions.shape[1] == 1:  # Binary classification\n",
    "    y_pred = (predictions > 0.5).astype(int).flatten()\n",
    "else:  # Multi-class classification\n",
    "    y_pred = np.argmax(predictions, axis=1)\n",
    "\n",
    "# Store predictions in the DataFrame\n",
    "df = df[df[\"image_path\"].isin(valid_image_paths)]  # Keep only valid rows\n",
    "df[\"prediction\"] = y_pred\n",
    "\n",
    "# Save the results to a CSV\n",
    "df.to_csv(\"predictions.csv\", index=False)\n",
    "\n",
    "# Print summary statistics\n",
    "print(\"Predictions completed.\")\n",
    "print(df.head())"
   ]
  },
  {
   "cell_type": "code",
   "execution_count": 39,
   "metadata": {},
   "outputs": [
    {
     "name": "stdout",
     "output_type": "stream",
     "text": [
      "Accuracy: 0.2681\n",
      "Confusion Matrix:\n",
      " [[17  1  8]\n",
      " [42 11 22]\n",
      " [10 18  9]]\n",
      "Classification Report:\n",
      "               precision    recall  f1-score   support\n",
      "\n",
      "      Normal       0.25      0.65      0.36        26\n",
      "      Benign       0.37      0.15      0.21        75\n",
      "   Malignant       0.23      0.24      0.24        37\n",
      "\n",
      "    accuracy                           0.27       138\n",
      "   macro avg       0.28      0.35      0.27       138\n",
      "weighted avg       0.31      0.27      0.24       138\n",
      "\n"
     ]
    },
    {
     "data": {
      "image/png": "[encoded data removed]",
      "text/plain": [
       "<Figure size 600x500 with 2 Axes>"
      ]
     },
     "metadata": {},
     "output_type": "display_data"
    }
   ],
   "source": [
    "# Show model performance if ground truth labels exist\n",
    "if \"label\" in df.columns:\n",
    "    y_true = df[\"label\"].values\n",
    "    accuracy = accuracy_score(y_true, y_pred)\n",
    "    conf_matrix = confusion_matrix(y_true, y_pred)\n",
    "    report = classification_report(y_true, y_pred, target_names=[\"Normal\", \"Benign\", \"Malignant\"])\n",
    "\n",
    "    print(f\"Accuracy: {accuracy:.4f}\")\n",
    "    print(\"Confusion Matrix:\\n\", conf_matrix)\n",
    "    print(\"Classification Report:\\n\", report)\n",
    "\n",
    "\n",
    "    # Define class labels (match the model output)\n",
    "    class_labels = [\"Normal\", \"Benign\", \"Malignant\"]\n",
    "\n",
    "    # Plot the confusion matrix\n",
    "    plt.figure(figsize=(6, 5))\n",
    "    sns.heatmap(conf_matrix, annot=True, fmt=\"d\", cmap=\"Blues\", xticklabels=class_labels, yticklabels=class_labels)\n",
    "\n",
    "    # Labels and title\n",
    "    plt.xlabel(\"Predicted Label\")\n",
    "    plt.ylabel(\"True Label\")\n",
    "    plt.title(\"Confusion Matrix\")\n",
    "\n",
    "    # Show plot\n",
    "    plt.show()\n"
   ]
  }
 ],
 "metadata": {
  "kernelspec": {
   "display_name": "Python 3",
   "language": "python",
   "name": "python3"
  },
  "language_info": {
   "codemirror_mode": {
    "name": "ipython",
    "version": 3
   },
   "file_extension": ".py",
   "mimetype": "text/x-python",
   "name": "python",
   "nbconvert_exporter": "python",
   "pygments_lexer": "ipython3",
   "version": "3.12.9"
  }
 },
 "nbformat": 4,
 "nbformat_minor": 2
}
