{
 "cells": [
  {
   "cell_type": "markdown",
   "metadata": {},
   "source": [
    "## Projects:\n",
    "\n",
    "- Diffusion Models;\n",
    "- YOLO versions  - object detection;\n",
    "- Segment Anything Model (https://segment-anything.com/) (Liked);\n",
    "- Mathematical Integration;\n",
    "- BERT fine-tuning - Text classification (compare with logistic regression and TF-IDF vectors);\n",
    "- CNN visualization - review the different techniques used to analyze CNN predictions;\n",
    "- Monte Carlo dropout - review briefly the concept of uncertainty and what are the main techniques used to deal with uncertainty in deep learning;\n",
    "- Deep vs Wide Neural Networks - Try to understand the effect of adding layers or adding parameters in a layer;\n",
    "- Overparameterization regime;\n",
    "- Neural ODEs - Neural Networks and ordinary differential equations are the two main modelization techniques used nowadays, review papers explaining some evolution of the idea of Neural ODE."
   ]
  },
  {
   "cell_type": "markdown",
   "metadata": {},
   "source": [
    "General observations:\n",
    "\n",
    "- Presentation of 15 min \n",
    "- 70% grade\n",
    "- No need to submit the code\n",
    "\n",
    "Evaluation aspects:\n",
    "\n",
    "- Clarity\n",
    "- Understanding of concepts\n",
    "- Depth of research and/or experiments"
   ]
  },
  {
   "cell_type": "code",
   "execution_count": 3,
   "metadata": {},
   "outputs": [
    {
     "name": "stdout",
     "output_type": "stream",
     "text": [
      "✅ SAM Model loaded successfully!\n"
     ]
    }
   ],
   "source": [
    "import torch\n",
    "import numpy as np\n",
    "import cv2\n",
    "import os\n",
    "import pandas as pd\n",
    "import matplotlib.pyplot as plt\n",
    "from segment_anything import SamPredictor, sam_model_registry\n",
    "from sklearn.model_selection import train_test_split\n",
    "from tqdm import tqdm\n",
    "\n",
    "\n",
    "# Load SAM model\n",
    "device = torch.device(\"cuda\" if torch.cuda.is_available() else \"cpu\")\n",
    "sam = sam_model_registry[\"vit_h\"](checkpoint=\"C:/Users/elisa/OneDrive/Desktop/DL_Final/sam_vit_h_4b8939.pth\").to(device)\n",
    "predictor = SamPredictor(sam)\n",
    "print(\"✅ SAM Model loaded successfully!\")\n",
    "\n",
    "# Path to dataset\n",
    "dataset_path = \"C:/Users/elisa/OneDrive/Desktop/DL_Final/Breast_Images/\"\n"
   ]
  },
  {
   "cell_type": "code",
   "execution_count": 4,
   "metadata": {},
   "outputs": [],
   "source": [
    "# Path to dataset\n",
    "dataset_path = \"C:/Users/elisa/OneDrive/Desktop/DL_Final/Breast_Images/\"\n",
    "\n",
    "# Define the class mapping\n",
    "class_map = {\"normal\": 0, \"benign\": 1, \"malignant\": 2}\n",
    "\n",
    "# List to store dataset entries\n",
    "data = []\n",
    "\n",
    "# Loop through each category\n",
    "for category in [\"normal\", \"benign\", \"malignant\"]:\n",
    "    category_path = os.path.join(dataset_path, category)\n",
    "    \n",
    "    # Get all image files in the category folder\n",
    "    for file_name in os.listdir(category_path):\n",
    "        if file_name.endswith(('.png', '.jpg', '.jpeg')):  # Check if it's an image\n",
    "            image_path = os.path.join(category_path, file_name)\n",
    "            data.append({\"image_path\": image_path, \"label\": class_map[category]})\n",
    "\n",
    "# Convert to Pandas DataFrame\n",
    "df = pd.DataFrame(data)"
   ]
  },
  {
   "cell_type": "code",
   "execution_count": 5,
   "metadata": {},
   "outputs": [
    {
     "data": {
      "application/vnd.microsoft.datawrangler.viewer.v0+json": {
       "columns": [
        {
         "name": "index",
         "rawType": "int64",
         "type": "integer"
        },
        {
         "name": "image_path",
         "rawType": "object",
         "type": "string"
        },
        {
         "name": "label",
         "rawType": "int64",
         "type": "integer"
        }
       ],
       "conversionMethod": "pd.DataFrame",
       "ref": "1e33837f-4267-44fd-8b39-24534671a018",
       "rows": [
        [
         "0",
         "C:/Users/elisa/OneDrive/Desktop/DL_Final/Breast_Images/normal\\normal (1).png",
         "0"
        ],
        [
         "1",
         "C:/Users/elisa/OneDrive/Desktop/DL_Final/Breast_Images/normal\\normal (1)_mask.png",
         "0"
        ],
        [
         "2",
         "C:/Users/elisa/OneDrive/Desktop/DL_Final/Breast_Images/normal\\normal (10).png",
         "0"
        ],
        [
         "3",
         "C:/Users/elisa/OneDrive/Desktop/DL_Final/Breast_Images/normal\\normal (10)_mask.png",
         "0"
        ],
        [
         "4",
         "C:/Users/elisa/OneDrive/Desktop/DL_Final/Breast_Images/normal\\normal (100).png",
         "0"
        ],
        [
         "5",
         "C:/Users/elisa/OneDrive/Desktop/DL_Final/Breast_Images/normal\\normal (100)_mask.png",
         "0"
        ],
        [
         "6",
         "C:/Users/elisa/OneDrive/Desktop/DL_Final/Breast_Images/normal\\normal (101).png",
         "0"
        ],
        [
         "7",
         "C:/Users/elisa/OneDrive/Desktop/DL_Final/Breast_Images/normal\\normal (101)_mask.png",
         "0"
        ],
        [
         "8",
         "C:/Users/elisa/OneDrive/Desktop/DL_Final/Breast_Images/normal\\normal (102).png",
         "0"
        ],
        [
         "9",
         "C:/Users/elisa/OneDrive/Desktop/DL_Final/Breast_Images/normal\\normal (102)_mask.png",
         "0"
        ],
        [
         "10",
         "C:/Users/elisa/OneDrive/Desktop/DL_Final/Breast_Images/normal\\normal (103).png",
         "0"
        ],
        [
         "11",
         "C:/Users/elisa/OneDrive/Desktop/DL_Final/Breast_Images/normal\\normal (103)_mask.png",
         "0"
        ],
        [
         "12",
         "C:/Users/elisa/OneDrive/Desktop/DL_Final/Breast_Images/normal\\normal (104).png",
         "0"
        ],
        [
         "13",
         "C:/Users/elisa/OneDrive/Desktop/DL_Final/Breast_Images/normal\\normal (104)_mask.png",
         "0"
        ],
        [
         "14",
         "C:/Users/elisa/OneDrive/Desktop/DL_Final/Breast_Images/normal\\normal (105).png",
         "0"
        ],
        [
         "15",
         "C:/Users/elisa/OneDrive/Desktop/DL_Final/Breast_Images/normal\\normal (105)_mask.png",
         "0"
        ],
        [
         "16",
         "C:/Users/elisa/OneDrive/Desktop/DL_Final/Breast_Images/normal\\normal (106).png",
         "0"
        ],
        [
         "17",
         "C:/Users/elisa/OneDrive/Desktop/DL_Final/Breast_Images/normal\\normal (106)_mask.png",
         "0"
        ],
        [
         "18",
         "C:/Users/elisa/OneDrive/Desktop/DL_Final/Breast_Images/normal\\normal (107).png",
         "0"
        ],
        [
         "19",
         "C:/Users/elisa/OneDrive/Desktop/DL_Final/Breast_Images/normal\\normal (107)_mask.png",
         "0"
        ],
        [
         "20",
         "C:/Users/elisa/OneDrive/Desktop/DL_Final/Breast_Images/normal\\normal (108).png",
         "0"
        ],
        [
         "21",
         "C:/Users/elisa/OneDrive/Desktop/DL_Final/Breast_Images/normal\\normal (108)_mask.png",
         "0"
        ],
        [
         "22",
         "C:/Users/elisa/OneDrive/Desktop/DL_Final/Breast_Images/normal\\normal (109).png",
         "0"
        ],
        [
         "23",
         "C:/Users/elisa/OneDrive/Desktop/DL_Final/Breast_Images/normal\\normal (109)_mask.png",
         "0"
        ],
        [
         "24",
         "C:/Users/elisa/OneDrive/Desktop/DL_Final/Breast_Images/normal\\normal (11).png",
         "0"
        ],
        [
         "25",
         "C:/Users/elisa/OneDrive/Desktop/DL_Final/Breast_Images/normal\\normal (11)_mask.png",
         "0"
        ],
        [
         "26",
         "C:/Users/elisa/OneDrive/Desktop/DL_Final/Breast_Images/normal\\normal (110).png",
         "0"
        ],
        [
         "27",
         "C:/Users/elisa/OneDrive/Desktop/DL_Final/Breast_Images/normal\\normal (110)_mask.png",
         "0"
        ],
        [
         "28",
         "C:/Users/elisa/OneDrive/Desktop/DL_Final/Breast_Images/normal\\normal (111).png",
         "0"
        ],
        [
         "29",
         "C:/Users/elisa/OneDrive/Desktop/DL_Final/Breast_Images/normal\\normal (111)_mask.png",
         "0"
        ],
        [
         "30",
         "C:/Users/elisa/OneDrive/Desktop/DL_Final/Breast_Images/normal\\normal (112).png",
         "0"
        ],
        [
         "31",
         "C:/Users/elisa/OneDrive/Desktop/DL_Final/Breast_Images/normal\\normal (112)_mask.png",
         "0"
        ],
        [
         "32",
         "C:/Users/elisa/OneDrive/Desktop/DL_Final/Breast_Images/normal\\normal (113).png",
         "0"
        ],
        [
         "33",
         "C:/Users/elisa/OneDrive/Desktop/DL_Final/Breast_Images/normal\\normal (113)_mask.png",
         "0"
        ],
        [
         "34",
         "C:/Users/elisa/OneDrive/Desktop/DL_Final/Breast_Images/normal\\normal (114).png",
         "0"
        ],
        [
         "35",
         "C:/Users/elisa/OneDrive/Desktop/DL_Final/Breast_Images/normal\\normal (114)_mask.png",
         "0"
        ],
        [
         "36",
         "C:/Users/elisa/OneDrive/Desktop/DL_Final/Breast_Images/normal\\normal (115).png",
         "0"
        ],
        [
         "37",
         "C:/Users/elisa/OneDrive/Desktop/DL_Final/Breast_Images/normal\\normal (115)_mask.png",
         "0"
        ],
        [
         "38",
         "C:/Users/elisa/OneDrive/Desktop/DL_Final/Breast_Images/normal\\normal (116).png",
         "0"
        ],
        [
         "39",
         "C:/Users/elisa/OneDrive/Desktop/DL_Final/Breast_Images/normal\\normal (116)_mask.png",
         "0"
        ],
        [
         "40",
         "C:/Users/elisa/OneDrive/Desktop/DL_Final/Breast_Images/normal\\normal (117).png",
         "0"
        ],
        [
         "41",
         "C:/Users/elisa/OneDrive/Desktop/DL_Final/Breast_Images/normal\\normal (117)_mask.png",
         "0"
        ],
        [
         "42",
         "C:/Users/elisa/OneDrive/Desktop/DL_Final/Breast_Images/normal\\normal (118).png",
         "0"
        ],
        [
         "43",
         "C:/Users/elisa/OneDrive/Desktop/DL_Final/Breast_Images/normal\\normal (118)_mask.png",
         "0"
        ],
        [
         "44",
         "C:/Users/elisa/OneDrive/Desktop/DL_Final/Breast_Images/normal\\normal (119).png",
         "0"
        ],
        [
         "45",
         "C:/Users/elisa/OneDrive/Desktop/DL_Final/Breast_Images/normal\\normal (119)_mask.png",
         "0"
        ],
        [
         "46",
         "C:/Users/elisa/OneDrive/Desktop/DL_Final/Breast_Images/normal\\normal (12).png",
         "0"
        ],
        [
         "47",
         "C:/Users/elisa/OneDrive/Desktop/DL_Final/Breast_Images/normal\\normal (12)_mask.png",
         "0"
        ],
        [
         "48",
         "C:/Users/elisa/OneDrive/Desktop/DL_Final/Breast_Images/normal\\normal (120).png",
         "0"
        ],
        [
         "49",
         "C:/Users/elisa/OneDrive/Desktop/DL_Final/Breast_Images/normal\\normal (120)_mask.png",
         "0"
        ]
       ],
       "shape": {
        "columns": 2,
        "rows": 1355
       }
      },
      "text/html": [
       "<div>\n",
       "<style scoped>\n",
       "    .dataframe tbody tr th:only-of-type {\n",
       "        vertical-align: middle;\n",
       "    }\n",
       "\n",
       "    .dataframe tbody tr th {\n",
       "        vertical-align: top;\n",
       "    }\n",
       "\n",
       "    .dataframe thead th {\n",
       "        text-align: right;\n",
       "    }\n",
       "</style>\n",
       "<table border=\"1\" class=\"dataframe\">\n",
       "  <thead>\n",
       "    <tr style=\"text-align: right;\">\n",
       "      <th></th>\n",
       "      <th>image_path</th>\n",
       "      <th>label</th>\n",
       "    </tr>\n",
       "  </thead>\n",
       "  <tbody>\n",
       "    <tr>\n",
       "      <th>0</th>\n",
       "      <td>C:/Users/elisa/OneDrive/Desktop/DL_Final/Breas...</td>\n",
       "      <td>0</td>\n",
       "    </tr>\n",
       "    <tr>\n",
       "      <th>1</th>\n",
       "      <td>C:/Users/elisa/OneDrive/Desktop/DL_Final/Breas...</td>\n",
       "      <td>0</td>\n",
       "    </tr>\n",
       "    <tr>\n",
       "      <th>2</th>\n",
       "      <td>C:/Users/elisa/OneDrive/Desktop/DL_Final/Breas...</td>\n",
       "      <td>0</td>\n",
       "    </tr>\n",
       "    <tr>\n",
       "      <th>3</th>\n",
       "      <td>C:/Users/elisa/OneDrive/Desktop/DL_Final/Breas...</td>\n",
       "      <td>0</td>\n",
       "    </tr>\n",
       "    <tr>\n",
       "      <th>4</th>\n",
       "      <td>C:/Users/elisa/OneDrive/Desktop/DL_Final/Breas...</td>\n",
       "      <td>0</td>\n",
       "    </tr>\n",
       "    <tr>\n",
       "      <th>...</th>\n",
       "      <td>...</td>\n",
       "      <td>...</td>\n",
       "    </tr>\n",
       "    <tr>\n",
       "      <th>1350</th>\n",
       "      <td>C:/Users/elisa/OneDrive/Desktop/DL_Final/Breas...</td>\n",
       "      <td>2</td>\n",
       "    </tr>\n",
       "    <tr>\n",
       "      <th>1351</th>\n",
       "      <td>C:/Users/elisa/OneDrive/Desktop/DL_Final/Breas...</td>\n",
       "      <td>2</td>\n",
       "    </tr>\n",
       "    <tr>\n",
       "      <th>1352</th>\n",
       "      <td>C:/Users/elisa/OneDrive/Desktop/DL_Final/Breas...</td>\n",
       "      <td>2</td>\n",
       "    </tr>\n",
       "    <tr>\n",
       "      <th>1353</th>\n",
       "      <td>C:/Users/elisa/OneDrive/Desktop/DL_Final/Breas...</td>\n",
       "      <td>2</td>\n",
       "    </tr>\n",
       "    <tr>\n",
       "      <th>1354</th>\n",
       "      <td>C:/Users/elisa/OneDrive/Desktop/DL_Final/Breas...</td>\n",
       "      <td>2</td>\n",
       "    </tr>\n",
       "  </tbody>\n",
       "</table>\n",
       "<p>1355 rows × 2 columns</p>\n",
       "</div>"
      ],
      "text/plain": [
       "                                             image_path  label\n",
       "0     C:/Users/elisa/OneDrive/Desktop/DL_Final/Breas...      0\n",
       "1     C:/Users/elisa/OneDrive/Desktop/DL_Final/Breas...      0\n",
       "2     C:/Users/elisa/OneDrive/Desktop/DL_Final/Breas...      0\n",
       "3     C:/Users/elisa/OneDrive/Desktop/DL_Final/Breas...      0\n",
       "4     C:/Users/elisa/OneDrive/Desktop/DL_Final/Breas...      0\n",
       "...                                                 ...    ...\n",
       "1350  C:/Users/elisa/OneDrive/Desktop/DL_Final/Breas...      2\n",
       "1351  C:/Users/elisa/OneDrive/Desktop/DL_Final/Breas...      2\n",
       "1352  C:/Users/elisa/OneDrive/Desktop/DL_Final/Breas...      2\n",
       "1353  C:/Users/elisa/OneDrive/Desktop/DL_Final/Breas...      2\n",
       "1354  C:/Users/elisa/OneDrive/Desktop/DL_Final/Breas...      2\n",
       "\n",
       "[1355 rows x 2 columns]"
      ]
     },
     "execution_count": 5,
     "metadata": {},
     "output_type": "execute_result"
    }
   ],
   "source": [
    "df"
   ]
  },
  {
   "cell_type": "code",
   "execution_count": 6,
   "metadata": {},
   "outputs": [
    {
     "data": {
      "text/plain": [
       "(1355, 2)"
      ]
     },
     "execution_count": 6,
     "metadata": {},
     "output_type": "execute_result"
    }
   ],
   "source": [
    "df.shape"
   ]
  },
  {
   "cell_type": "markdown",
   "metadata": {},
   "source": [
    "We had to manually remove some images from the dataset as they contained human input identifying where the tumor is. In this way, we avoided training the CNN with image modified manually to indicate where the tumor is. \n",
    "From 1578 now we have 1357, so we lost 14% of our dataset.\n",
    "\n",
    "The code below takes the ground thruth information created by the doctor and draw a bouding box around the actual breast ultrasound (adding some pixels to consdier a bigger area). It then crops the image around the bounding box creating ad hoc images of the turmor area. \n",
    "The code takes into account the presence of multiple masks for each image creating multiple cropped images for the same tumor image.\n",
    "We created random bounding box to create random images of normal ultrasound to train our CNN to recognize when there is no tumor."
   ]
  },
  {
   "cell_type": "code",
   "execution_count": 10,
   "metadata": {},
   "outputs": [
    {
     "name": "stderr",
     "output_type": "stream",
     "text": [
      " 21%|██        | 278/1355 [00:00<00:00, 2530.57it/s]"
     ]
    },
    {
     "name": "stdout",
     "output_type": "stream",
     "text": [
      "Saved: Cropped_Tumors\\benign\\tumor_266_mask0.png\n",
      "Saved: Cropped_Tumors\\benign\\tumor_268_mask0.png\n",
      "Saved: Cropped_Tumors\\benign\\tumor_270_mask0.png\n",
      "Saved: Cropped_Tumors\\benign\\tumor_270_mask1.png\n",
      "Saved: Cropped_Tumors\\benign\\tumor_273_mask0.png\n",
      "Saved: Cropped_Tumors\\benign\\tumor_275_mask0.png\n",
      "Saved: Cropped_Tumors\\benign\\tumor_277_mask0.png\n",
      "Saved: Cropped_Tumors\\benign\\tumor_279_mask0.png\n",
      "Saved: Cropped_Tumors\\benign\\tumor_281_mask0.png\n",
      "Saved: Cropped_Tumors\\benign\\tumor_283_mask0.png\n",
      "Saved: Cropped_Tumors\\benign\\tumor_285_mask0.png\n",
      "Saved: Cropped_Tumors\\benign\\tumor_287_mask0.png\n",
      "Saved: Cropped_Tumors\\benign\\tumor_289_mask0.png\n",
      "Saved: Cropped_Tumors\\benign\\tumor_291_mask0.png\n",
      "Saved: Cropped_Tumors\\benign\\tumor_293_mask0.png\n",
      "Saved: Cropped_Tumors\\benign\\tumor_295_mask0.png\n",
      "Saved: Cropped_Tumors\\benign\\tumor_297_mask0.png\n",
      "Saved: Cropped_Tumors\\benign\\tumor_299_mask0.png\n",
      "Saved: Cropped_Tumors\\benign\\tumor_301_mask0.png\n",
      "Saved: Cropped_Tumors\\benign\\tumor_303_mask0.png\n",
      "Saved: Cropped_Tumors\\benign\\tumor_305_mask0.png\n",
      "Saved: Cropped_Tumors\\benign\\tumor_307_mask0.png\n",
      "Saved: Cropped_Tumors\\benign\\tumor_309_mask0.png\n",
      "Saved: Cropped_Tumors\\benign\\tumor_311_mask0.png\n",
      "Saved: Cropped_Tumors\\benign\\tumor_313_mask0.png\n",
      "Saved: Cropped_Tumors\\benign\\tumor_315_mask0.png\n",
      "Saved: Cropped_Tumors\\benign\\tumor_317_mask0.png\n",
      "Saved: Cropped_Tumors\\benign\\tumor_319_mask0.png\n",
      "Saved: Cropped_Tumors\\benign\\tumor_321_mask0.png\n",
      "Saved: Cropped_Tumors\\benign\\tumor_323_mask0.png\n",
      "Saved: Cropped_Tumors\\benign\\tumor_325_mask0.png\n",
      "Saved: Cropped_Tumors\\benign\\tumor_327_mask0.png\n",
      "Saved: Cropped_Tumors\\benign\\tumor_329_mask0.png\n",
      "Saved: Cropped_Tumors\\benign\\tumor_331_mask0.png\n",
      "Saved: Cropped_Tumors\\benign\\tumor_333_mask0.png\n",
      "Saved: Cropped_Tumors\\benign\\tumor_335_mask0.png\n",
      "Saved: Cropped_Tumors\\benign\\tumor_337_mask0.png\n",
      "Saved: Cropped_Tumors\\benign\\tumor_339_mask0.png\n",
      "Saved: Cropped_Tumors\\benign\\tumor_341_mask0.png\n",
      "Saved: Cropped_Tumors\\benign\\tumor_343_mask0.png\n",
      "Saved: Cropped_Tumors\\benign\\tumor_345_mask0.png\n",
      "Saved: Cropped_Tumors\\benign\\tumor_347_mask0.png\n",
      "Saved: Cropped_Tumors\\benign\\tumor_349_mask0.png\n",
      "Saved: Cropped_Tumors\\benign\\tumor_351_mask0.png\n",
      "Saved: Cropped_Tumors\\benign\\tumor_353_mask0.png\n",
      "Saved: Cropped_Tumors\\benign\\tumor_355_mask0.png\n",
      "Saved: Cropped_Tumors\\benign\\tumor_357_mask0.png\n",
      "Saved: Cropped_Tumors\\benign\\tumor_359_mask0.png\n",
      "Saved: Cropped_Tumors\\benign\\tumor_361_mask0.png\n",
      "Saved: Cropped_Tumors\\benign\\tumor_363_mask0.png\n",
      "Saved: Cropped_Tumors\\benign\\tumor_365_mask0.png\n",
      "Saved: Cropped_Tumors\\benign\\tumor_367_mask0.png\n",
      "Saved: Cropped_Tumors\\benign\\tumor_369_mask0.png\n",
      "Saved: Cropped_Tumors\\benign\\tumor_371_mask0.png\n",
      "Saved: Cropped_Tumors\\benign\\tumor_373_mask0.png\n",
      "Saved: Cropped_Tumors\\benign\\tumor_375_mask0.png\n",
      "Saved: Cropped_Tumors\\benign\\tumor_377_mask0.png\n",
      "Saved: Cropped_Tumors\\benign\\tumor_379_mask0.png\n",
      "Saved: Cropped_Tumors\\benign\\tumor_381_mask0.png\n",
      "Saved: Cropped_Tumors\\benign\\tumor_383_mask0.png\n",
      "Saved: Cropped_Tumors\\benign\\tumor_385_mask0.png\n",
      "Saved: Cropped_Tumors\\benign\\tumor_387_mask0.png\n",
      "Saved: Cropped_Tumors\\benign\\tumor_389_mask0.png\n",
      "Saved: Cropped_Tumors\\benign\\tumor_391_mask0.png\n",
      "Saved: Cropped_Tumors\\benign\\tumor_393_mask0.png\n",
      "Saved: Cropped_Tumors\\benign\\tumor_395_mask0.png\n",
      "Saved: Cropped_Tumors\\benign\\tumor_397_mask0.png\n",
      "Saved: Cropped_Tumors\\benign\\tumor_399_mask0.png\n",
      "Saved: Cropped_Tumors\\benign\\tumor_399_mask1.png\n",
      "Saved: Cropped_Tumors\\benign\\tumor_402_mask0.png\n",
      "Saved: Cropped_Tumors\\benign\\tumor_404_mask0.png\n",
      "Saved: Cropped_Tumors\\benign\\tumor_406_mask0.png\n",
      "Saved: Cropped_Tumors\\benign\\tumor_408_mask0.png\n",
      "Saved: Cropped_Tumors\\benign\\tumor_410_mask0.png\n",
      "Saved: Cropped_Tumors\\benign\\tumor_412_mask0.png\n",
      "Saved: Cropped_Tumors\\benign\\tumor_414_mask0.png\n",
      "Saved: Cropped_Tumors\\benign\\tumor_416_mask0.png\n",
      "Saved: Cropped_Tumors\\benign\\tumor_418_mask0.png\n",
      "Saved: Cropped_Tumors\\benign\\tumor_420_mask0.png\n",
      "Saved: Cropped_Tumors\\benign\\tumor_422_mask0.png\n",
      "Saved: Cropped_Tumors\\benign\\tumor_422_mask1.png\n",
      "Saved: Cropped_Tumors\\benign\\tumor_425_mask0.png\n",
      "Saved: Cropped_Tumors\\benign\\tumor_427_mask0.png\n",
      "Saved: Cropped_Tumors\\benign\\tumor_429_mask0.png\n",
      "Saved: Cropped_Tumors\\benign\\tumor_431_mask0.png\n",
      "Saved: Cropped_Tumors\\benign\\tumor_433_mask0.png\n",
      "Saved: Cropped_Tumors\\benign\\tumor_435_mask0.png\n",
      "Saved: Cropped_Tumors\\benign\\tumor_437_mask0.png\n",
      "Saved: Cropped_Tumors\\benign\\tumor_439_mask0.png\n",
      "Saved: Cropped_Tumors\\benign\\tumor_441_mask0.png\n",
      "Saved: Cropped_Tumors\\benign\\tumor_441_mask1.png\n",
      "Saved: Cropped_Tumors\\benign\\tumor_444_mask0.png\n",
      "Saved: Cropped_Tumors\\benign\\tumor_446_mask0.png\n",
      "Saved: Cropped_Tumors\\benign\\tumor_448_mask0.png\n",
      "Saved: Cropped_Tumors\\benign\\tumor_450_mask0.png\n",
      "Saved: Cropped_Tumors\\benign\\tumor_452_mask0.png\n",
      "Saved: Cropped_Tumors\\benign\\tumor_454_mask0.png\n",
      "Saved: Cropped_Tumors\\benign\\tumor_456_mask0.png\n",
      "Saved: Cropped_Tumors\\benign\\tumor_458_mask0.png\n",
      "Saved: Cropped_Tumors\\benign\\tumor_460_mask0.png\n",
      "Saved: Cropped_Tumors\\benign\\tumor_462_mask0.png\n",
      "Saved: Cropped_Tumors\\benign\\tumor_464_mask0.png\n",
      "Saved: Cropped_Tumors\\benign\\tumor_466_mask0.png\n",
      "Saved: Cropped_Tumors\\benign\\tumor_468_mask0.png\n",
      "Saved: Cropped_Tumors\\benign\\tumor_470_mask0.png\n",
      "Saved: Cropped_Tumors\\benign\\tumor_472_mask0.png\n",
      "Saved: Cropped_Tumors\\benign\\tumor_472_mask1.png\n",
      "Saved: Cropped_Tumors\\benign\\tumor_472_mask2.png\n",
      "Saved: Cropped_Tumors\\benign\\tumor_476_mask0.png\n",
      "Saved: Cropped_Tumors\\benign\\tumor_478_mask0.png\n",
      "Saved: Cropped_Tumors\\benign\\tumor_480_mask0.png\n",
      "Saved: Cropped_Tumors\\benign\\tumor_482_mask0.png\n",
      "Saved: Cropped_Tumors\\benign\\tumor_484_mask0.png\n",
      "Saved: Cropped_Tumors\\benign\\tumor_486_mask0.png\n",
      "Saved: Cropped_Tumors\\benign\\tumor_488_mask0.png\n",
      "Saved: Cropped_Tumors\\benign\\tumor_490_mask0.png\n",
      "Saved: Cropped_Tumors\\benign\\tumor_492_mask0.png\n",
      "Saved: Cropped_Tumors\\benign\\tumor_494_mask0.png\n",
      "Saved: Cropped_Tumors\\benign\\tumor_496_mask0.png\n",
      "Saved: Cropped_Tumors\\benign\\tumor_498_mask0.png\n",
      "Saved: Cropped_Tumors\\benign\\tumor_500_mask0.png\n",
      "Saved: Cropped_Tumors\\benign\\tumor_502_mask0.png\n",
      "Saved: Cropped_Tumors\\benign\\tumor_504_mask0.png\n"
     ]
    },
    {
     "name": "stderr",
     "output_type": "stream",
     "text": [
      " 39%|███▉      | 532/1355 [00:02<00:03, 216.11it/s] "
     ]
    },
    {
     "name": "stdout",
     "output_type": "stream",
     "text": [
      "Saved: Cropped_Tumors\\benign\\tumor_506_mask0.png\n",
      "Saved: Cropped_Tumors\\benign\\tumor_508_mask0.png\n",
      "Saved: Cropped_Tumors\\benign\\tumor_510_mask0.png\n",
      "Saved: Cropped_Tumors\\benign\\tumor_512_mask0.png\n",
      "Saved: Cropped_Tumors\\benign\\tumor_514_mask0.png\n",
      "Saved: Cropped_Tumors\\benign\\tumor_516_mask0.png\n",
      "Saved: Cropped_Tumors\\benign\\tumor_518_mask0.png\n",
      "Saved: Cropped_Tumors\\benign\\tumor_520_mask0.png\n",
      "Saved: Cropped_Tumors\\benign\\tumor_522_mask0.png\n",
      "Saved: Cropped_Tumors\\benign\\tumor_524_mask0.png\n",
      "Saved: Cropped_Tumors\\benign\\tumor_526_mask0.png\n",
      "Saved: Cropped_Tumors\\benign\\tumor_526_mask1.png\n",
      "Saved: Cropped_Tumors\\benign\\tumor_529_mask0.png\n",
      "Saved: Cropped_Tumors\\benign\\tumor_531_mask0.png\n",
      "Saved: Cropped_Tumors\\benign\\tumor_533_mask0.png\n",
      "Saved: Cropped_Tumors\\benign\\tumor_535_mask0.png\n",
      "Saved: Cropped_Tumors\\benign\\tumor_537_mask0.png\n",
      "Saved: Cropped_Tumors\\benign\\tumor_539_mask0.png\n",
      "Saved: Cropped_Tumors\\benign\\tumor_541_mask0.png\n",
      "Saved: Cropped_Tumors\\benign\\tumor_543_mask0.png\n",
      "Saved: Cropped_Tumors\\benign\\tumor_545_mask0.png\n",
      "Saved: Cropped_Tumors\\benign\\tumor_547_mask0.png\n",
      "Saved: Cropped_Tumors\\benign\\tumor_549_mask0.png\n",
      "Saved: Cropped_Tumors\\benign\\tumor_551_mask0.png\n",
      "Saved: Cropped_Tumors\\benign\\tumor_553_mask0.png\n",
      "Saved: Cropped_Tumors\\benign\\tumor_555_mask0.png\n",
      "Saved: Cropped_Tumors\\benign\\tumor_557_mask0.png\n",
      "Saved: Cropped_Tumors\\benign\\tumor_559_mask0.png\n",
      "Saved: Cropped_Tumors\\benign\\tumor_561_mask0.png\n",
      "Saved: Cropped_Tumors\\benign\\tumor_563_mask0.png\n",
      "Saved: Cropped_Tumors\\benign\\tumor_565_mask0.png\n",
      "Saved: Cropped_Tumors\\benign\\tumor_567_mask0.png\n",
      "Saved: Cropped_Tumors\\benign\\tumor_569_mask0.png\n",
      "Saved: Cropped_Tumors\\benign\\tumor_571_mask0.png\n",
      "Saved: Cropped_Tumors\\benign\\tumor_573_mask0.png\n",
      "Saved: Cropped_Tumors\\benign\\tumor_575_mask0.png\n",
      "Saved: Cropped_Tumors\\benign\\tumor_577_mask0.png\n",
      "Saved: Cropped_Tumors\\benign\\tumor_579_mask0.png\n",
      "Saved: Cropped_Tumors\\benign\\tumor_581_mask0.png\n",
      "Saved: Cropped_Tumors\\benign\\tumor_583_mask0.png\n",
      "Saved: Cropped_Tumors\\benign\\tumor_585_mask0.png\n",
      "Saved: Cropped_Tumors\\benign\\tumor_587_mask0.png\n",
      "Saved: Cropped_Tumors\\benign\\tumor_589_mask0.png\n",
      "Saved: Cropped_Tumors\\benign\\tumor_591_mask0.png\n",
      "Saved: Cropped_Tumors\\benign\\tumor_593_mask0.png\n",
      "Saved: Cropped_Tumors\\benign\\tumor_595_mask0.png\n",
      "Saved: Cropped_Tumors\\benign\\tumor_597_mask0.png\n",
      "Saved: Cropped_Tumors\\benign\\tumor_597_mask1.png\n",
      "Saved: Cropped_Tumors\\benign\\tumor_600_mask0.png\n",
      "Saved: Cropped_Tumors\\benign\\tumor_602_mask0.png\n",
      "Saved: Cropped_Tumors\\benign\\tumor_604_mask0.png\n",
      "Saved: Cropped_Tumors\\benign\\tumor_606_mask0.png\n",
      "Saved: Cropped_Tumors\\benign\\tumor_608_mask0.png\n",
      "Saved: Cropped_Tumors\\benign\\tumor_610_mask0.png\n",
      "Saved: Cropped_Tumors\\benign\\tumor_612_mask0.png\n",
      "Saved: Cropped_Tumors\\benign\\tumor_614_mask0.png\n",
      "Saved: Cropped_Tumors\\benign\\tumor_616_mask0.png\n",
      "Saved: Cropped_Tumors\\benign\\tumor_618_mask0.png\n",
      "Saved: Cropped_Tumors\\benign\\tumor_620_mask0.png\n",
      "Saved: Cropped_Tumors\\benign\\tumor_622_mask0.png\n",
      "Saved: Cropped_Tumors\\benign\\tumor_624_mask0.png\n",
      "Saved: Cropped_Tumors\\benign\\tumor_626_mask0.png\n",
      "Saved: Cropped_Tumors\\benign\\tumor_628_mask0.png\n",
      "Saved: Cropped_Tumors\\benign\\tumor_630_mask0.png\n",
      "Saved: Cropped_Tumors\\benign\\tumor_632_mask0.png\n"
     ]
    },
    {
     "name": "stderr",
     "output_type": "stream",
     "text": [
      " 48%|████▊     | 644/1355 [00:02<00:03, 190.06it/s]"
     ]
    },
    {
     "name": "stdout",
     "output_type": "stream",
     "text": [
      "Saved: Cropped_Tumors\\benign\\tumor_634_mask0.png\n",
      "Saved: Cropped_Tumors\\benign\\tumor_636_mask0.png\n",
      "Saved: Cropped_Tumors\\benign\\tumor_638_mask0.png\n",
      "Saved: Cropped_Tumors\\benign\\tumor_640_mask0.png\n",
      "Saved: Cropped_Tumors\\benign\\tumor_642_mask0.png\n",
      "Saved: Cropped_Tumors\\benign\\tumor_644_mask0.png\n",
      "Saved: Cropped_Tumors\\benign\\tumor_646_mask0.png\n",
      "Saved: Cropped_Tumors\\benign\\tumor_648_mask0.png\n",
      "Saved: Cropped_Tumors\\benign\\tumor_650_mask0.png\n",
      "Saved: Cropped_Tumors\\benign\\tumor_652_mask0.png\n",
      "Saved: Cropped_Tumors\\benign\\tumor_654_mask0.png\n",
      "Saved: Cropped_Tumors\\benign\\tumor_656_mask0.png\n",
      "Saved: Cropped_Tumors\\benign\\tumor_658_mask0.png\n",
      "Saved: Cropped_Tumors\\benign\\tumor_660_mask0.png\n",
      "Saved: Cropped_Tumors\\benign\\tumor_662_mask0.png\n",
      "Saved: Cropped_Tumors\\benign\\tumor_664_mask0.png\n",
      "Saved: Cropped_Tumors\\benign\\tumor_666_mask0.png\n",
      "Saved: Cropped_Tumors\\benign\\tumor_666_mask1.png\n",
      "Saved: Cropped_Tumors\\benign\\tumor_669_mask0.png\n",
      "Saved: Cropped_Tumors\\benign\\tumor_671_mask0.png\n",
      "Saved: Cropped_Tumors\\benign\\tumor_673_mask0.png\n",
      "Saved: Cropped_Tumors\\benign\\tumor_675_mask0.png\n",
      "Saved: Cropped_Tumors\\benign\\tumor_677_mask0.png\n",
      "Saved: Cropped_Tumors\\benign\\tumor_679_mask0.png\n",
      "Saved: Cropped_Tumors\\benign\\tumor_681_mask0.png\n",
      "Saved: Cropped_Tumors\\benign\\tumor_683_mask0.png\n",
      "Saved: Cropped_Tumors\\benign\\tumor_685_mask0.png\n",
      "Saved: Cropped_Tumors\\benign\\tumor_687_mask0.png\n"
     ]
    },
    {
     "name": "stderr",
     "output_type": "stream",
     "text": [
      " 53%|█████▎    | 712/1355 [00:03<00:03, 178.31it/s]"
     ]
    },
    {
     "name": "stdout",
     "output_type": "stream",
     "text": [
      "Saved: Cropped_Tumors\\benign\\tumor_689_mask0.png\n",
      "Saved: Cropped_Tumors\\benign\\tumor_691_mask0.png\n",
      "Saved: Cropped_Tumors\\benign\\tumor_693_mask0.png\n",
      "Saved: Cropped_Tumors\\benign\\tumor_695_mask0.png\n",
      "Saved: Cropped_Tumors\\benign\\tumor_697_mask0.png\n",
      "Saved: Cropped_Tumors\\benign\\tumor_699_mask0.png\n",
      "Saved: Cropped_Tumors\\benign\\tumor_701_mask0.png\n",
      "Saved: Cropped_Tumors\\benign\\tumor_703_mask0.png\n",
      "Saved: Cropped_Tumors\\benign\\tumor_705_mask0.png\n",
      "Saved: Cropped_Tumors\\benign\\tumor_707_mask0.png\n",
      "Saved: Cropped_Tumors\\benign\\tumor_709_mask0.png\n",
      "Saved: Cropped_Tumors\\benign\\tumor_711_mask0.png\n",
      "Saved: Cropped_Tumors\\benign\\tumor_713_mask0.png\n",
      "Saved: Cropped_Tumors\\benign\\tumor_715_mask0.png\n",
      "Saved: Cropped_Tumors\\benign\\tumor_717_mask0.png\n",
      "Saved: Cropped_Tumors\\benign\\tumor_719_mask0.png\n",
      "Saved: Cropped_Tumors\\benign\\tumor_721_mask0.png\n",
      "Saved: Cropped_Tumors\\benign\\tumor_723_mask0.png\n",
      "Saved: Cropped_Tumors\\benign\\tumor_725_mask0.png\n",
      "Saved: Cropped_Tumors\\benign\\tumor_727_mask0.png\n",
      "Saved: Cropped_Tumors\\benign\\tumor_729_mask0.png\n",
      "Saved: Cropped_Tumors\\benign\\tumor_731_mask0.png\n",
      "Saved: Cropped_Tumors\\benign\\tumor_733_mask0.png\n",
      "Saved: Cropped_Tumors\\benign\\tumor_735_mask0.png\n",
      "Saved: Cropped_Tumors\\benign\\tumor_737_mask0.png\n",
      "Saved: Cropped_Tumors\\benign\\tumor_739_mask0.png\n",
      "Saved: Cropped_Tumors\\benign\\tumor_741_mask0.png\n",
      "Saved: Cropped_Tumors\\benign\\tumor_743_mask0.png\n",
      "Saved: Cropped_Tumors\\benign\\tumor_745_mask0.png\n",
      "Saved: Cropped_Tumors\\benign\\tumor_747_mask0.png\n",
      "Saved: Cropped_Tumors\\benign\\tumor_749_mask0.png\n",
      "Saved: Cropped_Tumors\\benign\\tumor_751_mask0.png\n"
     ]
    },
    {
     "name": "stderr",
     "output_type": "stream",
     "text": [
      " 56%|█████▌    | 759/1355 [00:03<00:03, 171.10it/s]"
     ]
    },
    {
     "name": "stdout",
     "output_type": "stream",
     "text": [
      "Saved: Cropped_Tumors\\benign\\tumor_753_mask0.png\n",
      "Saved: Cropped_Tumors\\benign\\tumor_755_mask0.png\n",
      "Saved: Cropped_Tumors\\benign\\tumor_757_mask0.png\n",
      "Saved: Cropped_Tumors\\benign\\tumor_759_mask0.png\n",
      "Saved: Cropped_Tumors\\benign\\tumor_761_mask0.png\n",
      "Saved: Cropped_Tumors\\benign\\tumor_763_mask0.png\n",
      "Saved: Cropped_Tumors\\benign\\tumor_765_mask0.png\n",
      "Saved: Cropped_Tumors\\benign\\tumor_767_mask0.png\n",
      "Saved: Cropped_Tumors\\benign\\tumor_769_mask0.png\n",
      "Saved: Cropped_Tumors\\benign\\tumor_771_mask0.png\n",
      "Saved: Cropped_Tumors\\benign\\tumor_773_mask0.png\n",
      "Saved: Cropped_Tumors\\benign\\tumor_775_mask0.png\n",
      "Saved: Cropped_Tumors\\benign\\tumor_777_mask0.png\n",
      "Saved: Cropped_Tumors\\benign\\tumor_779_mask0.png\n",
      "Saved: Cropped_Tumors\\benign\\tumor_781_mask0.png\n",
      "Saved: Cropped_Tumors\\benign\\tumor_783_mask0.png\n"
     ]
    },
    {
     "name": "stderr",
     "output_type": "stream",
     "text": [
      " 59%|█████▊    | 794/1355 [00:03<00:03, 166.81it/s]"
     ]
    },
    {
     "name": "stdout",
     "output_type": "stream",
     "text": [
      "Saved: Cropped_Tumors\\benign\\tumor_785_mask0.png\n",
      "Saved: Cropped_Tumors\\benign\\tumor_785_mask1.png\n",
      "Saved: Cropped_Tumors\\benign\\tumor_788_mask0.png\n",
      "Saved: Cropped_Tumors\\benign\\tumor_790_mask0.png\n",
      "Saved: Cropped_Tumors\\benign\\tumor_792_mask0.png\n",
      "Saved: Cropped_Tumors\\benign\\tumor_794_mask0.png\n",
      "Saved: Cropped_Tumors\\benign\\tumor_796_mask0.png\n",
      "Saved: Cropped_Tumors\\benign\\tumor_798_mask0.png\n",
      "Saved: Cropped_Tumors\\benign\\tumor_800_mask0.png\n",
      "Saved: Cropped_Tumors\\benign\\tumor_802_mask0.png\n",
      "Saved: Cropped_Tumors\\benign\\tumor_804_mask0.png\n",
      "Saved: Cropped_Tumors\\benign\\tumor_806_mask0.png\n",
      "Saved: Cropped_Tumors\\benign\\tumor_808_mask0.png\n",
      "Saved: Cropped_Tumors\\benign\\tumor_810_mask0.png\n",
      "Saved: Cropped_Tumors\\benign\\tumor_812_mask0.png\n"
     ]
    },
    {
     "name": "stderr",
     "output_type": "stream",
     "text": [
      " 61%|██████    | 822/1355 [00:04<00:03, 156.74it/s]"
     ]
    },
    {
     "name": "stdout",
     "output_type": "stream",
     "text": [
      "Saved: Cropped_Tumors\\benign\\tumor_814_mask0.png\n",
      "Saved: Cropped_Tumors\\benign\\tumor_816_mask0.png\n",
      "Saved: Cropped_Tumors\\benign\\tumor_818_mask0.png\n",
      "Saved: Cropped_Tumors\\benign\\tumor_820_mask0.png\n",
      "Saved: Cropped_Tumors\\benign\\tumor_822_mask0.png\n",
      "Saved: Cropped_Tumors\\benign\\tumor_824_mask0.png\n",
      "Saved: Cropped_Tumors\\benign\\tumor_826_mask0.png\n",
      "Saved: Cropped_Tumors\\benign\\tumor_828_mask0.png\n",
      "Saved: Cropped_Tumors\\benign\\tumor_830_mask0.png\n",
      "Saved: Cropped_Tumors\\benign\\tumor_832_mask0.png\n",
      "Saved: Cropped_Tumors\\benign\\tumor_834_mask0.png\n",
      "Saved: Cropped_Tumors\\benign\\tumor_836_mask0.png\n"
     ]
    },
    {
     "name": "stderr",
     "output_type": "stream",
     "text": [
      " 64%|██████▍   | 866/1355 [00:04<00:03, 157.37it/s]"
     ]
    },
    {
     "name": "stdout",
     "output_type": "stream",
     "text": [
      "Saved: Cropped_Tumors\\benign\\tumor_838_mask0.png\n",
      "Saved: Cropped_Tumors\\benign\\tumor_840_mask0.png\n",
      "Saved: Cropped_Tumors\\benign\\tumor_842_mask0.png\n",
      "Saved: Cropped_Tumors\\benign\\tumor_842_mask1.png\n",
      "Saved: Cropped_Tumors\\benign\\tumor_845_mask0.png\n",
      "Saved: Cropped_Tumors\\benign\\tumor_847_mask0.png\n",
      "Saved: Cropped_Tumors\\benign\\tumor_849_mask0.png\n",
      "Saved: Cropped_Tumors\\benign\\tumor_851_mask0.png\n",
      "Saved: Cropped_Tumors\\benign\\tumor_853_mask0.png\n",
      "Saved: Cropped_Tumors\\benign\\tumor_855_mask0.png\n",
      "Saved: Cropped_Tumors\\benign\\tumor_857_mask0.png\n",
      "Saved: Cropped_Tumors\\benign\\tumor_859_mask0.png\n",
      "Saved: Cropped_Tumors\\benign\\tumor_861_mask0.png\n",
      "Saved: Cropped_Tumors\\benign\\tumor_863_mask0.png\n",
      "Saved: Cropped_Tumors\\benign\\tumor_865_mask0.png\n",
      "Saved: Cropped_Tumors\\benign\\tumor_867_mask0.png\n",
      "Saved: Cropped_Tumors\\benign\\tumor_869_mask0.png\n",
      "Saved: Cropped_Tumors\\benign\\tumor_871_mask0.png\n",
      "Saved: Cropped_Tumors\\benign\\tumor_873_mask0.png\n"
     ]
    },
    {
     "name": "stderr",
     "output_type": "stream",
     "text": [
      " 67%|██████▋   | 903/1355 [00:04<00:02, 156.22it/s]"
     ]
    },
    {
     "name": "stdout",
     "output_type": "stream",
     "text": [
      "Saved: Cropped_Tumors\\benign\\tumor_875_mask0.png\n",
      "Saved: Cropped_Tumors\\benign\\tumor_877_mask0.png\n",
      "Saved: Cropped_Tumors\\benign\\tumor_879_mask0.png\n",
      "Saved: Cropped_Tumors\\benign\\tumor_881_mask0.png\n",
      "Saved: Cropped_Tumors\\benign\\tumor_883_mask0.png\n",
      "Saved: Cropped_Tumors\\benign\\tumor_885_mask0.png\n",
      "Saved: Cropped_Tumors\\benign\\tumor_887_mask0.png\n",
      "Saved: Cropped_Tumors\\benign\\tumor_889_mask0.png\n",
      "Saved: Cropped_Tumors\\benign\\tumor_891_mask0.png\n",
      "Saved: Cropped_Tumors\\benign\\tumor_893_mask0.png\n",
      "Saved: Cropped_Tumors\\benign\\tumor_893_mask1.png\n",
      "Saved: Cropped_Tumors\\benign\\tumor_896_mask0.png\n",
      "Saved: Cropped_Tumors\\benign\\tumor_898_mask0.png\n",
      "Saved: Cropped_Tumors\\benign\\tumor_900_mask0.png\n",
      "Saved: Cropped_Tumors\\benign\\tumor_902_mask0.png\n",
      "Saved: Cropped_Tumors\\benign\\tumor_902_mask1.png\n",
      "Saved: Cropped_Tumors\\benign\\tumor_905_mask0.png\n",
      "Saved: Cropped_Tumors\\benign\\tumor_907_mask0.png\n",
      "Saved: Cropped_Tumors\\benign\\tumor_909_mask0.png\n"
     ]
    },
    {
     "name": "stderr",
     "output_type": "stream",
     "text": [
      " 69%|██████▉   | 940/1355 [00:04<00:02, 162.74it/s]"
     ]
    },
    {
     "name": "stdout",
     "output_type": "stream",
     "text": [
      "Saved: Cropped_Tumors\\benign\\tumor_911_mask0.png\n",
      "Saved: Cropped_Tumors\\benign\\tumor_913_mask0.png\n",
      "Saved: Cropped_Tumors\\benign\\tumor_915_mask0.png\n",
      "Saved: Cropped_Tumors\\benign\\tumor_917_mask0.png\n",
      "Saved: Cropped_Tumors\\benign\\tumor_919_mask0.png\n",
      "Saved: Cropped_Tumors\\benign\\tumor_921_mask0.png\n",
      "Saved: Cropped_Tumors\\benign\\tumor_923_mask0.png\n",
      "Saved: Cropped_Tumors\\benign\\tumor_925_mask0.png\n",
      "Saved: Cropped_Tumors\\benign\\tumor_927_mask0.png\n",
      "Saved: Cropped_Tumors\\benign\\tumor_929_mask0.png\n",
      "Saved: Cropped_Tumors\\benign\\tumor_931_mask0.png\n",
      "Saved: Cropped_Tumors\\benign\\tumor_933_mask0.png\n",
      "Saved: Cropped_Tumors\\benign\\tumor_935_mask0.png\n",
      "Saved: Cropped_Tumors\\benign\\tumor_937_mask0.png\n",
      "Saved: Cropped_Tumors\\benign\\tumor_939_mask0.png\n",
      "Saved: Cropped_Tumors\\benign\\tumor_941_mask0.png\n",
      "Saved: Cropped_Tumors\\benign\\tumor_943_mask0.png\n",
      "Saved: Cropped_Tumors\\benign\\tumor_945_mask0.png\n"
     ]
    },
    {
     "name": "stderr",
     "output_type": "stream",
     "text": [
      " 72%|███████▏  | 977/1355 [00:05<00:02, 166.69it/s]"
     ]
    },
    {
     "name": "stdout",
     "output_type": "stream",
     "text": [
      "Saved: Cropped_Tumors\\benign\\tumor_947_mask0.png\n",
      "Saved: Cropped_Tumors\\benign\\tumor_949_mask0.png\n",
      "Saved: Cropped_Tumors\\benign\\tumor_951_mask0.png\n",
      "Saved: Cropped_Tumors\\benign\\tumor_953_mask0.png\n",
      "Saved: Cropped_Tumors\\benign\\tumor_953_mask1.png\n",
      "Saved: Cropped_Tumors\\benign\\tumor_956_mask0.png\n",
      "Saved: Cropped_Tumors\\benign\\tumor_958_mask0.png\n",
      "Saved: Cropped_Tumors\\benign\\tumor_960_mask0.png\n",
      "Saved: Cropped_Tumors\\benign\\tumor_962_mask0.png\n",
      "Saved: Cropped_Tumors\\benign\\tumor_964_mask0.png\n",
      "Saved: Cropped_Tumors\\benign\\tumor_966_mask0.png\n",
      "Saved: Cropped_Tumors\\benign\\tumor_968_mask0.png\n",
      "Saved: Cropped_Tumors\\benign\\tumor_970_mask0.png\n",
      "Saved: Cropped_Tumors\\benign\\tumor_972_mask0.png\n",
      "Saved: Cropped_Tumors\\benign\\tumor_974_mask0.png\n",
      "Saved: Cropped_Tumors\\benign\\tumor_974_mask1.png\n",
      "Saved: Cropped_Tumors\\benign\\tumor_977_mask0.png\n",
      "Saved: Cropped_Tumors\\benign\\tumor_977_mask1.png\n",
      "Saved: Cropped_Tumors\\benign\\tumor_980_mask0.png\n",
      "Saved: Cropped_Tumors\\benign\\tumor_982_mask0.png\n"
     ]
    },
    {
     "name": "stderr",
     "output_type": "stream",
     "text": [
      " 75%|███████▍  | 1012/1355 [00:05<00:02, 152.70it/s]"
     ]
    },
    {
     "name": "stdout",
     "output_type": "stream",
     "text": [
      "Saved: Cropped_Tumors\\benign\\tumor_984_mask0.png\n",
      "Saved: Cropped_Tumors\\benign\\tumor_986_mask0.png\n",
      "Saved: Cropped_Tumors\\benign\\tumor_986_mask1.png\n",
      "Saved: Cropped_Tumors\\benign\\tumor_989_mask0.png\n",
      "Saved: Cropped_Tumors\\malignant\\tumor_991_mask0.png\n",
      "Saved: Cropped_Tumors\\malignant\\tumor_993_mask0.png\n",
      "Saved: Cropped_Tumors\\malignant\\tumor_995_mask0.png\n",
      "Saved: Cropped_Tumors\\malignant\\tumor_997_mask0.png\n",
      "Saved: Cropped_Tumors\\malignant\\tumor_999_mask0.png\n",
      "Saved: Cropped_Tumors\\malignant\\tumor_1001_mask0.png\n",
      "Saved: Cropped_Tumors\\malignant\\tumor_1003_mask0.png\n",
      "Saved: Cropped_Tumors\\malignant\\tumor_1005_mask0.png\n",
      "Saved: Cropped_Tumors\\malignant\\tumor_1007_mask0.png\n",
      "Saved: Cropped_Tumors\\malignant\\tumor_1009_mask0.png\n",
      "Saved: Cropped_Tumors\\malignant\\tumor_1011_mask0.png\n"
     ]
    },
    {
     "name": "stderr",
     "output_type": "stream",
     "text": [
      " 76%|███████▌  | 1028/1355 [00:05<00:02, 151.84it/s]"
     ]
    },
    {
     "name": "stdout",
     "output_type": "stream",
     "text": [
      "Saved: Cropped_Tumors\\malignant\\tumor_1013_mask0.png\n",
      "Saved: Cropped_Tumors\\malignant\\tumor_1015_mask0.png\n",
      "Saved: Cropped_Tumors\\malignant\\tumor_1017_mask0.png\n",
      "Saved: Cropped_Tumors\\malignant\\tumor_1019_mask0.png\n",
      "Saved: Cropped_Tumors\\malignant\\tumor_1021_mask0.png\n",
      "Saved: Cropped_Tumors\\malignant\\tumor_1023_mask0.png\n",
      "Saved: Cropped_Tumors\\malignant\\tumor_1025_mask0.png\n",
      "Saved: Cropped_Tumors\\malignant\\tumor_1027_mask0.png\n",
      "Saved: Cropped_Tumors\\malignant\\tumor_1029_mask0.png\n",
      "Saved: Cropped_Tumors\\malignant\\tumor_1031_mask0.png\n",
      "Saved: Cropped_Tumors\\malignant\\tumor_1033_mask0.png\n",
      "Saved: Cropped_Tumors\\malignant\\tumor_1035_mask0.png\n",
      "Saved: Cropped_Tumors\\malignant\\tumor_1037_mask0.png\n",
      "Saved: Cropped_Tumors\\malignant\\tumor_1039_mask0.png\n"
     ]
    },
    {
     "name": "stderr",
     "output_type": "stream",
     "text": [
      " 78%|███████▊  | 1060/1355 [00:05<00:02, 145.94it/s]"
     ]
    },
    {
     "name": "stdout",
     "output_type": "stream",
     "text": [
      "Saved: Cropped_Tumors\\malignant\\tumor_1041_mask0.png\n",
      "Saved: Cropped_Tumors\\malignant\\tumor_1043_mask0.png\n",
      "Saved: Cropped_Tumors\\malignant\\tumor_1045_mask0.png\n",
      "Saved: Cropped_Tumors\\malignant\\tumor_1047_mask0.png\n",
      "Saved: Cropped_Tumors\\malignant\\tumor_1049_mask0.png\n",
      "Saved: Cropped_Tumors\\malignant\\tumor_1051_mask0.png\n",
      "Saved: Cropped_Tumors\\malignant\\tumor_1053_mask0.png\n",
      "Saved: Cropped_Tumors\\malignant\\tumor_1055_mask0.png\n",
      "Saved: Cropped_Tumors\\malignant\\tumor_1057_mask0.png\n",
      "Saved: Cropped_Tumors\\malignant\\tumor_1059_mask0.png\n",
      "Saved: Cropped_Tumors\\malignant\\tumor_1061_mask0.png\n",
      "Saved: Cropped_Tumors\\malignant\\tumor_1063_mask0.png\n",
      "Saved: Cropped_Tumors\\malignant\\tumor_1065_mask0.png\n",
      "Saved: Cropped_Tumors\\malignant\\tumor_1067_mask0.png\n"
     ]
    },
    {
     "name": "stderr",
     "output_type": "stream",
     "text": [
      " 80%|████████  | 1089/1355 [00:06<00:02, 120.70it/s]"
     ]
    },
    {
     "name": "stdout",
     "output_type": "stream",
     "text": [
      "Saved: Cropped_Tumors\\malignant\\tumor_1069_mask0.png\n",
      "Saved: Cropped_Tumors\\malignant\\tumor_1071_mask0.png\n",
      "Saved: Cropped_Tumors\\malignant\\tumor_1073_mask0.png\n",
      "Saved: Cropped_Tumors\\malignant\\tumor_1075_mask0.png\n",
      "Saved: Cropped_Tumors\\malignant\\tumor_1077_mask0.png\n",
      "Saved: Cropped_Tumors\\malignant\\tumor_1079_mask0.png\n",
      "Saved: Cropped_Tumors\\malignant\\tumor_1081_mask0.png\n",
      "Saved: Cropped_Tumors\\malignant\\tumor_1083_mask0.png\n",
      "Saved: Cropped_Tumors\\malignant\\tumor_1085_mask0.png\n",
      "Saved: Cropped_Tumors\\malignant\\tumor_1087_mask0.png\n"
     ]
    },
    {
     "name": "stderr",
     "output_type": "stream",
     "text": [
      " 81%|████████▏ | 1102/1355 [00:06<00:02, 116.15it/s]"
     ]
    },
    {
     "name": "stdout",
     "output_type": "stream",
     "text": [
      "Saved: Cropped_Tumors\\malignant\\tumor_1089_mask0.png\n",
      "Saved: Cropped_Tumors\\malignant\\tumor_1091_mask0.png\n",
      "Saved: Cropped_Tumors\\malignant\\tumor_1093_mask0.png\n",
      "Saved: Cropped_Tumors\\malignant\\tumor_1095_mask0.png\n",
      "Saved: Cropped_Tumors\\malignant\\tumor_1097_mask0.png\n",
      "Saved: Cropped_Tumors\\malignant\\tumor_1099_mask0.png\n",
      "Saved: Cropped_Tumors\\malignant\\tumor_1101_mask0.png\n",
      "Saved: Cropped_Tumors\\malignant\\tumor_1103_mask0.png\n",
      "Saved: Cropped_Tumors\\malignant\\tumor_1105_mask0.png\n",
      "Saved: Cropped_Tumors\\malignant\\tumor_1107_mask0.png\n",
      "Saved: Cropped_Tumors\\malignant\\tumor_1109_mask0.png\n",
      "Saved: Cropped_Tumors\\malignant\\tumor_1111_mask0.png\n",
      "Saved: Cropped_Tumors\\malignant\\tumor_1113_mask0.png\n"
     ]
    },
    {
     "name": "stderr",
     "output_type": "stream",
     "text": [
      " 83%|████████▎ | 1131/1355 [00:06<00:01, 127.10it/s]"
     ]
    },
    {
     "name": "stdout",
     "output_type": "stream",
     "text": [
      "Saved: Cropped_Tumors\\malignant\\tumor_1115_mask0.png\n",
      "Saved: Cropped_Tumors\\malignant\\tumor_1117_mask0.png\n",
      "Saved: Cropped_Tumors\\malignant\\tumor_1119_mask0.png\n",
      "Saved: Cropped_Tumors\\malignant\\tumor_1121_mask0.png\n",
      "Saved: Cropped_Tumors\\malignant\\tumor_1123_mask0.png\n",
      "Saved: Cropped_Tumors\\malignant\\tumor_1125_mask0.png\n",
      "Saved: Cropped_Tumors\\malignant\\tumor_1127_mask0.png\n",
      "Saved: Cropped_Tumors\\malignant\\tumor_1129_mask0.png\n",
      "Saved: Cropped_Tumors\\malignant\\tumor_1131_mask0.png\n",
      "Saved: Cropped_Tumors\\malignant\\tumor_1133_mask0.png\n",
      "Saved: Cropped_Tumors\\malignant\\tumor_1135_mask0.png\n",
      "Saved: Cropped_Tumors\\malignant\\tumor_1137_mask0.png\n",
      "Saved: Cropped_Tumors\\malignant\\tumor_1139_mask0.png\n",
      "Saved: Cropped_Tumors\\malignant\\tumor_1141_mask0.png\n"
     ]
    },
    {
     "name": "stderr",
     "output_type": "stream",
     "text": [
      " 86%|████████▌ | 1160/1355 [00:06<00:01, 130.06it/s]"
     ]
    },
    {
     "name": "stdout",
     "output_type": "stream",
     "text": [
      "Saved: Cropped_Tumors\\malignant\\tumor_1143_mask0.png\n",
      "Saved: Cropped_Tumors\\malignant\\tumor_1145_mask0.png\n",
      "Saved: Cropped_Tumors\\malignant\\tumor_1147_mask0.png\n",
      "Saved: Cropped_Tumors\\malignant\\tumor_1149_mask0.png\n",
      "Saved: Cropped_Tumors\\malignant\\tumor_1151_mask0.png\n",
      "Saved: Cropped_Tumors\\malignant\\tumor_1153_mask0.png\n",
      "Saved: Cropped_Tumors\\malignant\\tumor_1155_mask0.png\n",
      "Saved: Cropped_Tumors\\malignant\\tumor_1157_mask0.png\n",
      "Saved: Cropped_Tumors\\malignant\\tumor_1159_mask0.png\n",
      "Saved: Cropped_Tumors\\malignant\\tumor_1161_mask0.png\n",
      "Saved: Cropped_Tumors\\malignant\\tumor_1163_mask0.png\n",
      "Saved: Cropped_Tumors\\malignant\\tumor_1165_mask0.png\n",
      "Saved: Cropped_Tumors\\malignant\\tumor_1167_mask0.png\n",
      "Saved: Cropped_Tumors\\malignant\\tumor_1169_mask0.png\n"
     ]
    },
    {
     "name": "stderr",
     "output_type": "stream",
     "text": [
      " 88%|████████▊ | 1188/1355 [00:06<00:01, 129.29it/s]"
     ]
    },
    {
     "name": "stdout",
     "output_type": "stream",
     "text": [
      "Saved: Cropped_Tumors\\malignant\\tumor_1171_mask0.png\n",
      "Saved: Cropped_Tumors\\malignant\\tumor_1173_mask0.png\n",
      "Saved: Cropped_Tumors\\malignant\\tumor_1175_mask0.png\n",
      "Saved: Cropped_Tumors\\malignant\\tumor_1177_mask0.png\n",
      "Saved: Cropped_Tumors\\malignant\\tumor_1179_mask0.png\n",
      "Saved: Cropped_Tumors\\malignant\\tumor_1181_mask0.png\n",
      "Saved: Cropped_Tumors\\malignant\\tumor_1183_mask0.png\n",
      "Saved: Cropped_Tumors\\malignant\\tumor_1185_mask0.png\n",
      "Saved: Cropped_Tumors\\malignant\\tumor_1187_mask0.png\n",
      "Saved: Cropped_Tumors\\malignant\\tumor_1189_mask0.png\n",
      "Saved: Cropped_Tumors\\malignant\\tumor_1191_mask0.png\n",
      "Saved: Cropped_Tumors\\malignant\\tumor_1193_mask0.png\n",
      "Saved: Cropped_Tumors\\malignant\\tumor_1195_mask0.png\n"
     ]
    },
    {
     "name": "stderr",
     "output_type": "stream",
     "text": [
      " 90%|████████▉ | 1216/1355 [00:07<00:01, 124.49it/s]"
     ]
    },
    {
     "name": "stdout",
     "output_type": "stream",
     "text": [
      "Saved: Cropped_Tumors\\malignant\\tumor_1197_mask0.png\n",
      "Saved: Cropped_Tumors\\malignant\\tumor_1199_mask0.png\n",
      "Saved: Cropped_Tumors\\malignant\\tumor_1201_mask0.png\n",
      "Saved: Cropped_Tumors\\malignant\\tumor_1203_mask0.png\n",
      "Saved: Cropped_Tumors\\malignant\\tumor_1205_mask0.png\n",
      "Saved: Cropped_Tumors\\malignant\\tumor_1207_mask0.png\n",
      "Saved: Cropped_Tumors\\malignant\\tumor_1209_mask0.png\n",
      "Saved: Cropped_Tumors\\malignant\\tumor_1211_mask0.png\n",
      "Saved: Cropped_Tumors\\malignant\\tumor_1213_mask0.png\n",
      "Saved: Cropped_Tumors\\malignant\\tumor_1215_mask0.png\n",
      "Saved: Cropped_Tumors\\malignant\\tumor_1217_mask0.png\n",
      "Saved: Cropped_Tumors\\malignant\\tumor_1219_mask0.png\n",
      "Saved: Cropped_Tumors\\malignant\\tumor_1221_mask0.png\n",
      "Saved: Cropped_Tumors\\malignant\\tumor_1223_mask0.png\n",
      "Saved: Cropped_Tumors\\malignant\\tumor_1225_mask0.png\n"
     ]
    },
    {
     "name": "stderr",
     "output_type": "stream",
     "text": [
      " 92%|█████████▏| 1246/1355 [00:07<00:00, 125.79it/s]"
     ]
    },
    {
     "name": "stdout",
     "output_type": "stream",
     "text": [
      "Saved: Cropped_Tumors\\malignant\\tumor_1227_mask0.png\n",
      "Saved: Cropped_Tumors\\malignant\\tumor_1229_mask0.png\n",
      "Saved: Cropped_Tumors\\malignant\\tumor_1231_mask0.png\n",
      "Saved: Cropped_Tumors\\malignant\\tumor_1233_mask0.png\n",
      "Saved: Cropped_Tumors\\malignant\\tumor_1235_mask0.png\n",
      "Saved: Cropped_Tumors\\malignant\\tumor_1237_mask0.png\n",
      "Saved: Cropped_Tumors\\malignant\\tumor_1239_mask0.png\n",
      "Saved: Cropped_Tumors\\malignant\\tumor_1241_mask0.png\n",
      "Saved: Cropped_Tumors\\malignant\\tumor_1243_mask0.png\n",
      "Saved: Cropped_Tumors\\malignant\\tumor_1245_mask0.png\n",
      "Saved: Cropped_Tumors\\malignant\\tumor_1247_mask0.png\n",
      "Saved: Cropped_Tumors\\malignant\\tumor_1249_mask0.png\n",
      "Saved: Cropped_Tumors\\malignant\\tumor_1251_mask0.png\n",
      "Saved: Cropped_Tumors\\malignant\\tumor_1253_mask0.png\n"
     ]
    },
    {
     "name": "stderr",
     "output_type": "stream",
     "text": [
      " 94%|█████████▍| 1276/1355 [00:07<00:00, 129.03it/s]"
     ]
    },
    {
     "name": "stdout",
     "output_type": "stream",
     "text": [
      "Saved: Cropped_Tumors\\malignant\\tumor_1255_mask0.png\n",
      "Saved: Cropped_Tumors\\malignant\\tumor_1257_mask0.png\n",
      "Saved: Cropped_Tumors\\malignant\\tumor_1259_mask0.png\n",
      "Saved: Cropped_Tumors\\malignant\\tumor_1261_mask0.png\n",
      "Saved: Cropped_Tumors\\malignant\\tumor_1263_mask0.png\n",
      "Saved: Cropped_Tumors\\malignant\\tumor_1265_mask0.png\n",
      "Saved: Cropped_Tumors\\malignant\\tumor_1267_mask0.png\n",
      "Saved: Cropped_Tumors\\malignant\\tumor_1269_mask0.png\n",
      "Saved: Cropped_Tumors\\malignant\\tumor_1271_mask0.png\n",
      "Saved: Cropped_Tumors\\malignant\\tumor_1273_mask0.png\n",
      "Saved: Cropped_Tumors\\malignant\\tumor_1275_mask0.png\n",
      "Saved: Cropped_Tumors\\malignant\\tumor_1277_mask0.png\n",
      "Saved: Cropped_Tumors\\malignant\\tumor_1279_mask0.png\n",
      "Saved: Cropped_Tumors\\malignant\\tumor_1281_mask0.png\n"
     ]
    },
    {
     "name": "stderr",
     "output_type": "stream",
     "text": [
      " 96%|█████████▋| 1306/1355 [00:07<00:00, 132.70it/s]"
     ]
    },
    {
     "name": "stdout",
     "output_type": "stream",
     "text": [
      "Saved: Cropped_Tumors\\malignant\\tumor_1283_mask0.png\n",
      "Saved: Cropped_Tumors\\malignant\\tumor_1285_mask0.png\n",
      "Saved: Cropped_Tumors\\malignant\\tumor_1287_mask0.png\n",
      "Saved: Cropped_Tumors\\malignant\\tumor_1289_mask0.png\n",
      "Saved: Cropped_Tumors\\malignant\\tumor_1291_mask0.png\n",
      "Saved: Cropped_Tumors\\malignant\\tumor_1293_mask0.png\n",
      "Saved: Cropped_Tumors\\malignant\\tumor_1295_mask0.png\n",
      "Saved: Cropped_Tumors\\malignant\\tumor_1297_mask0.png\n",
      "Saved: Cropped_Tumors\\malignant\\tumor_1299_mask0.png\n",
      "Saved: Cropped_Tumors\\malignant\\tumor_1301_mask0.png\n",
      "Saved: Cropped_Tumors\\malignant\\tumor_1303_mask0.png\n",
      "Saved: Cropped_Tumors\\malignant\\tumor_1305_mask0.png\n",
      "Saved: Cropped_Tumors\\malignant\\tumor_1307_mask0.png\n",
      "Saved: Cropped_Tumors\\malignant\\tumor_1309_mask0.png\n",
      "Saved: Cropped_Tumors\\malignant\\tumor_1311_mask0.png\n"
     ]
    },
    {
     "name": "stderr",
     "output_type": "stream",
     "text": [
      " 98%|█████████▊| 1334/1355 [00:07<00:00, 124.93it/s]"
     ]
    },
    {
     "name": "stdout",
     "output_type": "stream",
     "text": [
      "Saved: Cropped_Tumors\\malignant\\tumor_1313_mask0.png\n",
      "Saved: Cropped_Tumors\\malignant\\tumor_1315_mask0.png\n",
      "Saved: Cropped_Tumors\\malignant\\tumor_1317_mask0.png\n",
      "Saved: Cropped_Tumors\\malignant\\tumor_1319_mask0.png\n",
      "Saved: Cropped_Tumors\\malignant\\tumor_1321_mask0.png\n",
      "Saved: Cropped_Tumors\\malignant\\tumor_1323_mask0.png\n",
      "Saved: Cropped_Tumors\\malignant\\tumor_1325_mask0.png\n",
      "Saved: Cropped_Tumors\\malignant\\tumor_1327_mask0.png\n",
      "Saved: Cropped_Tumors\\malignant\\tumor_1329_mask0.png\n",
      "Saved: Cropped_Tumors\\malignant\\tumor_1331_mask0.png\n",
      "Saved: Cropped_Tumors\\malignant\\tumor_1333_mask0.png\n",
      "Saved: Cropped_Tumors\\malignant\\tumor_1335_mask0.png\n",
      "Saved: Cropped_Tumors\\malignant\\tumor_1337_mask0.png\n"
     ]
    },
    {
     "name": "stderr",
     "output_type": "stream",
     "text": [
      "100%|██████████| 1355/1355 [00:08<00:00, 167.05it/s]\n"
     ]
    },
    {
     "name": "stdout",
     "output_type": "stream",
     "text": [
      "Saved: Cropped_Tumors\\malignant\\tumor_1339_mask0.png\n",
      "Saved: Cropped_Tumors\\malignant\\tumor_1341_mask0.png\n",
      "Saved: Cropped_Tumors\\malignant\\tumor_1343_mask0.png\n",
      "Saved: Cropped_Tumors\\malignant\\tumor_1345_mask0.png\n",
      "Saved: Cropped_Tumors\\malignant\\tumor_1347_mask0.png\n",
      "Saved: Cropped_Tumors\\malignant\\tumor_1349_mask0.png\n",
      "Saved: Cropped_Tumors\\malignant\\tumor_1351_mask0.png\n",
      "Saved: Cropped_Tumors\\malignant\\tumor_1353_mask0.png\n"
     ]
    },
    {
     "name": "stderr",
     "output_type": "stream",
     "text": [
      "  0%|          | 0/1355 [00:00<?, ?it/s]"
     ]
    },
    {
     "name": "stdout",
     "output_type": "stream",
     "text": [
      "Saved: Cropped_Tumors\\normal\\normal_0.png\n",
      "Saved: Cropped_Tumors\\normal\\normal_2.png\n",
      "Saved: Cropped_Tumors\\normal\\normal_4.png\n",
      "Saved: Cropped_Tumors\\normal\\normal_6.png\n",
      "Saved: Cropped_Tumors\\normal\\normal_8.png\n"
     ]
    },
    {
     "name": "stderr",
     "output_type": "stream",
     "text": [
      "  1%|▏         | 17/1355 [00:00<00:08, 162.27it/s]"
     ]
    },
    {
     "name": "stdout",
     "output_type": "stream",
     "text": [
      "Saved: Cropped_Tumors\\normal\\normal_10.png\n",
      "Saved: Cropped_Tumors\\normal\\normal_12.png\n",
      "Saved: Cropped_Tumors\\normal\\normal_14.png\n",
      "Saved: Cropped_Tumors\\normal\\normal_16.png\n",
      "Saved: Cropped_Tumors\\normal\\normal_18.png\n",
      "Saved: Cropped_Tumors\\normal\\normal_20.png\n",
      "Saved: Cropped_Tumors\\normal\\normal_22.png\n",
      "Saved: Cropped_Tumors\\normal\\normal_24.png\n",
      "Saved: Cropped_Tumors\\normal\\normal_26.png\n",
      "Saved: Cropped_Tumors\\normal\\normal_28.png\n",
      "Saved: Cropped_Tumors\\normal\\normal_30.png\n"
     ]
    },
    {
     "name": "stderr",
     "output_type": "stream",
     "text": [
      "  3%|▎         | 35/1355 [00:00<00:08, 157.77it/s]"
     ]
    },
    {
     "name": "stdout",
     "output_type": "stream",
     "text": [
      "Saved: Cropped_Tumors\\normal\\normal_32.png\n",
      "Saved: Cropped_Tumors\\normal\\normal_34.png\n",
      "Saved: Cropped_Tumors\\normal\\normal_36.png\n",
      "Saved: Cropped_Tumors\\normal\\normal_38.png\n",
      "Saved: Cropped_Tumors\\normal\\normal_40.png\n"
     ]
    },
    {
     "name": "stderr",
     "output_type": "stream",
     "text": [
      "  4%|▍         | 51/1355 [00:00<00:08, 157.80it/s]"
     ]
    },
    {
     "name": "stdout",
     "output_type": "stream",
     "text": [
      "Saved: Cropped_Tumors\\normal\\normal_42.png\n",
      "Saved: Cropped_Tumors\\normal\\normal_44.png\n",
      "Saved: Cropped_Tumors\\normal\\normal_46.png\n",
      "Saved: Cropped_Tumors\\normal\\normal_48.png\n",
      "Saved: Cropped_Tumors\\normal\\normal_50.png\n",
      "Saved: Cropped_Tumors\\normal\\normal_52.png\n",
      "Saved: Cropped_Tumors\\normal\\normal_54.png\n",
      "Saved: Cropped_Tumors\\normal\\normal_56.png\n",
      "Saved: Cropped_Tumors\\normal\\normal_58.png\n",
      "Saved: Cropped_Tumors\\normal\\normal_60.png\n",
      "Saved: Cropped_Tumors\\normal\\normal_62.png\n"
     ]
    },
    {
     "name": "stderr",
     "output_type": "stream",
     "text": [
      "  5%|▍         | 67/1355 [00:00<00:08, 154.97it/s]"
     ]
    },
    {
     "name": "stdout",
     "output_type": "stream",
     "text": [
      "Saved: Cropped_Tumors\\normal\\normal_64.png\n",
      "Saved: Cropped_Tumors\\normal\\normal_66.png\n",
      "Saved: Cropped_Tumors\\normal\\normal_68.png\n",
      "Saved: Cropped_Tumors\\normal\\normal_70.png\n",
      "Saved: Cropped_Tumors\\normal\\normal_72.png\n",
      "Saved: Cropped_Tumors\\normal\\normal_74.png\n"
     ]
    },
    {
     "name": "stderr",
     "output_type": "stream",
     "text": [
      "  6%|▋         | 85/1355 [00:00<00:07, 161.04it/s]"
     ]
    },
    {
     "name": "stdout",
     "output_type": "stream",
     "text": [
      "Saved: Cropped_Tumors\\normal\\normal_76.png\n",
      "Saved: Cropped_Tumors\\normal\\normal_78.png\n",
      "Saved: Cropped_Tumors\\normal\\normal_80.png\n",
      "Saved: Cropped_Tumors\\normal\\normal_82.png\n",
      "Saved: Cropped_Tumors\\normal\\normal_84.png\n",
      "Saved: Cropped_Tumors\\normal\\normal_86.png\n",
      "Saved: Cropped_Tumors\\normal\\normal_88.png\n",
      "Saved: Cropped_Tumors\\normal\\normal_90.png\n",
      "Saved: Cropped_Tumors\\normal\\normal_92.png\n",
      "Saved: Cropped_Tumors\\normal\\normal_94.png\n",
      "Saved: Cropped_Tumors\\normal\\normal_96.png\n",
      "Saved: Cropped_Tumors\\normal\\normal_98.png\n"
     ]
    },
    {
     "name": "stderr",
     "output_type": "stream",
     "text": [
      "  8%|▊         | 103/1355 [00:00<00:07, 167.18it/s]"
     ]
    },
    {
     "name": "stdout",
     "output_type": "stream",
     "text": [
      "Saved: Cropped_Tumors\\normal\\normal_100.png\n",
      "Saved: Cropped_Tumors\\normal\\normal_102.png\n",
      "Saved: Cropped_Tumors\\normal\\normal_104.png\n",
      "Saved: Cropped_Tumors\\normal\\normal_106.png\n",
      "Saved: Cropped_Tumors\\normal\\normal_108.png\n",
      "Saved: Cropped_Tumors\\normal\\normal_110.png\n",
      "Saved: Cropped_Tumors\\normal\\normal_112.png\n"
     ]
    },
    {
     "name": "stderr",
     "output_type": "stream",
     "text": [
      "  9%|▉         | 121/1355 [00:00<00:07, 166.86it/s]"
     ]
    },
    {
     "name": "stdout",
     "output_type": "stream",
     "text": [
      "Saved: Cropped_Tumors\\normal\\normal_114.png\n",
      "Saved: Cropped_Tumors\\normal\\normal_116.png\n",
      "Saved: Cropped_Tumors\\normal\\normal_118.png\n",
      "Saved: Cropped_Tumors\\normal\\normal_120.png\n",
      "Saved: Cropped_Tumors\\normal\\normal_122.png\n",
      "Saved: Cropped_Tumors\\normal\\normal_124.png\n",
      "Saved: Cropped_Tumors\\normal\\normal_126.png\n",
      "Saved: Cropped_Tumors\\normal\\normal_128.png\n",
      "Saved: Cropped_Tumors\\normal\\normal_130.png\n"
     ]
    },
    {
     "name": "stderr",
     "output_type": "stream",
     "text": [
      " 10%|█         | 138/1355 [00:00<00:07, 160.42it/s]"
     ]
    },
    {
     "name": "stdout",
     "output_type": "stream",
     "text": [
      "Saved: Cropped_Tumors\\normal\\normal_132.png\n",
      "Saved: Cropped_Tumors\\normal\\normal_134.png\n",
      "Saved: Cropped_Tumors\\normal\\normal_136.png\n",
      "Saved: Cropped_Tumors\\normal\\normal_138.png\n",
      "Saved: Cropped_Tumors\\normal\\normal_140.png\n",
      "Saved: Cropped_Tumors\\normal\\normal_142.png\n",
      "Saved: Cropped_Tumors\\normal\\normal_144.png\n",
      "Saved: Cropped_Tumors\\normal\\normal_146.png\n"
     ]
    },
    {
     "name": "stderr",
     "output_type": "stream",
     "text": [
      " 12%|█▏        | 157/1355 [00:00<00:07, 166.14it/s]"
     ]
    },
    {
     "name": "stdout",
     "output_type": "stream",
     "text": [
      "Saved: Cropped_Tumors\\normal\\normal_148.png\n",
      "Saved: Cropped_Tumors\\normal\\normal_150.png\n",
      "Saved: Cropped_Tumors\\normal\\normal_152.png\n",
      "Saved: Cropped_Tumors\\normal\\normal_154.png\n",
      "Saved: Cropped_Tumors\\normal\\normal_156.png\n",
      "Saved: Cropped_Tumors\\normal\\normal_158.png\n",
      "Saved: Cropped_Tumors\\normal\\normal_160.png\n",
      "Saved: Cropped_Tumors\\normal\\normal_162.png\n",
      "Saved: Cropped_Tumors\\normal\\normal_164.png\n",
      "Saved: Cropped_Tumors\\normal\\normal_166.png\n",
      "Saved: Cropped_Tumors\\normal\\normal_168.png\n",
      "Saved: Cropped_Tumors\\normal\\normal_170.png\n",
      "Saved: Cropped_Tumors\\normal\\normal_172.png\n"
     ]
    },
    {
     "name": "stderr",
     "output_type": "stream",
     "text": [
      " 13%|█▎        | 177/1355 [00:01<00:06, 174.46it/s]"
     ]
    },
    {
     "name": "stdout",
     "output_type": "stream",
     "text": [
      "Saved: Cropped_Tumors\\normal\\normal_174.png\n",
      "Saved: Cropped_Tumors\\normal\\normal_176.png\n",
      "Saved: Cropped_Tumors\\normal\\normal_178.png\n",
      "Saved: Cropped_Tumors\\normal\\normal_180.png\n",
      "Saved: Cropped_Tumors\\normal\\normal_182.png\n",
      "Saved: Cropped_Tumors\\normal\\normal_184.png\n",
      "Saved: Cropped_Tumors\\normal\\normal_186.png\n",
      "Saved: Cropped_Tumors\\normal\\normal_188.png\n"
     ]
    },
    {
     "name": "stderr",
     "output_type": "stream",
     "text": [
      " 14%|█▍        | 195/1355 [00:01<00:06, 172.43it/s]"
     ]
    },
    {
     "name": "stdout",
     "output_type": "stream",
     "text": [
      "Saved: Cropped_Tumors\\normal\\normal_190.png\n",
      "Saved: Cropped_Tumors\\normal\\normal_192.png\n",
      "Saved: Cropped_Tumors\\normal\\normal_194.png\n",
      "Saved: Cropped_Tumors\\normal\\normal_196.png\n",
      "Saved: Cropped_Tumors\\normal\\normal_198.png\n",
      "Saved: Cropped_Tumors\\normal\\normal_200.png\n",
      "Saved: Cropped_Tumors\\normal\\normal_202.png\n",
      "Saved: Cropped_Tumors\\normal\\normal_204.png\n",
      "Saved: Cropped_Tumors\\normal\\normal_206.png\n"
     ]
    },
    {
     "name": "stderr",
     "output_type": "stream",
     "text": [
      " 16%|█▌        | 213/1355 [00:01<00:06, 165.74it/s]"
     ]
    },
    {
     "name": "stdout",
     "output_type": "stream",
     "text": [
      "Saved: Cropped_Tumors\\normal\\normal_208.png\n",
      "Saved: Cropped_Tumors\\normal\\normal_210.png\n",
      "Saved: Cropped_Tumors\\normal\\normal_212.png\n",
      "Saved: Cropped_Tumors\\normal\\normal_214.png\n",
      "Saved: Cropped_Tumors\\normal\\normal_216.png\n",
      "Saved: Cropped_Tumors\\normal\\normal_218.png\n",
      "Saved: Cropped_Tumors\\normal\\normal_220.png\n",
      "Saved: Cropped_Tumors\\normal\\normal_222.png\n",
      "Saved: Cropped_Tumors\\normal\\normal_224.png\n"
     ]
    },
    {
     "name": "stderr",
     "output_type": "stream",
     "text": [
      " 17%|█▋        | 232/1355 [00:01<00:06, 172.39it/s]"
     ]
    },
    {
     "name": "stdout",
     "output_type": "stream",
     "text": [
      "Saved: Cropped_Tumors\\normal\\normal_226.png\n",
      "Saved: Cropped_Tumors\\normal\\normal_228.png\n",
      "Saved: Cropped_Tumors\\normal\\normal_230.png\n",
      "Saved: Cropped_Tumors\\normal\\normal_232.png\n",
      "Saved: Cropped_Tumors\\normal\\normal_234.png\n",
      "Saved: Cropped_Tumors\\normal\\normal_236.png\n",
      "Saved: Cropped_Tumors\\normal\\normal_238.png\n",
      "Saved: Cropped_Tumors\\normal\\normal_240.png\n",
      "Saved: Cropped_Tumors\\normal\\normal_242.png\n",
      "Saved: Cropped_Tumors\\normal\\normal_244.png\n"
     ]
    },
    {
     "name": "stderr",
     "output_type": "stream",
     "text": [
      " 19%|█▊        | 253/1355 [00:01<00:06, 177.39it/s]"
     ]
    },
    {
     "name": "stdout",
     "output_type": "stream",
     "text": [
      "Saved: Cropped_Tumors\\normal\\normal_246.png\n",
      "Saved: Cropped_Tumors\\normal\\normal_248.png\n",
      "Saved: Cropped_Tumors\\normal\\normal_250.png\n",
      "Saved: Cropped_Tumors\\normal\\normal_252.png\n",
      "Saved: Cropped_Tumors\\normal\\normal_254.png\n",
      "Saved: Cropped_Tumors\\normal\\normal_256.png\n",
      "Saved: Cropped_Tumors\\normal\\normal_258.png\n",
      "Saved: Cropped_Tumors\\normal\\normal_260.png\n",
      "Saved: Cropped_Tumors\\normal\\normal_262.png\n",
      "Saved: Cropped_Tumors\\normal\\normal_264.png\n"
     ]
    },
    {
     "name": "stderr",
     "output_type": "stream",
     "text": [
      "100%|██████████| 1355/1355 [00:01<00:00, 848.42it/s]"
     ]
    },
    {
     "name": "stdout",
     "output_type": "stream",
     "text": [
      "Processing complete. Cropped tumor images and normal images are saved in: Cropped_Tumors\n"
     ]
    },
    {
     "name": "stderr",
     "output_type": "stream",
     "text": [
      "\n"
     ]
    }
   ],
   "source": [
    "# Define output directories for cropped tumors\n",
    "output_dir = \"Cropped_Tumors\"\n",
    "benign_dir = os.path.join(output_dir, \"benign\")\n",
    "malignant_dir = os.path.join(output_dir, \"malignant\")\n",
    "normal_dir = os.path.join(output_dir, \"normal\")\n",
    "\n",
    "os.makedirs(benign_dir, exist_ok=True)\n",
    "os.makedirs(malignant_dir, exist_ok=True)\n",
    "os.makedirs(normal_dir, exist_ok=True)\n",
    "\n",
    "# Create a dictionary to store multiple masks for each image\n",
    "image_mask_pairs = {}\n",
    "\n",
    "# Store last bounding box from benign/malignant images\n",
    "last_bbox = None  \n",
    "\n",
    "# Iterate through the DataFrame to pair images and masks\n",
    "for index, row in df.iterrows():\n",
    "    image_path = row[\"image_path\"]\n",
    "    \n",
    "    if \"_mask\" in image_path:  # This is a mask\n",
    "        # Extract the base image path without any mask suffix\n",
    "        base_image_path = (\n",
    "            image_path.replace(\"_mask_2.png\", \".png\")\n",
    "                      .replace(\"_mask_1.png\", \".png\")\n",
    "                      .replace(\"_mask.png\", \".png\")\n",
    "        )\n",
    "        \n",
    "        if base_image_path not in image_mask_pairs:\n",
    "            image_mask_pairs[base_image_path] = []\n",
    "        \n",
    "        # Store all available masks in a list\n",
    "        image_mask_pairs[base_image_path].append(image_path)\n",
    "\n",
    "# Process benign and malignant images first\n",
    "for index, row in tqdm(df.iterrows(), total=len(df)):\n",
    "    image_path = row[\"image_path\"]\n",
    "    label = row[\"label\"]  # 1 = benign, 2 = malignant\n",
    "\n",
    "    # Skip normal images (they will be processed later)\n",
    "    if label == 0 or \"_mask\" in image_path:\n",
    "        continue  \n",
    "\n",
    "    # Find corresponding masks (if any)\n",
    "    mask_paths = sorted(image_mask_pairs.get(image_path, []))  \n",
    "\n",
    "    # Load the ultrasound image\n",
    "    image = cv2.imread(image_path)\n",
    "    if image is None:\n",
    "        print(f\"Warning: Could not load {image_path}\")\n",
    "        continue\n",
    "    image = cv2.cvtColor(image, cv2.COLOR_BGR2RGB)\n",
    "    image = cv2.resize(image, (1024, 1024))  # Resize for consistency\n",
    "\n",
    "    # Process each mask for the image\n",
    "    for mask_index, mask_path in enumerate(mask_paths):\n",
    "        # Load the mask image\n",
    "        mask = cv2.imread(mask_path, cv2.IMREAD_GRAYSCALE)\n",
    "        if mask is None:\n",
    "            print(f\"Warning: Could not load {mask_path}\")\n",
    "            continue\n",
    "        mask = cv2.resize(mask, (1024, 1024))  # Ensure same size as image\n",
    "\n",
    "        # Find contours in the mask\n",
    "        contours, _ = cv2.findContours(mask, cv2.RETR_EXTERNAL, cv2.CHAIN_APPROX_SIMPLE)\n",
    "\n",
    "        if len(contours) == 0:\n",
    "            print(f\"No tumor detected in {mask_path}\")\n",
    "            continue\n",
    "\n",
    "        # Select the largest contour (assuming it's the tumor)\n",
    "        largest_contour = max(contours, key=cv2.contourArea)\n",
    "\n",
    "        # Get bounding box around the largest contour\n",
    "        x, y, w, h = cv2.boundingRect(largest_contour)\n",
    "        last_bbox = (x, y, w, h)  # Store last bounding box\n",
    "\n",
    "        # Extract the tumor region\n",
    "        tumor_crop = image[y:y+h, x:x+w]\n",
    "\n",
    "        # Select folder based on label\n",
    "        label_dir = benign_dir if label == 1 else malignant_dir\n",
    "\n",
    "        # Save the cropped tumor image with mask index\n",
    "        tumor_filename = os.path.join(label_dir, f\"tumor_{index}_mask{mask_index}.png\")\n",
    "        cv2.imwrite(tumor_filename, cv2.cvtColor(tumor_crop, cv2.COLOR_RGB2BGR))\n",
    "\n",
    "        print(f\"Saved: {tumor_filename}\")\n",
    "\n",
    "# Now process only normal ultrasound images using the last known bounding box\n",
    "for index, row in tqdm(df.iterrows(), total=len(df)):\n",
    "    image_path = row[\"image_path\"]\n",
    "    label = row[\"label\"]  # 0 = normal\n",
    "\n",
    "    # Process only normal ultrasound images (skip masks)\n",
    "    if label != 0 or \"_mask\" in image_path:\n",
    "        continue  \n",
    "\n",
    "    # Load the ultrasound image\n",
    "    image = cv2.imread(image_path)\n",
    "    if image is None:\n",
    "        print(f\"Warning: Could not load {image_path}\")\n",
    "        continue\n",
    "    image = cv2.cvtColor(image, cv2.COLOR_BGR2RGB)\n",
    "    image = cv2.resize(image, (1024, 1024))  # Resize for consistency\n",
    "\n",
    "    # If no bounding box has been recorded, skip the normal image\n",
    "    if last_bbox is None:\n",
    "        print(f\"Skipping {image_path}: No bounding box available from previous tumors.\")\n",
    "        continue\n",
    "\n",
    "    # Crop using the last bounding box\n",
    "    x, y, w, h = last_bbox\n",
    "    normal_crop = image[y:y+h, x:x+w]\n",
    "\n",
    "    # Save the cropped normal image\n",
    "    normal_filename = os.path.join(normal_dir, f\"normal_{index}.png\")\n",
    "    cv2.imwrite(normal_filename, cv2.cvtColor(normal_crop, cv2.COLOR_RGB2BGR))\n",
    "\n",
    "    print(f\"Saved: {normal_filename}\")\n",
    "\n",
    "print(\"Processing complete. Cropped tumor images and normal images are saved in:\", output_dir)\n"
   ]
  },
  {
   "cell_type": "markdown",
   "metadata": {},
   "source": [
    "1 random crops per normal image in order to increase the number of images we feed our CNN.  "
   ]
  },
  {
   "cell_type": "code",
   "execution_count": 11,
   "metadata": {},
   "outputs": [
    {
     "name": "stderr",
     "output_type": "stream",
     "text": [
      "  2%|▏         | 31/1355 [00:00<00:08, 160.19it/s]"
     ]
    },
    {
     "name": "stdout",
     "output_type": "stream",
     "text": [
      "Saved: Cropped_Tumors\\normal\\normal_0_crop0.png\n",
      "Saved: Cropped_Tumors\\normal\\normal_2_crop0.png\n",
      "Saved: Cropped_Tumors\\normal\\normal_4_crop0.png\n",
      "Saved: Cropped_Tumors\\normal\\normal_6_crop0.png\n",
      "Saved: Cropped_Tumors\\normal\\normal_8_crop0.png\n",
      "Saved: Cropped_Tumors\\normal\\normal_10_crop0.png\n",
      "Saved: Cropped_Tumors\\normal\\normal_12_crop0.png\n",
      "Saved: Cropped_Tumors\\normal\\normal_14_crop0.png\n",
      "Saved: Cropped_Tumors\\normal\\normal_16_crop0.png\n",
      "Saved: Cropped_Tumors\\normal\\normal_18_crop0.png\n",
      "Saved: Cropped_Tumors\\normal\\normal_20_crop0.png\n",
      "Saved: Cropped_Tumors\\normal\\normal_22_crop0.png\n",
      "Saved: Cropped_Tumors\\normal\\normal_24_crop0.png\n",
      "Saved: Cropped_Tumors\\normal\\normal_26_crop0.png\n",
      "Saved: Cropped_Tumors\\normal\\normal_28_crop0.png\n",
      "Saved: Cropped_Tumors\\normal\\normal_30_crop0.png\n",
      "Saved: Cropped_Tumors\\normal\\normal_32_crop0.png\n",
      "Saved: Cropped_Tumors\\normal\\normal_34_crop0.png\n",
      "Saved: Cropped_Tumors\\normal\\normal_36_crop0.png\n",
      "Saved: Cropped_Tumors\\normal\\normal_38_crop0.png\n",
      "Saved: Cropped_Tumors\\normal\\normal_40_crop0.png\n"
     ]
    },
    {
     "name": "stderr",
     "output_type": "stream",
     "text": [
      "  5%|▌         | 73/1355 [00:00<00:06, 190.09it/s]"
     ]
    },
    {
     "name": "stdout",
     "output_type": "stream",
     "text": [
      "Saved: Cropped_Tumors\\normal\\normal_42_crop0.png\n",
      "Saved: Cropped_Tumors\\normal\\normal_44_crop0.png\n",
      "Saved: Cropped_Tumors\\normal\\normal_46_crop0.png\n",
      "Saved: Cropped_Tumors\\normal\\normal_48_crop0.png\n",
      "Saved: Cropped_Tumors\\normal\\normal_50_crop0.png\n",
      "Saved: Cropped_Tumors\\normal\\normal_52_crop0.png\n",
      "Saved: Cropped_Tumors\\normal\\normal_54_crop0.png\n",
      "Saved: Cropped_Tumors\\normal\\normal_56_crop0.png\n",
      "Saved: Cropped_Tumors\\normal\\normal_58_crop0.png\n",
      "Saved: Cropped_Tumors\\normal\\normal_60_crop0.png\n",
      "Saved: Cropped_Tumors\\normal\\normal_62_crop0.png\n",
      "Saved: Cropped_Tumors\\normal\\normal_64_crop0.png\n",
      "Saved: Cropped_Tumors\\normal\\normal_66_crop0.png\n",
      "Saved: Cropped_Tumors\\normal\\normal_68_crop0.png\n",
      "Saved: Cropped_Tumors\\normal\\normal_70_crop0.png\n",
      "Saved: Cropped_Tumors\\normal\\normal_72_crop0.png\n",
      "Saved: Cropped_Tumors\\normal\\normal_74_crop0.png\n",
      "Saved: Cropped_Tumors\\normal\\normal_76_crop0.png\n",
      "Saved: Cropped_Tumors\\normal\\normal_78_crop0.png\n",
      "Saved: Cropped_Tumors\\normal\\normal_80_crop0.png\n"
     ]
    },
    {
     "name": "stderr",
     "output_type": "stream",
     "text": [
      "  8%|▊         | 113/1355 [00:00<00:06, 187.88it/s]"
     ]
    },
    {
     "name": "stdout",
     "output_type": "stream",
     "text": [
      "Saved: Cropped_Tumors\\normal\\normal_82_crop0.png\n",
      "Saved: Cropped_Tumors\\normal\\normal_84_crop0.png\n",
      "Saved: Cropped_Tumors\\normal\\normal_86_crop0.png\n",
      "Saved: Cropped_Tumors\\normal\\normal_88_crop0.png\n",
      "Saved: Cropped_Tumors\\normal\\normal_90_crop0.png\n",
      "Saved: Cropped_Tumors\\normal\\normal_92_crop0.png\n",
      "Saved: Cropped_Tumors\\normal\\normal_94_crop0.png\n",
      "Saved: Cropped_Tumors\\normal\\normal_96_crop0.png\n",
      "Saved: Cropped_Tumors\\normal\\normal_98_crop0.png\n",
      "Saved: Cropped_Tumors\\normal\\normal_100_crop0.png\n",
      "Saved: Cropped_Tumors\\normal\\normal_102_crop0.png\n",
      "Saved: Cropped_Tumors\\normal\\normal_104_crop0.png\n",
      "Saved: Cropped_Tumors\\normal\\normal_106_crop0.png\n",
      "Saved: Cropped_Tumors\\normal\\normal_108_crop0.png\n",
      "Saved: Cropped_Tumors\\normal\\normal_110_crop0.png\n",
      "Saved: Cropped_Tumors\\normal\\normal_112_crop0.png\n",
      "Saved: Cropped_Tumors\\normal\\normal_114_crop0.png\n",
      "Saved: Cropped_Tumors\\normal\\normal_116_crop0.png\n",
      "Saved: Cropped_Tumors\\normal\\normal_118_crop0.png\n",
      "Saved: Cropped_Tumors\\normal\\normal_120_crop0.png\n",
      "Saved: Cropped_Tumors\\normal\\normal_122_crop0.png\n",
      "Saved: Cropped_Tumors\\normal\\normal_124_crop0.png\n",
      "Saved: Cropped_Tumors\\normal\\normal_126_crop0.png\n"
     ]
    },
    {
     "name": "stderr",
     "output_type": "stream",
     "text": [
      " 12%|█▏        | 157/1355 [00:00<00:06, 199.03it/s]"
     ]
    },
    {
     "name": "stdout",
     "output_type": "stream",
     "text": [
      "Saved: Cropped_Tumors\\normal\\normal_128_crop0.png\n",
      "Saved: Cropped_Tumors\\normal\\normal_130_crop0.png\n",
      "Saved: Cropped_Tumors\\normal\\normal_132_crop0.png\n",
      "Saved: Cropped_Tumors\\normal\\normal_134_crop0.png\n",
      "Saved: Cropped_Tumors\\normal\\normal_136_crop0.png\n",
      "Saved: Cropped_Tumors\\normal\\normal_138_crop0.png\n",
      "Saved: Cropped_Tumors\\normal\\normal_140_crop0.png\n",
      "Saved: Cropped_Tumors\\normal\\normal_142_crop0.png\n",
      "Saved: Cropped_Tumors\\normal\\normal_144_crop0.png\n",
      "Saved: Cropped_Tumors\\normal\\normal_146_crop0.png\n",
      "Saved: Cropped_Tumors\\normal\\normal_148_crop0.png\n",
      "Saved: Cropped_Tumors\\normal\\normal_150_crop0.png\n",
      "Saved: Cropped_Tumors\\normal\\normal_152_crop0.png\n",
      "Saved: Cropped_Tumors\\normal\\normal_154_crop0.png\n",
      "Saved: Cropped_Tumors\\normal\\normal_156_crop0.png\n",
      "Saved: Cropped_Tumors\\normal\\normal_158_crop0.png\n",
      "Saved: Cropped_Tumors\\normal\\normal_160_crop0.png\n",
      "Saved: Cropped_Tumors\\normal\\normal_162_crop0.png\n",
      "Saved: Cropped_Tumors\\normal\\normal_164_crop0.png\n",
      "Saved: Cropped_Tumors\\normal\\normal_166_crop0.png\n",
      "Saved: Cropped_Tumors\\normal\\normal_168_crop0.png\n",
      "Saved: Cropped_Tumors\\normal\\normal_170_crop0.png\n",
      "Saved: Cropped_Tumors\\normal\\normal_172_crop0.png\n"
     ]
    },
    {
     "name": "stderr",
     "output_type": "stream",
     "text": [
      " 15%|█▍        | 201/1355 [00:01<00:05, 197.32it/s]"
     ]
    },
    {
     "name": "stdout",
     "output_type": "stream",
     "text": [
      "Saved: Cropped_Tumors\\normal\\normal_174_crop0.png\n",
      "Saved: Cropped_Tumors\\normal\\normal_176_crop0.png\n",
      "Saved: Cropped_Tumors\\normal\\normal_178_crop0.png\n",
      "Saved: Cropped_Tumors\\normal\\normal_180_crop0.png\n",
      "Saved: Cropped_Tumors\\normal\\normal_182_crop0.png\n",
      "Saved: Cropped_Tumors\\normal\\normal_184_crop0.png\n",
      "Saved: Cropped_Tumors\\normal\\normal_186_crop0.png\n",
      "Saved: Cropped_Tumors\\normal\\normal_188_crop0.png\n",
      "Saved: Cropped_Tumors\\normal\\normal_190_crop0.png\n",
      "Saved: Cropped_Tumors\\normal\\normal_192_crop0.png\n",
      "Saved: Cropped_Tumors\\normal\\normal_194_crop0.png\n",
      "Saved: Cropped_Tumors\\normal\\normal_196_crop0.png\n",
      "Saved: Cropped_Tumors\\normal\\normal_198_crop0.png\n",
      "Saved: Cropped_Tumors\\normal\\normal_200_crop0.png\n",
      "Saved: Cropped_Tumors\\normal\\normal_202_crop0.png\n",
      "Saved: Cropped_Tumors\\normal\\normal_204_crop0.png\n",
      "Saved: Cropped_Tumors\\normal\\normal_206_crop0.png\n",
      "Saved: Cropped_Tumors\\normal\\normal_208_crop0.png\n",
      "Saved: Cropped_Tumors\\normal\\normal_210_crop0.png\n"
     ]
    },
    {
     "name": "stderr",
     "output_type": "stream",
     "text": [
      " 18%|█▊        | 247/1355 [00:01<00:05, 212.55it/s]"
     ]
    },
    {
     "name": "stdout",
     "output_type": "stream",
     "text": [
      "Saved: Cropped_Tumors\\normal\\normal_212_crop0.png\n",
      "Saved: Cropped_Tumors\\normal\\normal_214_crop0.png\n",
      "Saved: Cropped_Tumors\\normal\\normal_216_crop0.png\n",
      "Saved: Cropped_Tumors\\normal\\normal_218_crop0.png\n",
      "Saved: Cropped_Tumors\\normal\\normal_220_crop0.png\n",
      "Saved: Cropped_Tumors\\normal\\normal_222_crop0.png\n",
      "Saved: Cropped_Tumors\\normal\\normal_224_crop0.png\n",
      "Saved: Cropped_Tumors\\normal\\normal_226_crop0.png\n",
      "Saved: Cropped_Tumors\\normal\\normal_228_crop0.png\n",
      "Saved: Cropped_Tumors\\normal\\normal_230_crop0.png\n",
      "Saved: Cropped_Tumors\\normal\\normal_232_crop0.png\n",
      "Saved: Cropped_Tumors\\normal\\normal_234_crop0.png\n",
      "Saved: Cropped_Tumors\\normal\\normal_236_crop0.png\n",
      "Saved: Cropped_Tumors\\normal\\normal_238_crop0.png\n",
      "Saved: Cropped_Tumors\\normal\\normal_240_crop0.png\n",
      "Saved: Cropped_Tumors\\normal\\normal_242_crop0.png\n",
      "Saved: Cropped_Tumors\\normal\\normal_244_crop0.png\n",
      "Saved: Cropped_Tumors\\normal\\normal_246_crop0.png\n",
      "Saved: Cropped_Tumors\\normal\\normal_248_crop0.png\n",
      "Saved: Cropped_Tumors\\normal\\normal_250_crop0.png\n",
      "Saved: Cropped_Tumors\\normal\\normal_252_crop0.png\n",
      "Saved: Cropped_Tumors\\normal\\normal_254_crop0.png\n",
      "Saved: Cropped_Tumors\\normal\\normal_256_crop0.png\n"
     ]
    },
    {
     "name": "stderr",
     "output_type": "stream",
     "text": [
      "100%|██████████| 1355/1355 [00:01<00:00, 940.83it/s]"
     ]
    },
    {
     "name": "stdout",
     "output_type": "stream",
     "text": [
      "Saved: Cropped_Tumors\\normal\\normal_258_crop0.png\n",
      "Saved: Cropped_Tumors\\normal\\normal_260_crop0.png\n",
      "Saved: Cropped_Tumors\\normal\\normal_262_crop0.png\n",
      "Saved: Cropped_Tumors\\normal\\normal_264_crop0.png\n",
      "Processing complete. Randomly cropped normal images are saved in: Cropped_Tumors\\normal\n"
     ]
    },
    {
     "name": "stderr",
     "output_type": "stream",
     "text": [
      "\n"
     ]
    }
   ],
   "source": [
    "import random\n",
    "\n",
    "# Define output directory for cropped normal images\n",
    "output_dir = \"Cropped_Tumors\"\n",
    "normal_dir = os.path.join(output_dir, \"normal\")\n",
    "\n",
    "os.makedirs(normal_dir, exist_ok=True)\n",
    "\n",
    "# Random crop parameters\n",
    "NUM_CROPS = 1  # Number of crops per normal image\n",
    "CROP_SIZE = 128  # Size of each cropped region (128x128 pixels)\n",
    "\n",
    "# Iterate through the DataFrame and process only normal ultrasound images\n",
    "for index, row in tqdm(df.iterrows(), total=len(df)):\n",
    "    image_path = row[\"image_path\"]\n",
    "    label = row[\"label\"]  # 0 = normal\n",
    "\n",
    "    # Skip non-normal images and all mask images\n",
    "    if label != 0 or \"_mask\" in image_path:\n",
    "        continue  \n",
    "\n",
    "    # Load the normal ultrasound image\n",
    "    image = cv2.imread(image_path)\n",
    "    if image is None:\n",
    "        print(f\"Warning: Could not load {image_path}\")\n",
    "        continue\n",
    "    image = cv2.cvtColor(image, cv2.COLOR_BGR2RGB)\n",
    "    image = cv2.resize(image, (1024, 1024))  # Resize for consistency\n",
    "\n",
    "    # Generate random crops\n",
    "    for crop_index in range(NUM_CROPS):\n",
    "        # Randomly select a top-left corner for the crop (within image bounds)\n",
    "        x = random.randint(0, 1024 - CROP_SIZE)\n",
    "        y = random.randint(0, 1024 - CROP_SIZE)\n",
    "\n",
    "        # Extract the crop\n",
    "        crop = image[y:y + CROP_SIZE, x:x + CROP_SIZE]\n",
    "\n",
    "        # Save the cropped image\n",
    "        crop_filename = os.path.join(normal_dir, f\"normal_{index}_crop{crop_index}.png\")\n",
    "        cv2.imwrite(crop_filename, cv2.cvtColor(crop, cv2.COLOR_RGB2BGR))\n",
    "\n",
    "        print(f\"Saved: {crop_filename}\")\n",
    "\n",
    "print(\"Processing complete. Randomly cropped normal images are saved in:\", normal_dir)\n"
   ]
  },
  {
   "cell_type": "markdown",
   "metadata": {},
   "source": [
    "### Now we retrieve the index of the images of the validation set (that we will use to feed the CNN either through SAM or just by giving the full img)"
   ]
  },
  {
   "cell_type": "code",
   "execution_count": 12,
   "metadata": {},
   "outputs": [
    {
     "data": {
      "application/vnd.microsoft.datawrangler.viewer.v0+json": {
       "columns": [
        {
         "name": "index",
         "rawType": "int64",
         "type": "integer"
        },
        {
         "name": "filename",
         "rawType": "object",
         "type": "string"
        },
        {
         "name": "category",
         "rawType": "object",
         "type": "string"
        },
        {
         "name": "extracted_index",
         "rawType": "float64",
         "type": "float"
        }
       ],
       "conversionMethod": "pd.DataFrame",
       "ref": "af03a256-7a63-42cb-82c4-c86809ff72b5",
       "rows": [
        [
         "0",
         "tumor_907_mask0.png",
         "benign",
         "907.0"
        ],
        [
         "1",
         "tumor_331_mask0.png",
         "benign",
         "331.0"
        ],
        [
         "2",
         "tumor_295_mask0.png",
         "benign",
         "295.0"
        ],
        [
         "3",
         "tumor_883_mask0.png",
         "benign",
         "883.0"
        ],
        [
         "4",
         "tumor_379_mask0.png",
         "benign",
         "379.0"
        ],
        [
         "5",
         "tumor_735_mask0.png",
         "benign",
         "735.0"
        ],
        [
         "6",
         "tumor_416_mask0.png",
         "benign",
         "416.0"
        ],
        [
         "7",
         "tumor_498_mask0.png",
         "benign",
         "498.0"
        ],
        [
         "8",
         "tumor_865_mask0.png",
         "benign",
         "865.0"
        ],
        [
         "9",
         "tumor_512_mask0.png",
         "benign",
         "512.0"
        ],
        [
         "10",
         "tumor_723_mask0.png",
         "benign",
         "723.0"
        ],
        [
         "11",
         "tumor_343_mask0.png",
         "benign",
         "343.0"
        ],
        [
         "12",
         "tumor_565_mask0.png",
         "benign",
         "565.0"
        ],
        [
         "13",
         "tumor_375_mask0.png",
         "benign",
         "375.0"
        ],
        [
         "14",
         "tumor_569_mask0.png",
         "benign",
         "569.0"
        ],
        [
         "15",
         "tumor_812_mask0.png",
         "benign",
         "812.0"
        ],
        [
         "16",
         "tumor_266_mask0.png",
         "benign",
         "266.0"
        ],
        [
         "17",
         "tumor_719_mask0.png",
         "benign",
         "719.0"
        ],
        [
         "18",
         "tumor_923_mask0.png",
         "benign",
         "923.0"
        ],
        [
         "19",
         "tumor_464_mask0.png",
         "benign",
         "464.0"
        ],
        [
         "20",
         "tumor_283_mask0.png",
         "benign",
         "283.0"
        ],
        [
         "21",
         "tumor_618_mask0.png",
         "benign",
         "618.0"
        ],
        [
         "22",
         "tumor_408_mask0.png",
         "benign",
         "408.0"
        ],
        [
         "23",
         "tumor_731_mask0.png",
         "benign",
         "731.0"
        ],
        [
         "24",
         "tumor_767_mask0.png",
         "benign",
         "767.0"
        ],
        [
         "25",
         "tumor_533_mask0.png",
         "benign",
         "533.0"
        ],
        [
         "26",
         "tumor_707_mask0.png",
         "benign",
         "707.0"
        ],
        [
         "27",
         "tumor_646_mask0.png",
         "benign",
         "646.0"
        ],
        [
         "28",
         "tumor_644_mask0.png",
         "benign",
         "644.0"
        ],
        [
         "29",
         "tumor_984_mask0.png",
         "benign",
         "984.0"
        ],
        [
         "30",
         "tumor_315_mask0.png",
         "benign",
         "315.0"
        ],
        [
         "31",
         "tumor_476_mask0.png",
         "benign",
         "476.0"
        ],
        [
         "32",
         "tumor_349_mask0.png",
         "benign",
         "349.0"
        ],
        [
         "33",
         "tumor_968_mask0.png",
         "benign",
         "968.0"
        ],
        [
         "34",
         "tumor_832_mask0.png",
         "benign",
         "832.0"
        ],
        [
         "35",
         "tumor_488_mask0.png",
         "benign",
         "488.0"
        ],
        [
         "36",
         "tumor_391_mask0.png",
         "benign",
         "391.0"
        ],
        [
         "37",
         "tumor_309_mask0.png",
         "benign",
         "309.0"
        ],
        [
         "38",
         "tumor_563_mask0.png",
         "benign",
         "563.0"
        ],
        [
         "39",
         "tumor_610_mask0.png",
         "benign",
         "610.0"
        ],
        [
         "40",
         "tumor_755_mask0.png",
         "benign",
         "755.0"
        ],
        [
         "41",
         "tumor_849_mask0.png",
         "benign",
         "849.0"
        ],
        [
         "42",
         "tumor_325_mask0.png",
         "benign",
         "325.0"
        ],
        [
         "43",
         "tumor_695_mask0.png",
         "benign",
         "695.0"
        ],
        [
         "44",
         "tumor_478_mask0.png",
         "benign",
         "478.0"
        ],
        [
         "45",
         "tumor_508_mask0.png",
         "benign",
         "508.0"
        ],
        [
         "46",
         "tumor_441_mask1.png",
         "benign",
         "441.0"
        ],
        [
         "47",
         "tumor_377_mask0.png",
         "benign",
         "377.0"
        ],
        [
         "48",
         "tumor_275_mask0.png",
         "benign",
         "275.0"
        ],
        [
         "49",
         "tumor_355_mask0.png",
         "benign",
         "355.0"
        ]
       ],
       "shape": {
        "columns": 3,
        "rows": 166
       }
      },
      "text/html": [
       "<div>\n",
       "<style scoped>\n",
       "    .dataframe tbody tr th:only-of-type {\n",
       "        vertical-align: middle;\n",
       "    }\n",
       "\n",
       "    .dataframe tbody tr th {\n",
       "        vertical-align: top;\n",
       "    }\n",
       "\n",
       "    .dataframe thead th {\n",
       "        text-align: right;\n",
       "    }\n",
       "</style>\n",
       "<table border=\"1\" class=\"dataframe\">\n",
       "  <thead>\n",
       "    <tr style=\"text-align: right;\">\n",
       "      <th></th>\n",
       "      <th>filename</th>\n",
       "      <th>category</th>\n",
       "      <th>extracted_index</th>\n",
       "    </tr>\n",
       "  </thead>\n",
       "  <tbody>\n",
       "    <tr>\n",
       "      <th>0</th>\n",
       "      <td>tumor_907_mask0.png</td>\n",
       "      <td>benign</td>\n",
       "      <td>907.0</td>\n",
       "    </tr>\n",
       "    <tr>\n",
       "      <th>1</th>\n",
       "      <td>tumor_331_mask0.png</td>\n",
       "      <td>benign</td>\n",
       "      <td>331.0</td>\n",
       "    </tr>\n",
       "    <tr>\n",
       "      <th>2</th>\n",
       "      <td>tumor_295_mask0.png</td>\n",
       "      <td>benign</td>\n",
       "      <td>295.0</td>\n",
       "    </tr>\n",
       "    <tr>\n",
       "      <th>3</th>\n",
       "      <td>tumor_883_mask0.png</td>\n",
       "      <td>benign</td>\n",
       "      <td>883.0</td>\n",
       "    </tr>\n",
       "    <tr>\n",
       "      <th>4</th>\n",
       "      <td>tumor_379_mask0.png</td>\n",
       "      <td>benign</td>\n",
       "      <td>379.0</td>\n",
       "    </tr>\n",
       "    <tr>\n",
       "      <th>...</th>\n",
       "      <td>...</td>\n",
       "      <td>...</td>\n",
       "      <td>...</td>\n",
       "    </tr>\n",
       "    <tr>\n",
       "      <th>161</th>\n",
       "      <td>normal_106_crop0.png</td>\n",
       "      <td>normal</td>\n",
       "      <td>NaN</td>\n",
       "    </tr>\n",
       "    <tr>\n",
       "      <th>162</th>\n",
       "      <td>normal_210.png</td>\n",
       "      <td>normal</td>\n",
       "      <td>NaN</td>\n",
       "    </tr>\n",
       "    <tr>\n",
       "      <th>163</th>\n",
       "      <td>normal_92.png</td>\n",
       "      <td>normal</td>\n",
       "      <td>NaN</td>\n",
       "    </tr>\n",
       "    <tr>\n",
       "      <th>164</th>\n",
       "      <td>normal_192.png</td>\n",
       "      <td>normal</td>\n",
       "      <td>NaN</td>\n",
       "    </tr>\n",
       "    <tr>\n",
       "      <th>165</th>\n",
       "      <td>normal_166.png</td>\n",
       "      <td>normal</td>\n",
       "      <td>NaN</td>\n",
       "    </tr>\n",
       "  </tbody>\n",
       "</table>\n",
       "<p>166 rows × 3 columns</p>\n",
       "</div>"
      ],
      "text/plain": [
       "                 filename category  extracted_index\n",
       "0     tumor_907_mask0.png   benign            907.0\n",
       "1     tumor_331_mask0.png   benign            331.0\n",
       "2     tumor_295_mask0.png   benign            295.0\n",
       "3     tumor_883_mask0.png   benign            883.0\n",
       "4     tumor_379_mask0.png   benign            379.0\n",
       "..                    ...      ...              ...\n",
       "161  normal_106_crop0.png   normal              NaN\n",
       "162        normal_210.png   normal              NaN\n",
       "163         normal_92.png   normal              NaN\n",
       "164        normal_192.png   normal              NaN\n",
       "165        normal_166.png   normal              NaN\n",
       "\n",
       "[166 rows x 3 columns]"
      ]
     },
     "execution_count": 12,
     "metadata": {},
     "output_type": "execute_result"
    }
   ],
   "source": [
    "import re\n",
    "\n",
    "# Load the CSV file\n",
    "file_path = \"C:/Users/elisa/OneDrive/Desktop/DL_Final/validation_images.csv\"  \n",
    "df_index = pd.read_csv(file_path)\n",
    "\n",
    "# Function to extract the index from the filename\n",
    "def extract_index(filename):\n",
    "    match = re.search(r\"tumor_(\\d+)_mask[0-2]\\.png\", filename)  \n",
    "    if match:\n",
    "        return int(match.group(1))\n",
    "    return None  # Return None if no match is found\n",
    "\n",
    "# Apply the function to extract the index\n",
    "df_index[\"extracted_index\"] = df_index[\"filename\"].apply(extract_index)\n",
    "\n",
    "df_index = df_index.drop(columns=['index', 'split'])\n",
    "df_index"
   ]
  },
  {
   "cell_type": "code",
   "execution_count": 13,
   "metadata": {},
   "outputs": [
    {
     "data": {
      "text/plain": [
       "0       907.0\n",
       "1       331.0\n",
       "2       295.0\n",
       "3       883.0\n",
       "4       379.0\n",
       "        ...  \n",
       "107    1181.0\n",
       "108    1165.0\n",
       "109    1133.0\n",
       "110    1059.0\n",
       "111    1239.0\n",
       "Name: extracted_index, Length: 112, dtype: float64"
      ]
     },
     "execution_count": 13,
     "metadata": {},
     "output_type": "execute_result"
    }
   ],
   "source": [
    "#NA are from normal\n",
    "df_filtered = df_index[\"extracted_index\"]\n",
    "df_filtered\n",
    "df_filtered_NA = df_filtered.dropna()\n",
    "df_filtered_NA"
   ]
  },
  {
   "cell_type": "code",
   "execution_count": 14,
   "metadata": {},
   "outputs": [
    {
     "data": {
      "application/vnd.microsoft.datawrangler.viewer.v0+json": {
       "columns": [
        {
         "name": "index",
         "rawType": "int64",
         "type": "integer"
        },
        {
         "name": "image_path",
         "rawType": "object",
         "type": "string"
        },
        {
         "name": "label",
         "rawType": "int64",
         "type": "integer"
        }
       ],
       "conversionMethod": "pd.DataFrame",
       "ref": "cfb45231-feb8-47f0-84e6-73259ab82157",
       "rows": [
        [
         "907",
         "C:/Users/elisa/OneDrive/Desktop/DL_Final/Breast_Images/benign\\benign (60).png",
         "1"
        ],
        [
         "331",
         "C:/Users/elisa/OneDrive/Desktop/DL_Final/Breast_Images/benign\\benign (130).png",
         "1"
        ],
        [
         "295",
         "C:/Users/elisa/OneDrive/Desktop/DL_Final/Breast_Images/benign\\benign (111).png",
         "1"
        ],
        [
         "883",
         "C:/Users/elisa/OneDrive/Desktop/DL_Final/Breast_Images/benign\\benign (49).png",
         "1"
        ],
        [
         "379",
         "C:/Users/elisa/OneDrive/Desktop/DL_Final/Breast_Images/benign\\benign (154).png",
         "1"
        ],
        [
         "735",
         "C:/Users/elisa/OneDrive/Desktop/DL_Final/Breast_Images/benign\\benign (377).png",
         "1"
        ],
        [
         "416",
         "C:/Users/elisa/OneDrive/Desktop/DL_Final/Breast_Images/benign\\benign (170).png",
         "1"
        ],
        [
         "498",
         "C:/Users/elisa/OneDrive/Desktop/DL_Final/Breast_Images/benign\\benign (211).png",
         "1"
        ],
        [
         "865",
         "C:/Users/elisa/OneDrive/Desktop/DL_Final/Breast_Images/benign\\benign (434).png",
         "1"
        ],
        [
         "512",
         "C:/Users/elisa/OneDrive/Desktop/DL_Final/Breast_Images/benign\\benign (23).png",
         "1"
        ],
        [
         "723",
         "C:/Users/elisa/OneDrive/Desktop/DL_Final/Breast_Images/benign\\benign (371).png",
         "1"
        ],
        [
         "343",
         "C:/Users/elisa/OneDrive/Desktop/DL_Final/Breast_Images/benign\\benign (136).png",
         "1"
        ],
        [
         "565",
         "C:/Users/elisa/OneDrive/Desktop/DL_Final/Breast_Images/benign\\benign (3).png",
         "1"
        ],
        [
         "375",
         "C:/Users/elisa/OneDrive/Desktop/DL_Final/Breast_Images/benign\\benign (152).png",
         "1"
        ],
        [
         "569",
         "C:/Users/elisa/OneDrive/Desktop/DL_Final/Breast_Images/benign\\benign (301).png",
         "1"
        ],
        [
         "812",
         "C:/Users/elisa/OneDrive/Desktop/DL_Final/Breast_Images/benign\\benign (410).png",
         "1"
        ],
        [
         "266",
         "C:/Users/elisa/OneDrive/Desktop/DL_Final/Breast_Images/benign\\benign (1).png",
         "1"
        ],
        [
         "719",
         "C:/Users/elisa/OneDrive/Desktop/DL_Final/Breast_Images/benign\\benign (37).png",
         "1"
        ],
        [
         "923",
         "C:/Users/elisa/OneDrive/Desktop/DL_Final/Breast_Images/benign\\benign (69).png",
         "1"
        ],
        [
         "464",
         "C:/Users/elisa/OneDrive/Desktop/DL_Final/Breast_Images/benign\\benign (191).png",
         "1"
        ],
        [
         "283",
         "C:/Users/elisa/OneDrive/Desktop/DL_Final/Breast_Images/benign\\benign (106).png",
         "1"
        ],
        [
         "618",
         "C:/Users/elisa/OneDrive/Desktop/DL_Final/Breast_Images/benign\\benign (324).png",
         "1"
        ],
        [
         "408",
         "C:/Users/elisa/OneDrive/Desktop/DL_Final/Breast_Images/benign\\benign (167).png",
         "1"
        ],
        [
         "731",
         "C:/Users/elisa/OneDrive/Desktop/DL_Final/Breast_Images/benign\\benign (375).png",
         "1"
        ],
        [
         "767",
         "C:/Users/elisa/OneDrive/Desktop/DL_Final/Breast_Images/benign\\benign (391).png",
         "1"
        ],
        [
         "533",
         "C:/Users/elisa/OneDrive/Desktop/DL_Final/Breast_Images/benign\\benign (257).png",
         "1"
        ],
        [
         "707",
         "C:/Users/elisa/OneDrive/Desktop/DL_Final/Breast_Images/benign\\benign (364).png",
         "1"
        ],
        [
         "646",
         "C:/Users/elisa/OneDrive/Desktop/DL_Final/Breast_Images/benign\\benign (337).png",
         "1"
        ],
        [
         "644",
         "C:/Users/elisa/OneDrive/Desktop/DL_Final/Breast_Images/benign\\benign (336).png",
         "1"
        ],
        [
         "984",
         "C:/Users/elisa/OneDrive/Desktop/DL_Final/Breast_Images/benign\\benign (96).png",
         "1"
        ],
        [
         "315",
         "C:/Users/elisa/OneDrive/Desktop/DL_Final/Breast_Images/benign\\benign (122).png",
         "1"
        ],
        [
         "476",
         "C:/Users/elisa/OneDrive/Desktop/DL_Final/Breast_Images/benign\\benign (196).png",
         "1"
        ],
        [
         "349",
         "C:/Users/elisa/OneDrive/Desktop/DL_Final/Breast_Images/benign\\benign (139).png",
         "1"
        ],
        [
         "968",
         "C:/Users/elisa/OneDrive/Desktop/DL_Final/Breast_Images/benign\\benign (9).png",
         "1"
        ],
        [
         "832",
         "C:/Users/elisa/OneDrive/Desktop/DL_Final/Breast_Images/benign\\benign (42).png",
         "1"
        ],
        [
         "488",
         "C:/Users/elisa/OneDrive/Desktop/DL_Final/Breast_Images/benign\\benign (201).png",
         "1"
        ],
        [
         "391",
         "C:/Users/elisa/OneDrive/Desktop/DL_Final/Breast_Images/benign\\benign (16).png",
         "1"
        ],
        [
         "309",
         "C:/Users/elisa/OneDrive/Desktop/DL_Final/Breast_Images/benign\\benign (12).png",
         "1"
        ],
        [
         "563",
         "C:/Users/elisa/OneDrive/Desktop/DL_Final/Breast_Images/benign\\benign (299).png",
         "1"
        ],
        [
         "610",
         "C:/Users/elisa/OneDrive/Desktop/DL_Final/Breast_Images/benign\\benign (320).png",
         "1"
        ],
        [
         "755",
         "C:/Users/elisa/OneDrive/Desktop/DL_Final/Breast_Images/benign\\benign (386).png",
         "1"
        ],
        [
         "849",
         "C:/Users/elisa/OneDrive/Desktop/DL_Final/Breast_Images/benign\\benign (427).png",
         "1"
        ],
        [
         "325",
         "C:/Users/elisa/OneDrive/Desktop/DL_Final/Breast_Images/benign\\benign (128).png",
         "1"
        ],
        [
         "695",
         "C:/Users/elisa/OneDrive/Desktop/DL_Final/Breast_Images/benign\\benign (359).png",
         "1"
        ],
        [
         "478",
         "C:/Users/elisa/OneDrive/Desktop/DL_Final/Breast_Images/benign\\benign (197).png",
         "1"
        ],
        [
         "508",
         "C:/Users/elisa/OneDrive/Desktop/DL_Final/Breast_Images/benign\\benign (225).png",
         "1"
        ],
        [
         "441",
         "C:/Users/elisa/OneDrive/Desktop/DL_Final/Breast_Images/benign\\benign (181).png",
         "1"
        ],
        [
         "377",
         "C:/Users/elisa/OneDrive/Desktop/DL_Final/Breast_Images/benign\\benign (153).png",
         "1"
        ],
        [
         "275",
         "C:/Users/elisa/OneDrive/Desktop/DL_Final/Breast_Images/benign\\benign (102).png",
         "1"
        ],
        [
         "355",
         "C:/Users/elisa/OneDrive/Desktop/DL_Final/Breast_Images/benign\\benign (143).png",
         "1"
        ]
       ],
       "shape": {
        "columns": 2,
        "rows": 112
       }
      },
      "text/html": [
       "<div>\n",
       "<style scoped>\n",
       "    .dataframe tbody tr th:only-of-type {\n",
       "        vertical-align: middle;\n",
       "    }\n",
       "\n",
       "    .dataframe tbody tr th {\n",
       "        vertical-align: top;\n",
       "    }\n",
       "\n",
       "    .dataframe thead th {\n",
       "        text-align: right;\n",
       "    }\n",
       "</style>\n",
       "<table border=\"1\" class=\"dataframe\">\n",
       "  <thead>\n",
       "    <tr style=\"text-align: right;\">\n",
       "      <th></th>\n",
       "      <th>image_path</th>\n",
       "      <th>label</th>\n",
       "    </tr>\n",
       "  </thead>\n",
       "  <tbody>\n",
       "    <tr>\n",
       "      <th>907</th>\n",
       "      <td>C:/Users/elisa/OneDrive/Desktop/DL_Final/Breas...</td>\n",
       "      <td>1</td>\n",
       "    </tr>\n",
       "    <tr>\n",
       "      <th>331</th>\n",
       "      <td>C:/Users/elisa/OneDrive/Desktop/DL_Final/Breas...</td>\n",
       "      <td>1</td>\n",
       "    </tr>\n",
       "    <tr>\n",
       "      <th>295</th>\n",
       "      <td>C:/Users/elisa/OneDrive/Desktop/DL_Final/Breas...</td>\n",
       "      <td>1</td>\n",
       "    </tr>\n",
       "    <tr>\n",
       "      <th>883</th>\n",
       "      <td>C:/Users/elisa/OneDrive/Desktop/DL_Final/Breas...</td>\n",
       "      <td>1</td>\n",
       "    </tr>\n",
       "    <tr>\n",
       "      <th>379</th>\n",
       "      <td>C:/Users/elisa/OneDrive/Desktop/DL_Final/Breas...</td>\n",
       "      <td>1</td>\n",
       "    </tr>\n",
       "    <tr>\n",
       "      <th>...</th>\n",
       "      <td>...</td>\n",
       "      <td>...</td>\n",
       "    </tr>\n",
       "    <tr>\n",
       "      <th>1181</th>\n",
       "      <td>C:/Users/elisa/OneDrive/Desktop/DL_Final/Breas...</td>\n",
       "      <td>2</td>\n",
       "    </tr>\n",
       "    <tr>\n",
       "      <th>1165</th>\n",
       "      <td>C:/Users/elisa/OneDrive/Desktop/DL_Final/Breas...</td>\n",
       "      <td>2</td>\n",
       "    </tr>\n",
       "    <tr>\n",
       "      <th>1133</th>\n",
       "      <td>C:/Users/elisa/OneDrive/Desktop/DL_Final/Breas...</td>\n",
       "      <td>2</td>\n",
       "    </tr>\n",
       "    <tr>\n",
       "      <th>1059</th>\n",
       "      <td>C:/Users/elisa/OneDrive/Desktop/DL_Final/Breas...</td>\n",
       "      <td>2</td>\n",
       "    </tr>\n",
       "    <tr>\n",
       "      <th>1239</th>\n",
       "      <td>C:/Users/elisa/OneDrive/Desktop/DL_Final/Breas...</td>\n",
       "      <td>2</td>\n",
       "    </tr>\n",
       "  </tbody>\n",
       "</table>\n",
       "<p>112 rows × 2 columns</p>\n",
       "</div>"
      ],
      "text/plain": [
       "                                             image_path  label\n",
       "907   C:/Users/elisa/OneDrive/Desktop/DL_Final/Breas...      1\n",
       "331   C:/Users/elisa/OneDrive/Desktop/DL_Final/Breas...      1\n",
       "295   C:/Users/elisa/OneDrive/Desktop/DL_Final/Breas...      1\n",
       "883   C:/Users/elisa/OneDrive/Desktop/DL_Final/Breas...      1\n",
       "379   C:/Users/elisa/OneDrive/Desktop/DL_Final/Breas...      1\n",
       "...                                                 ...    ...\n",
       "1181  C:/Users/elisa/OneDrive/Desktop/DL_Final/Breas...      2\n",
       "1165  C:/Users/elisa/OneDrive/Desktop/DL_Final/Breas...      2\n",
       "1133  C:/Users/elisa/OneDrive/Desktop/DL_Final/Breas...      2\n",
       "1059  C:/Users/elisa/OneDrive/Desktop/DL_Final/Breas...      2\n",
       "1239  C:/Users/elisa/OneDrive/Desktop/DL_Final/Breas...      2\n",
       "\n",
       "[112 rows x 2 columns]"
      ]
     },
     "execution_count": 14,
     "metadata": {},
     "output_type": "execute_result"
    }
   ],
   "source": [
    "df_filtered_rows = df.loc[df_filtered_NA]\n",
    "df_filtered_rows"
   ]
  },
  {
   "cell_type": "code",
   "execution_count": 15,
   "metadata": {},
   "outputs": [],
   "source": [
    "df_filtered_rows.to_csv(\"full_img_test.csv\", index=True)\n"
   ]
  }
 ],
 "metadata": {
  "kernelspec": {
   "display_name": "base",
   "language": "python",
   "name": "python3"
  },
  "language_info": {
   "codemirror_mode": {
    "name": "ipython",
    "version": 3
   },
   "file_extension": ".py",
   "mimetype": "text/x-python",
   "name": "python",
   "nbconvert_exporter": "python",
   "pygments_lexer": "ipython3",
   "version": "3.12.3"
  }
 },
 "nbformat": 4,
 "nbformat_minor": 2
}
