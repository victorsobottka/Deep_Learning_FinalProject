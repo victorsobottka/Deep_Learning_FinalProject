{
 "cells": [
  {
   "cell_type": "markdown",
   "metadata": {},
   "source": [
    "## Projects:\n",
    "\n",
    "- Diffusion Models;\n",
    "- YOLO versions  - object detection;\n",
    "- Segment Anything Model (https://segment-anything.com/) (Liked);\n",
    "- Mathematical Integration;\n",
    "- BERT fine-tuning - Text classification (compare with logistic regression and TF-IDF vectors);\n",
    "- CNN visualization - review the different techniques used to analyze CNN predictions;\n",
    "- Monte Carlo dropout - review briefly the concept of uncertainty and what are the main techniques used to deal with uncertainty in deep learning;\n",
    "- Deep vs Wide Neural Networks - Try to understand the effect of adding layers or adding parameters in a layer;\n",
    "- Overparameterization regime;\n",
    "- Neural ODEs - Neural Networks and ordinary differential equations are the two main modelization techniques used nowadays, review papers explaining some evolution of the idea of Neural ODE."
   ]
  },
  {
   "cell_type": "markdown",
   "metadata": {},
   "source": [
    "General observations:\n",
    "\n",
    "- Presentation of 15 min \n",
    "- 70% grade\n",
    "- No need to submit the code\n",
    "\n",
    "Evaluation aspects:\n",
    "\n",
    "- Clarity\n",
    "- Understanding of concepts\n",
    "- Depth of research and/or experiments"
   ]
  },
  {
   "cell_type": "code",
   "execution_count": 2,
   "metadata": {},
   "outputs": [
    {
     "name": "stderr",
     "output_type": "stream",
     "text": [
      "c:\\Users\\elisa\\anaconda3\\Lib\\site-packages\\segment_anything\\build_sam.py:105: FutureWarning: You are using `torch.load` with `weights_only=False` (the current default value), which uses the default pickle module implicitly. It is possible to construct malicious pickle data which will execute arbitrary code during unpickling (See https://github.com/pytorch/pytorch/blob/main/SECURITY.md#untrusted-models for more details). In a future release, the default value for `weights_only` will be flipped to `True`. This limits the functions that could be executed during unpickling. Arbitrary objects will no longer be allowed to be loaded via this mode unless they are explicitly allowlisted by the user via `torch.serialization.add_safe_globals`. We recommend you start setting `weights_only=True` for any use case where you don't have full control of the loaded file. Please open an issue on GitHub for any issues related to this experimental feature.\n",
      "  state_dict = torch.load(f)\n"
     ]
    },
    {
     "name": "stdout",
     "output_type": "stream",
     "text": [
      "✅ SAM Model loaded successfully!\n"
     ]
    }
   ],
   "source": [
    "import torch\n",
    "import numpy as np\n",
    "import cv2\n",
    "import os\n",
    "import pandas as pd\n",
    "import matplotlib.pyplot as plt\n",
    "from segment_anything import SamPredictor, sam_model_registry\n",
    "from sklearn.model_selection import train_test_split\n",
    "from tqdm import tqdm\n",
    "\n",
    "\n",
    "# Load SAM model\n",
    "device = torch.device(\"cuda\" if torch.cuda.is_available() else \"cpu\")\n",
    "sam = sam_model_registry[\"vit_h\"](checkpoint=\"C:/Users/elisa/OneDrive/Desktop/Deep Learning/DL_Project/sam_vit_h_4b8939.pth\").to(device)\n",
    "predictor = SamPredictor(sam)\n",
    "print(\"✅ SAM Model loaded successfully!\")\n",
    "\n",
    "# Path to dataset\n",
    "dataset_path = \"C:/Users/elisa/OneDrive/Desktop/Deep Learning/DL_Project/Deep_Learning_FinalProject/Breast_Images/\"\n"
   ]
  },
  {
   "cell_type": "code",
   "execution_count": 9,
   "metadata": {},
   "outputs": [],
   "source": [
    "# Path to dataset\n",
    "dataset_path = \"C:/Users/elisa/OneDrive/Desktop/Deep Learning/DL_Project/Deep_Learning_FinalProject/Breast_Images/\"\n",
    "\n",
    "# Define the class mapping\n",
    "class_map = {\"normal\": 0, \"benign\": 1, \"malignant\": 2}\n",
    "\n",
    "# List to store dataset entries\n",
    "data = []\n",
    "\n",
    "# Loop through each category\n",
    "for category in [\"normal\", \"benign\", \"malignant\"]:\n",
    "    category_path = os.path.join(dataset_path, category)\n",
    "    \n",
    "    # Get all image files in the category folder\n",
    "    for file_name in os.listdir(category_path):\n",
    "        if file_name.endswith(('.png', '.jpg', '.jpeg')):  # Check if it's an image\n",
    "            image_path = os.path.join(category_path, file_name)\n",
    "            data.append({\"image_path\": image_path, \"label\": class_map[category]})\n",
    "\n",
    "# Convert to Pandas DataFrame\n",
    "df = pd.DataFrame(data)"
   ]
  },
  {
   "cell_type": "code",
   "execution_count": 17,
   "metadata": {},
   "outputs": [
    {
     "data": {
      "application/vnd.microsoft.datawrangler.viewer.v0+json": {
       "columns": [
        {
         "name": "index",
         "rawType": "int64",
         "type": "integer"
        },
        {
         "name": "image_path",
         "rawType": "object",
         "type": "string"
        },
        {
         "name": "label",
         "rawType": "int64",
         "type": "integer"
        }
       ],
       "conversionMethod": "pd.DataFrame",
       "ref": "e36cffcb-62d8-455b-b83b-cac48b38621c",
       "rows": [
        [
         "0",
         "C:/Users/elisa/OneDrive/Desktop/Deep Learning/DL_Project/Deep_Learning_FinalProject/Breast_Images/normal\\normal (1).png",
         "0"
        ],
        [
         "1",
         "C:/Users/elisa/OneDrive/Desktop/Deep Learning/DL_Project/Deep_Learning_FinalProject/Breast_Images/normal\\normal (1)_mask.png",
         "0"
        ],
        [
         "2",
         "C:/Users/elisa/OneDrive/Desktop/Deep Learning/DL_Project/Deep_Learning_FinalProject/Breast_Images/normal\\normal (10).png",
         "0"
        ],
        [
         "3",
         "C:/Users/elisa/OneDrive/Desktop/Deep Learning/DL_Project/Deep_Learning_FinalProject/Breast_Images/normal\\normal (10)_mask.png",
         "0"
        ],
        [
         "4",
         "C:/Users/elisa/OneDrive/Desktop/Deep Learning/DL_Project/Deep_Learning_FinalProject/Breast_Images/normal\\normal (100).png",
         "0"
        ],
        [
         "5",
         "C:/Users/elisa/OneDrive/Desktop/Deep Learning/DL_Project/Deep_Learning_FinalProject/Breast_Images/normal\\normal (100)_mask.png",
         "0"
        ],
        [
         "6",
         "C:/Users/elisa/OneDrive/Desktop/Deep Learning/DL_Project/Deep_Learning_FinalProject/Breast_Images/normal\\normal (101).png",
         "0"
        ],
        [
         "7",
         "C:/Users/elisa/OneDrive/Desktop/Deep Learning/DL_Project/Deep_Learning_FinalProject/Breast_Images/normal\\normal (101)_mask.png",
         "0"
        ],
        [
         "8",
         "C:/Users/elisa/OneDrive/Desktop/Deep Learning/DL_Project/Deep_Learning_FinalProject/Breast_Images/normal\\normal (102).png",
         "0"
        ],
        [
         "9",
         "C:/Users/elisa/OneDrive/Desktop/Deep Learning/DL_Project/Deep_Learning_FinalProject/Breast_Images/normal\\normal (102)_mask.png",
         "0"
        ],
        [
         "10",
         "C:/Users/elisa/OneDrive/Desktop/Deep Learning/DL_Project/Deep_Learning_FinalProject/Breast_Images/normal\\normal (103).png",
         "0"
        ],
        [
         "11",
         "C:/Users/elisa/OneDrive/Desktop/Deep Learning/DL_Project/Deep_Learning_FinalProject/Breast_Images/normal\\normal (103)_mask.png",
         "0"
        ],
        [
         "12",
         "C:/Users/elisa/OneDrive/Desktop/Deep Learning/DL_Project/Deep_Learning_FinalProject/Breast_Images/normal\\normal (104).png",
         "0"
        ],
        [
         "13",
         "C:/Users/elisa/OneDrive/Desktop/Deep Learning/DL_Project/Deep_Learning_FinalProject/Breast_Images/normal\\normal (104)_mask.png",
         "0"
        ],
        [
         "14",
         "C:/Users/elisa/OneDrive/Desktop/Deep Learning/DL_Project/Deep_Learning_FinalProject/Breast_Images/normal\\normal (105).png",
         "0"
        ],
        [
         "15",
         "C:/Users/elisa/OneDrive/Desktop/Deep Learning/DL_Project/Deep_Learning_FinalProject/Breast_Images/normal\\normal (105)_mask.png",
         "0"
        ],
        [
         "16",
         "C:/Users/elisa/OneDrive/Desktop/Deep Learning/DL_Project/Deep_Learning_FinalProject/Breast_Images/normal\\normal (106).png",
         "0"
        ],
        [
         "17",
         "C:/Users/elisa/OneDrive/Desktop/Deep Learning/DL_Project/Deep_Learning_FinalProject/Breast_Images/normal\\normal (106)_mask.png",
         "0"
        ],
        [
         "18",
         "C:/Users/elisa/OneDrive/Desktop/Deep Learning/DL_Project/Deep_Learning_FinalProject/Breast_Images/normal\\normal (107).png",
         "0"
        ],
        [
         "19",
         "C:/Users/elisa/OneDrive/Desktop/Deep Learning/DL_Project/Deep_Learning_FinalProject/Breast_Images/normal\\normal (107)_mask.png",
         "0"
        ],
        [
         "20",
         "C:/Users/elisa/OneDrive/Desktop/Deep Learning/DL_Project/Deep_Learning_FinalProject/Breast_Images/normal\\normal (108).png",
         "0"
        ],
        [
         "21",
         "C:/Users/elisa/OneDrive/Desktop/Deep Learning/DL_Project/Deep_Learning_FinalProject/Breast_Images/normal\\normal (108)_mask.png",
         "0"
        ],
        [
         "22",
         "C:/Users/elisa/OneDrive/Desktop/Deep Learning/DL_Project/Deep_Learning_FinalProject/Breast_Images/normal\\normal (109).png",
         "0"
        ],
        [
         "23",
         "C:/Users/elisa/OneDrive/Desktop/Deep Learning/DL_Project/Deep_Learning_FinalProject/Breast_Images/normal\\normal (109)_mask.png",
         "0"
        ],
        [
         "24",
         "C:/Users/elisa/OneDrive/Desktop/Deep Learning/DL_Project/Deep_Learning_FinalProject/Breast_Images/normal\\normal (11).png",
         "0"
        ],
        [
         "25",
         "C:/Users/elisa/OneDrive/Desktop/Deep Learning/DL_Project/Deep_Learning_FinalProject/Breast_Images/normal\\normal (11)_mask.png",
         "0"
        ],
        [
         "26",
         "C:/Users/elisa/OneDrive/Desktop/Deep Learning/DL_Project/Deep_Learning_FinalProject/Breast_Images/normal\\normal (110).png",
         "0"
        ],
        [
         "27",
         "C:/Users/elisa/OneDrive/Desktop/Deep Learning/DL_Project/Deep_Learning_FinalProject/Breast_Images/normal\\normal (110)_mask.png",
         "0"
        ],
        [
         "28",
         "C:/Users/elisa/OneDrive/Desktop/Deep Learning/DL_Project/Deep_Learning_FinalProject/Breast_Images/normal\\normal (111).png",
         "0"
        ],
        [
         "29",
         "C:/Users/elisa/OneDrive/Desktop/Deep Learning/DL_Project/Deep_Learning_FinalProject/Breast_Images/normal\\normal (111)_mask.png",
         "0"
        ],
        [
         "30",
         "C:/Users/elisa/OneDrive/Desktop/Deep Learning/DL_Project/Deep_Learning_FinalProject/Breast_Images/normal\\normal (112).png",
         "0"
        ],
        [
         "31",
         "C:/Users/elisa/OneDrive/Desktop/Deep Learning/DL_Project/Deep_Learning_FinalProject/Breast_Images/normal\\normal (112)_mask.png",
         "0"
        ],
        [
         "32",
         "C:/Users/elisa/OneDrive/Desktop/Deep Learning/DL_Project/Deep_Learning_FinalProject/Breast_Images/normal\\normal (113).png",
         "0"
        ],
        [
         "33",
         "C:/Users/elisa/OneDrive/Desktop/Deep Learning/DL_Project/Deep_Learning_FinalProject/Breast_Images/normal\\normal (113)_mask.png",
         "0"
        ],
        [
         "34",
         "C:/Users/elisa/OneDrive/Desktop/Deep Learning/DL_Project/Deep_Learning_FinalProject/Breast_Images/normal\\normal (114).png",
         "0"
        ],
        [
         "35",
         "C:/Users/elisa/OneDrive/Desktop/Deep Learning/DL_Project/Deep_Learning_FinalProject/Breast_Images/normal\\normal (114)_mask.png",
         "0"
        ],
        [
         "36",
         "C:/Users/elisa/OneDrive/Desktop/Deep Learning/DL_Project/Deep_Learning_FinalProject/Breast_Images/normal\\normal (115).png",
         "0"
        ],
        [
         "37",
         "C:/Users/elisa/OneDrive/Desktop/Deep Learning/DL_Project/Deep_Learning_FinalProject/Breast_Images/normal\\normal (115)_mask.png",
         "0"
        ],
        [
         "38",
         "C:/Users/elisa/OneDrive/Desktop/Deep Learning/DL_Project/Deep_Learning_FinalProject/Breast_Images/normal\\normal (116).png",
         "0"
        ],
        [
         "39",
         "C:/Users/elisa/OneDrive/Desktop/Deep Learning/DL_Project/Deep_Learning_FinalProject/Breast_Images/normal\\normal (116)_mask.png",
         "0"
        ],
        [
         "40",
         "C:/Users/elisa/OneDrive/Desktop/Deep Learning/DL_Project/Deep_Learning_FinalProject/Breast_Images/normal\\normal (117).png",
         "0"
        ],
        [
         "41",
         "C:/Users/elisa/OneDrive/Desktop/Deep Learning/DL_Project/Deep_Learning_FinalProject/Breast_Images/normal\\normal (117)_mask.png",
         "0"
        ],
        [
         "42",
         "C:/Users/elisa/OneDrive/Desktop/Deep Learning/DL_Project/Deep_Learning_FinalProject/Breast_Images/normal\\normal (118).png",
         "0"
        ],
        [
         "43",
         "C:/Users/elisa/OneDrive/Desktop/Deep Learning/DL_Project/Deep_Learning_FinalProject/Breast_Images/normal\\normal (118)_mask.png",
         "0"
        ],
        [
         "44",
         "C:/Users/elisa/OneDrive/Desktop/Deep Learning/DL_Project/Deep_Learning_FinalProject/Breast_Images/normal\\normal (119).png",
         "0"
        ],
        [
         "45",
         "C:/Users/elisa/OneDrive/Desktop/Deep Learning/DL_Project/Deep_Learning_FinalProject/Breast_Images/normal\\normal (119)_mask.png",
         "0"
        ],
        [
         "46",
         "C:/Users/elisa/OneDrive/Desktop/Deep Learning/DL_Project/Deep_Learning_FinalProject/Breast_Images/normal\\normal (12).png",
         "0"
        ],
        [
         "47",
         "C:/Users/elisa/OneDrive/Desktop/Deep Learning/DL_Project/Deep_Learning_FinalProject/Breast_Images/normal\\normal (12)_mask.png",
         "0"
        ],
        [
         "48",
         "C:/Users/elisa/OneDrive/Desktop/Deep Learning/DL_Project/Deep_Learning_FinalProject/Breast_Images/normal\\normal (120).png",
         "0"
        ],
        [
         "49",
         "C:/Users/elisa/OneDrive/Desktop/Deep Learning/DL_Project/Deep_Learning_FinalProject/Breast_Images/normal\\normal (120)_mask.png",
         "0"
        ]
       ],
       "shape": {
        "columns": 2,
        "rows": 1357
       }
      },
      "text/html": [
       "<div>\n",
       "<style scoped>\n",
       "    .dataframe tbody tr th:only-of-type {\n",
       "        vertical-align: middle;\n",
       "    }\n",
       "\n",
       "    .dataframe tbody tr th {\n",
       "        vertical-align: top;\n",
       "    }\n",
       "\n",
       "    .dataframe thead th {\n",
       "        text-align: right;\n",
       "    }\n",
       "</style>\n",
       "<table border=\"1\" class=\"dataframe\">\n",
       "  <thead>\n",
       "    <tr style=\"text-align: right;\">\n",
       "      <th></th>\n",
       "      <th>image_path</th>\n",
       "      <th>label</th>\n",
       "    </tr>\n",
       "  </thead>\n",
       "  <tbody>\n",
       "    <tr>\n",
       "      <th>0</th>\n",
       "      <td>C:/Users/elisa/OneDrive/Desktop/Deep Learning/...</td>\n",
       "      <td>0</td>\n",
       "    </tr>\n",
       "    <tr>\n",
       "      <th>1</th>\n",
       "      <td>C:/Users/elisa/OneDrive/Desktop/Deep Learning/...</td>\n",
       "      <td>0</td>\n",
       "    </tr>\n",
       "    <tr>\n",
       "      <th>2</th>\n",
       "      <td>C:/Users/elisa/OneDrive/Desktop/Deep Learning/...</td>\n",
       "      <td>0</td>\n",
       "    </tr>\n",
       "    <tr>\n",
       "      <th>3</th>\n",
       "      <td>C:/Users/elisa/OneDrive/Desktop/Deep Learning/...</td>\n",
       "      <td>0</td>\n",
       "    </tr>\n",
       "    <tr>\n",
       "      <th>4</th>\n",
       "      <td>C:/Users/elisa/OneDrive/Desktop/Deep Learning/...</td>\n",
       "      <td>0</td>\n",
       "    </tr>\n",
       "    <tr>\n",
       "      <th>...</th>\n",
       "      <td>...</td>\n",
       "      <td>...</td>\n",
       "    </tr>\n",
       "    <tr>\n",
       "      <th>1352</th>\n",
       "      <td>C:/Users/elisa/OneDrive/Desktop/Deep Learning/...</td>\n",
       "      <td>2</td>\n",
       "    </tr>\n",
       "    <tr>\n",
       "      <th>1353</th>\n",
       "      <td>C:/Users/elisa/OneDrive/Desktop/Deep Learning/...</td>\n",
       "      <td>2</td>\n",
       "    </tr>\n",
       "    <tr>\n",
       "      <th>1354</th>\n",
       "      <td>C:/Users/elisa/OneDrive/Desktop/Deep Learning/...</td>\n",
       "      <td>2</td>\n",
       "    </tr>\n",
       "    <tr>\n",
       "      <th>1355</th>\n",
       "      <td>C:/Users/elisa/OneDrive/Desktop/Deep Learning/...</td>\n",
       "      <td>2</td>\n",
       "    </tr>\n",
       "    <tr>\n",
       "      <th>1356</th>\n",
       "      <td>C:/Users/elisa/OneDrive/Desktop/Deep Learning/...</td>\n",
       "      <td>2</td>\n",
       "    </tr>\n",
       "  </tbody>\n",
       "</table>\n",
       "<p>1357 rows × 2 columns</p>\n",
       "</div>"
      ],
      "text/plain": [
       "                                             image_path  label\n",
       "0     C:/Users/elisa/OneDrive/Desktop/Deep Learning/...      0\n",
       "1     C:/Users/elisa/OneDrive/Desktop/Deep Learning/...      0\n",
       "2     C:/Users/elisa/OneDrive/Desktop/Deep Learning/...      0\n",
       "3     C:/Users/elisa/OneDrive/Desktop/Deep Learning/...      0\n",
       "4     C:/Users/elisa/OneDrive/Desktop/Deep Learning/...      0\n",
       "...                                                 ...    ...\n",
       "1352  C:/Users/elisa/OneDrive/Desktop/Deep Learning/...      2\n",
       "1353  C:/Users/elisa/OneDrive/Desktop/Deep Learning/...      2\n",
       "1354  C:/Users/elisa/OneDrive/Desktop/Deep Learning/...      2\n",
       "1355  C:/Users/elisa/OneDrive/Desktop/Deep Learning/...      2\n",
       "1356  C:/Users/elisa/OneDrive/Desktop/Deep Learning/...      2\n",
       "\n",
       "[1357 rows x 2 columns]"
      ]
     },
     "execution_count": 17,
     "metadata": {},
     "output_type": "execute_result"
    }
   ],
   "source": [
    "df"
   ]
  },
  {
   "cell_type": "code",
   "execution_count": 42,
   "metadata": {},
   "outputs": [
    {
     "data": {
      "text/plain": [
       "(1357, 2)"
      ]
     },
     "execution_count": 42,
     "metadata": {},
     "output_type": "execute_result"
    }
   ],
   "source": [
    "df.shape"
   ]
  },
  {
   "cell_type": "markdown",
   "metadata": {},
   "source": [
    "We had to manually remove some images from the dataset as they contained human input identifying where the tumor is. In this way, we avoided training the CNN with image modified manually to indicate where the tumor is. \n",
    "From 1578 now we have 1357, so we lost 14% of our dataset.\n",
    "\n",
    "The code below takes the ground thruth information created by the doctor and draw a bouding box around the actual breast ultrasound (adding some pixels to consdier a bigger area). It then crops the image around the bounding box creating ad hoc images of the turmor area. \n",
    "The code takes into account the presence of multiple masks for each image creating multiple cropped images for the same tumor image.\n",
    "We created random bounding box to create random images of normal ultrasound to train our CNN to recognize when there is no tumor."
   ]
  },
  {
   "cell_type": "code",
   "execution_count": 43,
   "metadata": {},
   "outputs": [
    {
     "name": "stderr",
     "output_type": "stream",
     "text": [
      " 20%|█▉        | 271/1357 [00:00<00:00, 2650.01it/s]"
     ]
    },
    {
     "name": "stdout",
     "output_type": "stream",
     "text": [
      "Saved: Cropped_Tumors\\benign\\tumor_266_mask0.png\n",
      "Saved: Cropped_Tumors\\benign\\tumor_268_mask0.png\n",
      "Saved: Cropped_Tumors\\benign\\tumor_270_mask0.png\n",
      "Saved: Cropped_Tumors\\benign\\tumor_270_mask1.png\n",
      "Saved: Cropped_Tumors\\benign\\tumor_273_mask0.png\n",
      "Saved: Cropped_Tumors\\benign\\tumor_275_mask0.png\n",
      "Saved: Cropped_Tumors\\benign\\tumor_277_mask0.png\n",
      "Saved: Cropped_Tumors\\benign\\tumor_279_mask0.png\n",
      "Saved: Cropped_Tumors\\benign\\tumor_281_mask0.png\n",
      "Saved: Cropped_Tumors\\benign\\tumor_283_mask0.png\n",
      "Saved: Cropped_Tumors\\benign\\tumor_285_mask0.png\n",
      "Saved: Cropped_Tumors\\benign\\tumor_287_mask0.png\n",
      "Saved: Cropped_Tumors\\benign\\tumor_289_mask0.png\n",
      "Saved: Cropped_Tumors\\benign\\tumor_291_mask0.png\n",
      "Saved: Cropped_Tumors\\benign\\tumor_293_mask0.png\n",
      "Saved: Cropped_Tumors\\benign\\tumor_295_mask0.png\n",
      "Saved: Cropped_Tumors\\benign\\tumor_297_mask0.png\n",
      "Saved: Cropped_Tumors\\benign\\tumor_299_mask0.png\n",
      "Saved: Cropped_Tumors\\benign\\tumor_301_mask0.png\n",
      "Saved: Cropped_Tumors\\benign\\tumor_303_mask0.png\n",
      "Saved: Cropped_Tumors\\benign\\tumor_305_mask0.png\n",
      "Saved: Cropped_Tumors\\benign\\tumor_307_mask0.png\n",
      "Saved: Cropped_Tumors\\benign\\tumor_309_mask0.png\n",
      "Saved: Cropped_Tumors\\benign\\tumor_311_mask0.png\n",
      "Saved: Cropped_Tumors\\benign\\tumor_313_mask0.png\n",
      "Saved: Cropped_Tumors\\benign\\tumor_315_mask0.png\n",
      "Saved: Cropped_Tumors\\benign\\tumor_317_mask0.png\n",
      "Saved: Cropped_Tumors\\benign\\tumor_319_mask0.png\n",
      "Saved: Cropped_Tumors\\benign\\tumor_321_mask0.png\n",
      "Saved: Cropped_Tumors\\benign\\tumor_323_mask0.png\n",
      "Saved: Cropped_Tumors\\benign\\tumor_325_mask0.png\n",
      "Saved: Cropped_Tumors\\benign\\tumor_327_mask0.png\n",
      "Saved: Cropped_Tumors\\benign\\tumor_329_mask0.png\n",
      "Saved: Cropped_Tumors\\benign\\tumor_331_mask0.png\n",
      "Saved: Cropped_Tumors\\benign\\tumor_333_mask0.png\n",
      "Saved: Cropped_Tumors\\benign\\tumor_335_mask0.png\n",
      "Saved: Cropped_Tumors\\benign\\tumor_337_mask0.png\n",
      "Saved: Cropped_Tumors\\benign\\tumor_339_mask0.png\n",
      "Saved: Cropped_Tumors\\benign\\tumor_341_mask0.png\n",
      "Saved: Cropped_Tumors\\benign\\tumor_343_mask0.png\n",
      "Saved: Cropped_Tumors\\benign\\tumor_345_mask0.png\n",
      "Saved: Cropped_Tumors\\benign\\tumor_347_mask0.png\n",
      "Saved: Cropped_Tumors\\benign\\tumor_349_mask0.png\n",
      "Saved: Cropped_Tumors\\benign\\tumor_351_mask0.png\n",
      "Saved: Cropped_Tumors\\benign\\tumor_353_mask0.png\n",
      "Saved: Cropped_Tumors\\benign\\tumor_355_mask0.png\n",
      "Saved: Cropped_Tumors\\benign\\tumor_357_mask0.png\n",
      "Saved: Cropped_Tumors\\benign\\tumor_359_mask0.png\n",
      "Saved: Cropped_Tumors\\benign\\tumor_361_mask0.png\n",
      "Saved: Cropped_Tumors\\benign\\tumor_363_mask0.png\n",
      "Saved: Cropped_Tumors\\benign\\tumor_365_mask0.png\n",
      "Saved: Cropped_Tumors\\benign\\tumor_367_mask0.png\n",
      "Saved: Cropped_Tumors\\benign\\tumor_369_mask0.png\n",
      "Saved: Cropped_Tumors\\benign\\tumor_371_mask0.png\n",
      "Saved: Cropped_Tumors\\benign\\tumor_373_mask0.png\n",
      "Saved: Cropped_Tumors\\benign\\tumor_375_mask0.png\n",
      "Saved: Cropped_Tumors\\benign\\tumor_377_mask0.png\n",
      "Saved: Cropped_Tumors\\benign\\tumor_379_mask0.png\n",
      "Saved: Cropped_Tumors\\benign\\tumor_381_mask0.png\n",
      "Saved: Cropped_Tumors\\benign\\tumor_383_mask0.png\n",
      "Saved: Cropped_Tumors\\benign\\tumor_385_mask0.png\n",
      "Saved: Cropped_Tumors\\benign\\tumor_387_mask0.png\n",
      "Saved: Cropped_Tumors\\benign\\tumor_389_mask0.png\n",
      "Saved: Cropped_Tumors\\benign\\tumor_391_mask0.png\n",
      "Saved: Cropped_Tumors\\benign\\tumor_393_mask0.png\n",
      "Saved: Cropped_Tumors\\benign\\tumor_395_mask0.png\n",
      "Saved: Cropped_Tumors\\benign\\tumor_397_mask0.png\n",
      "Saved: Cropped_Tumors\\benign\\tumor_397_mask1.png\n",
      "Saved: Cropped_Tumors\\benign\\tumor_400_mask0.png\n",
      "Saved: Cropped_Tumors\\benign\\tumor_402_mask0.png\n",
      "Saved: Cropped_Tumors\\benign\\tumor_404_mask0.png\n",
      "Saved: Cropped_Tumors\\benign\\tumor_406_mask0.png\n",
      "Saved: Cropped_Tumors\\benign\\tumor_408_mask0.png\n",
      "Saved: Cropped_Tumors\\benign\\tumor_410_mask0.png\n",
      "Saved: Cropped_Tumors\\benign\\tumor_412_mask0.png\n",
      "Saved: Cropped_Tumors\\benign\\tumor_414_mask0.png\n",
      "Saved: Cropped_Tumors\\benign\\tumor_416_mask0.png\n",
      "Saved: Cropped_Tumors\\benign\\tumor_418_mask0.png\n",
      "Saved: Cropped_Tumors\\benign\\tumor_420_mask0.png\n",
      "Saved: Cropped_Tumors\\benign\\tumor_420_mask1.png\n",
      "Saved: Cropped_Tumors\\benign\\tumor_423_mask0.png\n",
      "Saved: Cropped_Tumors\\benign\\tumor_425_mask0.png\n",
      "Saved: Cropped_Tumors\\benign\\tumor_427_mask0.png\n",
      "Saved: Cropped_Tumors\\benign\\tumor_429_mask0.png\n",
      "Saved: Cropped_Tumors\\benign\\tumor_431_mask0.png\n",
      "Saved: Cropped_Tumors\\benign\\tumor_433_mask0.png\n",
      "Saved: Cropped_Tumors\\benign\\tumor_435_mask0.png\n",
      "Saved: Cropped_Tumors\\benign\\tumor_437_mask0.png\n",
      "Saved: Cropped_Tumors\\benign\\tumor_439_mask0.png\n",
      "Saved: Cropped_Tumors\\benign\\tumor_439_mask1.png\n",
      "Saved: Cropped_Tumors\\benign\\tumor_442_mask0.png\n",
      "Saved: Cropped_Tumors\\benign\\tumor_444_mask0.png\n",
      "Saved: Cropped_Tumors\\benign\\tumor_446_mask0.png\n",
      "Saved: Cropped_Tumors\\benign\\tumor_448_mask0.png\n",
      "Saved: Cropped_Tumors\\benign\\tumor_450_mask0.png\n",
      "Saved: Cropped_Tumors\\benign\\tumor_452_mask0.png\n",
      "Saved: Cropped_Tumors\\benign\\tumor_454_mask0.png\n",
      "Saved: Cropped_Tumors\\benign\\tumor_456_mask0.png\n",
      "Saved: Cropped_Tumors\\benign\\tumor_458_mask0.png\n",
      "Saved: Cropped_Tumors\\benign\\tumor_460_mask0.png\n",
      "Saved: Cropped_Tumors\\benign\\tumor_462_mask0.png\n",
      "Saved: Cropped_Tumors\\benign\\tumor_464_mask0.png\n",
      "Saved: Cropped_Tumors\\benign\\tumor_466_mask0.png\n",
      "Saved: Cropped_Tumors\\benign\\tumor_468_mask0.png\n",
      "Saved: Cropped_Tumors\\benign\\tumor_470_mask0.png\n",
      "Saved: Cropped_Tumors\\benign\\tumor_470_mask1.png\n",
      "Saved: Cropped_Tumors\\benign\\tumor_470_mask2.png\n",
      "Saved: Cropped_Tumors\\benign\\tumor_474_mask0.png\n",
      "Saved: Cropped_Tumors\\benign\\tumor_476_mask0.png\n",
      "Saved: Cropped_Tumors\\benign\\tumor_478_mask0.png\n",
      "Saved: Cropped_Tumors\\benign\\tumor_480_mask0.png\n",
      "Saved: Cropped_Tumors\\benign\\tumor_482_mask0.png\n",
      "Saved: Cropped_Tumors\\benign\\tumor_484_mask0.png\n",
      "Saved: Cropped_Tumors\\benign\\tumor_486_mask0.png\n",
      "Saved: Cropped_Tumors\\benign\\tumor_488_mask0.png\n",
      "Saved: Cropped_Tumors\\benign\\tumor_490_mask0.png\n",
      "Saved: Cropped_Tumors\\benign\\tumor_492_mask0.png\n",
      "Saved: Cropped_Tumors\\benign\\tumor_494_mask0.png\n",
      "Saved: Cropped_Tumors\\benign\\tumor_496_mask0.png\n",
      "Saved: Cropped_Tumors\\benign\\tumor_498_mask0.png\n",
      "Saved: Cropped_Tumors\\benign\\tumor_500_mask0.png\n",
      "Saved: Cropped_Tumors\\benign\\tumor_502_mask0.png\n",
      "Saved: Cropped_Tumors\\benign\\tumor_504_mask0.png\n",
      "Saved: Cropped_Tumors\\benign\\tumor_506_mask0.png\n",
      "Saved: Cropped_Tumors\\benign\\tumor_508_mask0.png\n",
      "Saved: Cropped_Tumors\\benign\\tumor_510_mask0.png\n",
      "Saved: Cropped_Tumors\\benign\\tumor_512_mask0.png\n",
      "Saved: Cropped_Tumors\\benign\\tumor_514_mask0.png\n",
      "Saved: Cropped_Tumors\\benign\\tumor_516_mask0.png\n"
     ]
    },
    {
     "name": "stderr",
     "output_type": "stream",
     "text": [
      " 40%|███▉      | 537/1357 [00:03<00:06, 120.15it/s] "
     ]
    },
    {
     "name": "stdout",
     "output_type": "stream",
     "text": [
      "Saved: Cropped_Tumors\\benign\\tumor_518_mask0.png\n",
      "Saved: Cropped_Tumors\\benign\\tumor_520_mask0.png\n",
      "Saved: Cropped_Tumors\\benign\\tumor_522_mask0.png\n",
      "Saved: Cropped_Tumors\\benign\\tumor_524_mask0.png\n",
      "Saved: Cropped_Tumors\\benign\\tumor_526_mask0.png\n",
      "Saved: Cropped_Tumors\\benign\\tumor_528_mask0.png\n",
      "Saved: Cropped_Tumors\\benign\\tumor_530_mask0.png\n",
      "Saved: Cropped_Tumors\\benign\\tumor_532_mask0.png\n",
      "Saved: Cropped_Tumors\\benign\\tumor_532_mask1.png\n",
      "Saved: Cropped_Tumors\\benign\\tumor_535_mask0.png\n",
      "Saved: Cropped_Tumors\\benign\\tumor_537_mask0.png\n",
      "Saved: Cropped_Tumors\\benign\\tumor_539_mask0.png\n",
      "Saved: Cropped_Tumors\\benign\\tumor_541_mask0.png\n",
      "Saved: Cropped_Tumors\\benign\\tumor_543_mask0.png\n",
      "Saved: Cropped_Tumors\\benign\\tumor_545_mask0.png\n",
      "Saved: Cropped_Tumors\\benign\\tumor_547_mask0.png\n",
      "Saved: Cropped_Tumors\\benign\\tumor_549_mask0.png\n",
      "Saved: Cropped_Tumors\\benign\\tumor_551_mask0.png\n",
      "Saved: Cropped_Tumors\\benign\\tumor_553_mask0.png\n",
      "Saved: Cropped_Tumors\\benign\\tumor_555_mask0.png\n",
      "Saved: Cropped_Tumors\\benign\\tumor_557_mask0.png\n",
      "Saved: Cropped_Tumors\\benign\\tumor_559_mask0.png\n",
      "Saved: Cropped_Tumors\\benign\\tumor_561_mask0.png\n",
      "Saved: Cropped_Tumors\\benign\\tumor_563_mask0.png\n",
      "Saved: Cropped_Tumors\\benign\\tumor_565_mask0.png\n",
      "Saved: Cropped_Tumors\\benign\\tumor_567_mask0.png\n",
      "Saved: Cropped_Tumors\\benign\\tumor_569_mask0.png\n",
      "Saved: Cropped_Tumors\\benign\\tumor_571_mask0.png\n",
      "Saved: Cropped_Tumors\\benign\\tumor_573_mask0.png\n",
      "Saved: Cropped_Tumors\\benign\\tumor_575_mask0.png\n",
      "Saved: Cropped_Tumors\\benign\\tumor_577_mask0.png\n",
      "Saved: Cropped_Tumors\\benign\\tumor_579_mask0.png\n",
      "Saved: Cropped_Tumors\\benign\\tumor_581_mask0.png\n",
      "Saved: Cropped_Tumors\\benign\\tumor_583_mask0.png\n",
      "Saved: Cropped_Tumors\\benign\\tumor_585_mask0.png\n",
      "Saved: Cropped_Tumors\\benign\\tumor_587_mask0.png\n",
      "Saved: Cropped_Tumors\\benign\\tumor_589_mask0.png\n",
      "Saved: Cropped_Tumors\\benign\\tumor_591_mask0.png\n",
      "Saved: Cropped_Tumors\\benign\\tumor_593_mask0.png\n",
      "Saved: Cropped_Tumors\\benign\\tumor_595_mask0.png\n",
      "Saved: Cropped_Tumors\\benign\\tumor_597_mask0.png\n",
      "Saved: Cropped_Tumors\\benign\\tumor_599_mask0.png\n",
      "Saved: Cropped_Tumors\\benign\\tumor_601_mask0.png\n",
      "Saved: Cropped_Tumors\\benign\\tumor_603_mask0.png\n",
      "Saved: Cropped_Tumors\\benign\\tumor_603_mask1.png\n",
      "Saved: Cropped_Tumors\\benign\\tumor_606_mask0.png\n",
      "Saved: Cropped_Tumors\\benign\\tumor_608_mask0.png\n",
      "Saved: Cropped_Tumors\\benign\\tumor_610_mask0.png\n",
      "Saved: Cropped_Tumors\\benign\\tumor_612_mask0.png\n",
      "Saved: Cropped_Tumors\\benign\\tumor_614_mask0.png\n",
      "Saved: Cropped_Tumors\\benign\\tumor_616_mask0.png\n",
      "Saved: Cropped_Tumors\\benign\\tumor_618_mask0.png\n",
      "Saved: Cropped_Tumors\\benign\\tumor_620_mask0.png\n",
      "Saved: Cropped_Tumors\\benign\\tumor_622_mask0.png\n",
      "Saved: Cropped_Tumors\\benign\\tumor_624_mask0.png\n",
      "Saved: Cropped_Tumors\\benign\\tumor_626_mask0.png\n",
      "Saved: Cropped_Tumors\\benign\\tumor_628_mask0.png\n",
      "Saved: Cropped_Tumors\\benign\\tumor_630_mask0.png\n",
      "Saved: Cropped_Tumors\\benign\\tumor_632_mask0.png\n",
      "Saved: Cropped_Tumors\\benign\\tumor_634_mask0.png\n",
      "Saved: Cropped_Tumors\\benign\\tumor_636_mask0.png\n",
      "Saved: Cropped_Tumors\\benign\\tumor_638_mask0.png\n",
      "Saved: Cropped_Tumors\\benign\\tumor_640_mask0.png\n"
     ]
    },
    {
     "name": "stderr",
     "output_type": "stream",
     "text": [
      " 48%|████▊     | 651/1357 [00:05<00:06, 103.81it/s]"
     ]
    },
    {
     "name": "stdout",
     "output_type": "stream",
     "text": [
      "Saved: Cropped_Tumors\\benign\\tumor_642_mask0.png\n",
      "Saved: Cropped_Tumors\\benign\\tumor_644_mask0.png\n",
      "Saved: Cropped_Tumors\\benign\\tumor_646_mask0.png\n",
      "Saved: Cropped_Tumors\\benign\\tumor_648_mask0.png\n",
      "Saved: Cropped_Tumors\\benign\\tumor_650_mask0.png\n",
      "Saved: Cropped_Tumors\\benign\\tumor_652_mask0.png\n",
      "Saved: Cropped_Tumors\\benign\\tumor_654_mask0.png\n",
      "Saved: Cropped_Tumors\\benign\\tumor_656_mask0.png\n",
      "Saved: Cropped_Tumors\\benign\\tumor_658_mask0.png\n",
      "Saved: Cropped_Tumors\\benign\\tumor_660_mask0.png\n",
      "Saved: Cropped_Tumors\\benign\\tumor_662_mask0.png\n",
      "Saved: Cropped_Tumors\\benign\\tumor_664_mask0.png\n",
      "Saved: Cropped_Tumors\\benign\\tumor_666_mask0.png\n",
      "Saved: Cropped_Tumors\\benign\\tumor_668_mask0.png\n",
      "Saved: Cropped_Tumors\\benign\\tumor_670_mask0.png\n",
      "Saved: Cropped_Tumors\\benign\\tumor_670_mask1.png\n",
      "Saved: Cropped_Tumors\\benign\\tumor_673_mask0.png\n",
      "Saved: Cropped_Tumors\\benign\\tumor_675_mask0.png\n",
      "Saved: Cropped_Tumors\\benign\\tumor_677_mask0.png\n",
      "Saved: Cropped_Tumors\\benign\\tumor_679_mask0.png\n",
      "Saved: Cropped_Tumors\\benign\\tumor_681_mask0.png\n",
      "Saved: Cropped_Tumors\\benign\\tumor_683_mask0.png\n",
      "Saved: Cropped_Tumors\\benign\\tumor_685_mask0.png\n",
      "Saved: Cropped_Tumors\\benign\\tumor_687_mask0.png\n",
      "Saved: Cropped_Tumors\\benign\\tumor_689_mask0.png\n",
      "Saved: Cropped_Tumors\\benign\\tumor_691_mask0.png\n",
      "Saved: Cropped_Tumors\\benign\\tumor_693_mask0.png\n",
      "Saved: Cropped_Tumors\\benign\\tumor_695_mask0.png\n",
      "Saved: Cropped_Tumors\\benign\\tumor_697_mask0.png\n",
      "Saved: Cropped_Tumors\\benign\\tumor_699_mask0.png\n",
      "Saved: Cropped_Tumors\\benign\\tumor_701_mask0.png\n",
      "Saved: Cropped_Tumors\\benign\\tumor_703_mask0.png\n"
     ]
    },
    {
     "name": "stderr",
     "output_type": "stream",
     "text": [
      " 53%|█████▎    | 717/1357 [00:06<00:06, 96.16it/s] "
     ]
    },
    {
     "name": "stdout",
     "output_type": "stream",
     "text": [
      "Saved: Cropped_Tumors\\benign\\tumor_705_mask0.png\n",
      "Saved: Cropped_Tumors\\benign\\tumor_707_mask0.png\n",
      "Saved: Cropped_Tumors\\benign\\tumor_709_mask0.png\n",
      "Saved: Cropped_Tumors\\benign\\tumor_711_mask0.png\n",
      "Saved: Cropped_Tumors\\benign\\tumor_713_mask0.png\n",
      "Saved: Cropped_Tumors\\benign\\tumor_715_mask0.png\n",
      "Saved: Cropped_Tumors\\benign\\tumor_717_mask0.png\n",
      "Saved: Cropped_Tumors\\benign\\tumor_719_mask0.png\n",
      "Saved: Cropped_Tumors\\benign\\tumor_721_mask0.png\n",
      "Saved: Cropped_Tumors\\benign\\tumor_723_mask0.png\n",
      "Saved: Cropped_Tumors\\benign\\tumor_725_mask0.png\n",
      "Saved: Cropped_Tumors\\benign\\tumor_727_mask0.png\n",
      "Saved: Cropped_Tumors\\benign\\tumor_729_mask0.png\n",
      "Saved: Cropped_Tumors\\benign\\tumor_731_mask0.png\n",
      "Saved: Cropped_Tumors\\benign\\tumor_733_mask0.png\n",
      "Saved: Cropped_Tumors\\benign\\tumor_735_mask0.png\n",
      "Saved: Cropped_Tumors\\benign\\tumor_737_mask0.png\n",
      "Saved: Cropped_Tumors\\benign\\tumor_739_mask0.png\n",
      "Saved: Cropped_Tumors\\benign\\tumor_741_mask0.png\n",
      "Saved: Cropped_Tumors\\benign\\tumor_743_mask0.png\n",
      "Saved: Cropped_Tumors\\benign\\tumor_745_mask0.png\n"
     ]
    },
    {
     "name": "stderr",
     "output_type": "stream",
     "text": [
      " 56%|█████▌    | 760/1357 [00:06<00:06, 88.61it/s]"
     ]
    },
    {
     "name": "stdout",
     "output_type": "stream",
     "text": [
      "Saved: Cropped_Tumors\\benign\\tumor_747_mask0.png\n",
      "Saved: Cropped_Tumors\\benign\\tumor_749_mask0.png\n",
      "Saved: Cropped_Tumors\\benign\\tumor_751_mask0.png\n",
      "Saved: Cropped_Tumors\\benign\\tumor_753_mask0.png\n",
      "Saved: Cropped_Tumors\\benign\\tumor_755_mask0.png\n",
      "Saved: Cropped_Tumors\\benign\\tumor_757_mask0.png\n",
      "Saved: Cropped_Tumors\\benign\\tumor_759_mask0.png\n",
      "Saved: Cropped_Tumors\\benign\\tumor_761_mask0.png\n",
      "Saved: Cropped_Tumors\\benign\\tumor_763_mask0.png\n",
      "Saved: Cropped_Tumors\\benign\\tumor_765_mask0.png\n",
      "Saved: Cropped_Tumors\\benign\\tumor_767_mask0.png\n",
      "Saved: Cropped_Tumors\\benign\\tumor_769_mask0.png\n",
      "Saved: Cropped_Tumors\\benign\\tumor_771_mask0.png\n",
      "Saved: Cropped_Tumors\\benign\\tumor_773_mask0.png\n",
      "Saved: Cropped_Tumors\\benign\\tumor_775_mask0.png\n",
      "Saved: Cropped_Tumors\\benign\\tumor_777_mask0.png\n",
      "Saved: Cropped_Tumors\\benign\\tumor_779_mask0.png\n",
      "Saved: Cropped_Tumors\\benign\\tumor_781_mask0.png\n",
      "Saved: Cropped_Tumors\\benign\\tumor_783_mask0.png\n",
      "Saved: Cropped_Tumors\\benign\\tumor_785_mask0.png\n"
     ]
    },
    {
     "name": "stderr",
     "output_type": "stream",
     "text": [
      " 58%|█████▊    | 790/1357 [00:07<00:06, 82.41it/s]"
     ]
    },
    {
     "name": "stdout",
     "output_type": "stream",
     "text": [
      "Saved: Cropped_Tumors\\benign\\tumor_787_mask0.png\n",
      "Saved: Cropped_Tumors\\benign\\tumor_789_mask0.png\n",
      "Saved: Cropped_Tumors\\benign\\tumor_789_mask1.png\n",
      "Saved: Cropped_Tumors\\benign\\tumor_792_mask0.png\n",
      "Saved: Cropped_Tumors\\benign\\tumor_794_mask0.png\n",
      "Saved: Cropped_Tumors\\benign\\tumor_796_mask0.png\n",
      "Saved: Cropped_Tumors\\benign\\tumor_798_mask0.png\n",
      "Saved: Cropped_Tumors\\benign\\tumor_800_mask0.png\n",
      "Saved: Cropped_Tumors\\benign\\tumor_802_mask0.png\n",
      "Saved: Cropped_Tumors\\benign\\tumor_804_mask0.png\n",
      "Saved: Cropped_Tumors\\benign\\tumor_806_mask0.png\n"
     ]
    },
    {
     "name": "stderr",
     "output_type": "stream",
     "text": [
      " 60%|█████▉    | 812/1357 [00:07<00:07, 76.53it/s]"
     ]
    },
    {
     "name": "stdout",
     "output_type": "stream",
     "text": [
      "Saved: Cropped_Tumors\\benign\\tumor_808_mask0.png\n",
      "Saved: Cropped_Tumors\\benign\\tumor_810_mask0.png\n",
      "Saved: Cropped_Tumors\\benign\\tumor_812_mask0.png\n",
      "Saved: Cropped_Tumors\\benign\\tumor_814_mask0.png\n",
      "Saved: Cropped_Tumors\\benign\\tumor_816_mask0.png\n",
      "Saved: Cropped_Tumors\\benign\\tumor_818_mask0.png\n"
     ]
    },
    {
     "name": "stderr",
     "output_type": "stream",
     "text": [
      " 61%|██████    | 828/1357 [00:08<00:07, 70.90it/s]"
     ]
    },
    {
     "name": "stdout",
     "output_type": "stream",
     "text": [
      "Saved: Cropped_Tumors\\benign\\tumor_820_mask0.png\n",
      "Saved: Cropped_Tumors\\benign\\tumor_822_mask0.png\n",
      "Saved: Cropped_Tumors\\benign\\tumor_824_mask0.png\n",
      "Saved: Cropped_Tumors\\benign\\tumor_826_mask0.png\n",
      "Saved: Cropped_Tumors\\benign\\tumor_828_mask0.png\n",
      "Saved: Cropped_Tumors\\benign\\tumor_830_mask0.png\n",
      "Saved: Cropped_Tumors\\benign\\tumor_832_mask0.png\n",
      "Saved: Cropped_Tumors\\benign\\tumor_834_mask0.png\n",
      "Saved: Cropped_Tumors\\benign\\tumor_836_mask0.png\n",
      "Saved: Cropped_Tumors\\benign\\tumor_838_mask0.png\n"
     ]
    },
    {
     "name": "stderr",
     "output_type": "stream",
     "text": [
      " 63%|██████▎   | 851/1357 [00:08<00:07, 69.16it/s]"
     ]
    },
    {
     "name": "stdout",
     "output_type": "stream",
     "text": [
      "Saved: Cropped_Tumors\\benign\\tumor_840_mask0.png\n",
      "Saved: Cropped_Tumors\\benign\\tumor_842_mask0.png\n",
      "Saved: Cropped_Tumors\\benign\\tumor_844_mask0.png\n",
      "Saved: Cropped_Tumors\\benign\\tumor_846_mask0.png\n",
      "Saved: Cropped_Tumors\\benign\\tumor_846_mask1.png\n",
      "Saved: Cropped_Tumors\\benign\\tumor_849_mask0.png\n",
      "Saved: Cropped_Tumors\\benign\\tumor_851_mask0.png\n"
     ]
    },
    {
     "name": "stderr",
     "output_type": "stream",
     "text": [
      " 63%|██████▎   | 861/1357 [00:08<00:07, 67.86it/s]"
     ]
    },
    {
     "name": "stdout",
     "output_type": "stream",
     "text": [
      "Saved: Cropped_Tumors\\benign\\tumor_853_mask0.png\n",
      "Saved: Cropped_Tumors\\benign\\tumor_855_mask0.png\n",
      "Saved: Cropped_Tumors\\benign\\tumor_857_mask0.png\n",
      "Saved: Cropped_Tumors\\benign\\tumor_859_mask0.png\n",
      "Saved: Cropped_Tumors\\benign\\tumor_861_mask0.png\n",
      "Saved: Cropped_Tumors\\benign\\tumor_863_mask0.png\n",
      "Saved: Cropped_Tumors\\benign\\tumor_865_mask0.png\n",
      "Saved: Cropped_Tumors\\benign\\tumor_867_mask0.png\n"
     ]
    },
    {
     "name": "stderr",
     "output_type": "stream",
     "text": [
      " 65%|██████▍   | 878/1357 [00:09<00:07, 65.72it/s]"
     ]
    },
    {
     "name": "stdout",
     "output_type": "stream",
     "text": [
      "Saved: Cropped_Tumors\\benign\\tumor_869_mask0.png\n",
      "Saved: Cropped_Tumors\\benign\\tumor_871_mask0.png\n",
      "Saved: Cropped_Tumors\\benign\\tumor_873_mask0.png\n",
      "Saved: Cropped_Tumors\\benign\\tumor_875_mask0.png\n",
      "Saved: Cropped_Tumors\\benign\\tumor_877_mask0.png\n",
      "Saved: Cropped_Tumors\\benign\\tumor_879_mask0.png\n",
      "Saved: Cropped_Tumors\\benign\\tumor_881_mask0.png\n"
     ]
    },
    {
     "name": "stderr",
     "output_type": "stream",
     "text": [
      " 66%|██████▌   | 894/1357 [00:09<00:07, 65.84it/s]"
     ]
    },
    {
     "name": "stdout",
     "output_type": "stream",
     "text": [
      "Saved: Cropped_Tumors\\benign\\tumor_883_mask0.png\n",
      "Saved: Cropped_Tumors\\benign\\tumor_885_mask0.png\n",
      "Saved: Cropped_Tumors\\benign\\tumor_887_mask0.png\n",
      "Saved: Cropped_Tumors\\benign\\tumor_889_mask0.png\n",
      "Saved: Cropped_Tumors\\benign\\tumor_891_mask0.png\n",
      "Saved: Cropped_Tumors\\benign\\tumor_893_mask0.png\n",
      "Saved: Cropped_Tumors\\benign\\tumor_895_mask0.png\n",
      "Saved: Cropped_Tumors\\benign\\tumor_897_mask0.png\n"
     ]
    },
    {
     "name": "stderr",
     "output_type": "stream",
     "text": [
      " 67%|██████▋   | 910/1357 [00:09<00:06, 65.58it/s]"
     ]
    },
    {
     "name": "stdout",
     "output_type": "stream",
     "text": [
      "Saved: Cropped_Tumors\\benign\\tumor_897_mask1.png\n",
      "Saved: Cropped_Tumors\\benign\\tumor_900_mask0.png\n",
      "Saved: Cropped_Tumors\\benign\\tumor_902_mask0.png\n",
      "Saved: Cropped_Tumors\\benign\\tumor_904_mask0.png\n",
      "Saved: Cropped_Tumors\\benign\\tumor_906_mask0.png\n",
      "Saved: Cropped_Tumors\\benign\\tumor_906_mask1.png\n",
      "Saved: Cropped_Tumors\\benign\\tumor_909_mask0.png\n"
     ]
    },
    {
     "name": "stderr",
     "output_type": "stream",
     "text": [
      " 68%|██████▊   | 924/1357 [00:09<00:06, 63.62it/s]"
     ]
    },
    {
     "name": "stdout",
     "output_type": "stream",
     "text": [
      "Saved: Cropped_Tumors\\benign\\tumor_911_mask0.png\n",
      "Saved: Cropped_Tumors\\benign\\tumor_913_mask0.png\n",
      "Saved: Cropped_Tumors\\benign\\tumor_915_mask0.png\n",
      "Saved: Cropped_Tumors\\benign\\tumor_917_mask0.png\n",
      "Saved: Cropped_Tumors\\benign\\tumor_919_mask0.png\n",
      "Saved: Cropped_Tumors\\benign\\tumor_921_mask0.png\n",
      "Saved: Cropped_Tumors\\benign\\tumor_923_mask0.png\n"
     ]
    },
    {
     "name": "stderr",
     "output_type": "stream",
     "text": [
      " 69%|██████▊   | 932/1357 [00:09<00:06, 63.11it/s]"
     ]
    },
    {
     "name": "stdout",
     "output_type": "stream",
     "text": [
      "Saved: Cropped_Tumors\\benign\\tumor_925_mask0.png\n",
      "Saved: Cropped_Tumors\\benign\\tumor_927_mask0.png\n",
      "Saved: Cropped_Tumors\\benign\\tumor_929_mask0.png\n",
      "Saved: Cropped_Tumors\\benign\\tumor_931_mask0.png\n",
      "Saved: Cropped_Tumors\\benign\\tumor_933_mask0.png\n",
      "Saved: Cropped_Tumors\\benign\\tumor_935_mask0.png\n"
     ]
    },
    {
     "name": "stderr",
     "output_type": "stream",
     "text": [
      " 70%|██████▉   | 946/1357 [00:10<00:06, 62.01it/s]"
     ]
    },
    {
     "name": "stdout",
     "output_type": "stream",
     "text": [
      "Saved: Cropped_Tumors\\benign\\tumor_937_mask0.png\n",
      "Saved: Cropped_Tumors\\benign\\tumor_939_mask0.png\n",
      "Saved: Cropped_Tumors\\benign\\tumor_941_mask0.png\n",
      "Saved: Cropped_Tumors\\benign\\tumor_943_mask0.png\n",
      "Saved: Cropped_Tumors\\benign\\tumor_945_mask0.png\n",
      "Saved: Cropped_Tumors\\benign\\tumor_947_mask0.png\n",
      "Saved: Cropped_Tumors\\benign\\tumor_949_mask0.png\n"
     ]
    },
    {
     "name": "stderr",
     "output_type": "stream",
     "text": [
      " 71%|███████   | 961/1357 [00:10<00:06, 62.99it/s]"
     ]
    },
    {
     "name": "stdout",
     "output_type": "stream",
     "text": [
      "Saved: Cropped_Tumors\\benign\\tumor_951_mask0.png\n",
      "Saved: Cropped_Tumors\\benign\\tumor_953_mask0.png\n",
      "Saved: Cropped_Tumors\\benign\\tumor_955_mask0.png\n",
      "Saved: Cropped_Tumors\\benign\\tumor_957_mask0.png\n",
      "Saved: Cropped_Tumors\\benign\\tumor_957_mask1.png\n",
      "Saved: Cropped_Tumors\\benign\\tumor_960_mask0.png\n",
      "Saved: Cropped_Tumors\\benign\\tumor_962_mask0.png\n"
     ]
    },
    {
     "name": "stderr",
     "output_type": "stream",
     "text": [
      " 72%|███████▏  | 975/1357 [00:10<00:06, 60.25it/s]"
     ]
    },
    {
     "name": "stdout",
     "output_type": "stream",
     "text": [
      "Saved: Cropped_Tumors\\benign\\tumor_964_mask0.png\n",
      "Saved: Cropped_Tumors\\benign\\tumor_966_mask0.png\n",
      "Saved: Cropped_Tumors\\benign\\tumor_968_mask0.png\n",
      "Saved: Cropped_Tumors\\benign\\tumor_970_mask0.png\n",
      "Saved: Cropped_Tumors\\benign\\tumor_972_mask0.png\n",
      "Saved: Cropped_Tumors\\benign\\tumor_974_mask0.png\n",
      "Saved: Cropped_Tumors\\benign\\tumor_976_mask0.png\n"
     ]
    },
    {
     "name": "stderr",
     "output_type": "stream",
     "text": [
      " 73%|███████▎  | 991/1357 [00:10<00:06, 58.72it/s]"
     ]
    },
    {
     "name": "stdout",
     "output_type": "stream",
     "text": [
      "Saved: Cropped_Tumors\\benign\\tumor_978_mask0.png\n",
      "Saved: Cropped_Tumors\\benign\\tumor_978_mask1.png\n",
      "Saved: Cropped_Tumors\\benign\\tumor_981_mask0.png\n",
      "Saved: Cropped_Tumors\\benign\\tumor_981_mask1.png\n",
      "Saved: Cropped_Tumors\\benign\\tumor_984_mask0.png\n",
      "Saved: Cropped_Tumors\\benign\\tumor_986_mask0.png\n",
      "Saved: Cropped_Tumors\\benign\\tumor_988_mask0.png\n",
      "Saved: Cropped_Tumors\\benign\\tumor_990_mask0.png\n",
      "Saved: Cropped_Tumors\\benign\\tumor_990_mask1.png\n"
     ]
    },
    {
     "name": "stderr",
     "output_type": "stream",
     "text": [
      " 74%|███████▍  | 1003/1357 [00:11<00:06, 55.00it/s]"
     ]
    },
    {
     "name": "stdout",
     "output_type": "stream",
     "text": [
      "Saved: Cropped_Tumors\\benign\\tumor_993_mask0.png\n",
      "Saved: Cropped_Tumors\\malignant\\tumor_995_mask0.png\n",
      "Saved: Cropped_Tumors\\malignant\\tumor_997_mask0.png\n",
      "Saved: Cropped_Tumors\\malignant\\tumor_999_mask0.png\n",
      "Saved: Cropped_Tumors\\malignant\\tumor_1001_mask0.png\n"
     ]
    },
    {
     "name": "stderr",
     "output_type": "stream",
     "text": [
      " 75%|███████▍  | 1015/1357 [00:11<00:06, 52.18it/s]"
     ]
    },
    {
     "name": "stdout",
     "output_type": "stream",
     "text": [
      "Saved: Cropped_Tumors\\malignant\\tumor_1003_mask0.png\n",
      "Saved: Cropped_Tumors\\malignant\\tumor_1005_mask0.png\n",
      "Saved: Cropped_Tumors\\malignant\\tumor_1007_mask0.png\n",
      "Saved: Cropped_Tumors\\malignant\\tumor_1009_mask0.png\n",
      "Saved: Cropped_Tumors\\malignant\\tumor_1011_mask0.png\n",
      "Saved: Cropped_Tumors\\malignant\\tumor_1013_mask0.png\n"
     ]
    },
    {
     "name": "stderr",
     "output_type": "stream",
     "text": [
      " 75%|███████▌  | 1022/1357 [00:11<00:06, 54.07it/s]"
     ]
    },
    {
     "name": "stdout",
     "output_type": "stream",
     "text": [
      "Saved: Cropped_Tumors\\malignant\\tumor_1015_mask0.png\n",
      "Saved: Cropped_Tumors\\malignant\\tumor_1017_mask0.png\n",
      "Saved: Cropped_Tumors\\malignant\\tumor_1019_mask0.png\n",
      "Saved: Cropped_Tumors\\malignant\\tumor_1021_mask0.png\n",
      "Saved: Cropped_Tumors\\malignant\\tumor_1023_mask0.png\n"
     ]
    },
    {
     "name": "stderr",
     "output_type": "stream",
     "text": [
      " 76%|███████▌  | 1034/1357 [00:11<00:06, 50.32it/s]"
     ]
    },
    {
     "name": "stdout",
     "output_type": "stream",
     "text": [
      "Saved: Cropped_Tumors\\malignant\\tumor_1025_mask0.png\n",
      "Saved: Cropped_Tumors\\malignant\\tumor_1027_mask0.png\n",
      "Saved: Cropped_Tumors\\malignant\\tumor_1029_mask0.png\n",
      "Saved: Cropped_Tumors\\malignant\\tumor_1031_mask0.png\n",
      "Saved: Cropped_Tumors\\malignant\\tumor_1033_mask0.png\n",
      "Saved: Cropped_Tumors\\malignant\\tumor_1035_mask0.png\n"
     ]
    },
    {
     "name": "stderr",
     "output_type": "stream",
     "text": [
      " 77%|███████▋  | 1046/1357 [00:12<00:06, 50.29it/s]"
     ]
    },
    {
     "name": "stdout",
     "output_type": "stream",
     "text": [
      "Saved: Cropped_Tumors\\malignant\\tumor_1037_mask0.png\n",
      "Saved: Cropped_Tumors\\malignant\\tumor_1039_mask0.png\n",
      "Saved: Cropped_Tumors\\malignant\\tumor_1041_mask0.png\n",
      "Saved: Cropped_Tumors\\malignant\\tumor_1043_mask0.png\n",
      "Saved: Cropped_Tumors\\malignant\\tumor_1045_mask0.png\n"
     ]
    },
    {
     "name": "stderr",
     "output_type": "stream",
     "text": [
      " 78%|███████▊  | 1058/1357 [00:12<00:05, 53.36it/s]"
     ]
    },
    {
     "name": "stdout",
     "output_type": "stream",
     "text": [
      "Saved: Cropped_Tumors\\malignant\\tumor_1047_mask0.png\n",
      "Saved: Cropped_Tumors\\malignant\\tumor_1049_mask0.png\n",
      "Saved: Cropped_Tumors\\malignant\\tumor_1051_mask0.png\n",
      "Saved: Cropped_Tumors\\malignant\\tumor_1053_mask0.png\n",
      "Saved: Cropped_Tumors\\malignant\\tumor_1055_mask0.png\n",
      "Saved: Cropped_Tumors\\malignant\\tumor_1057_mask0.png\n"
     ]
    },
    {
     "name": "stderr",
     "output_type": "stream",
     "text": [
      " 78%|███████▊  | 1064/1357 [00:12<00:05, 52.86it/s]"
     ]
    },
    {
     "name": "stdout",
     "output_type": "stream",
     "text": [
      "Saved: Cropped_Tumors\\malignant\\tumor_1059_mask0.png\n",
      "Saved: Cropped_Tumors\\malignant\\tumor_1061_mask0.png\n",
      "Saved: Cropped_Tumors\\malignant\\tumor_1063_mask0.png\n",
      "Saved: Cropped_Tumors\\malignant\\tumor_1065_mask0.png\n"
     ]
    },
    {
     "name": "stderr",
     "output_type": "stream",
     "text": [
      " 79%|███████▉  | 1070/1357 [00:12<00:06, 43.91it/s]"
     ]
    },
    {
     "name": "stdout",
     "output_type": "stream",
     "text": [
      "Saved: Cropped_Tumors\\malignant\\tumor_1067_mask0.png\n",
      "Saved: Cropped_Tumors\\malignant\\tumor_1069_mask0.png\n",
      "Saved: Cropped_Tumors\\malignant\\tumor_1071_mask0.png\n",
      "Saved: Cropped_Tumors\\malignant\\tumor_1073_mask0.png\n"
     ]
    },
    {
     "name": "stderr",
     "output_type": "stream",
     "text": [
      " 80%|███████▉  | 1082/1357 [00:12<00:06, 44.56it/s]"
     ]
    },
    {
     "name": "stdout",
     "output_type": "stream",
     "text": [
      "Saved: Cropped_Tumors\\malignant\\tumor_1075_mask0.png\n",
      "Saved: Cropped_Tumors\\malignant\\tumor_1077_mask0.png\n",
      "Saved: Cropped_Tumors\\malignant\\tumor_1079_mask0.png\n",
      "Saved: Cropped_Tumors\\malignant\\tumor_1081_mask0.png\n",
      "Saved: Cropped_Tumors\\malignant\\tumor_1083_mask0.png\n"
     ]
    },
    {
     "name": "stderr",
     "output_type": "stream",
     "text": [
      " 80%|████████  | 1087/1357 [00:12<00:05, 45.48it/s]"
     ]
    },
    {
     "name": "stdout",
     "output_type": "stream",
     "text": [
      "Saved: Cropped_Tumors\\malignant\\tumor_1085_mask0.png\n",
      "Saved: Cropped_Tumors\\malignant\\tumor_1087_mask0.png\n",
      "Saved: Cropped_Tumors\\malignant\\tumor_1089_mask0.png\n"
     ]
    },
    {
     "name": "stderr",
     "output_type": "stream",
     "text": [
      " 81%|████████  | 1098/1357 [00:13<00:06, 39.25it/s]"
     ]
    },
    {
     "name": "stdout",
     "output_type": "stream",
     "text": [
      "Saved: Cropped_Tumors\\malignant\\tumor_1091_mask0.png\n",
      "Saved: Cropped_Tumors\\malignant\\tumor_1093_mask0.png\n",
      "Saved: Cropped_Tumors\\malignant\\tumor_1095_mask0.png\n",
      "Saved: Cropped_Tumors\\malignant\\tumor_1097_mask0.png\n",
      "Saved: Cropped_Tumors\\malignant\\tumor_1099_mask0.png\n",
      "Saved: Cropped_Tumors\\malignant\\tumor_1101_mask0.png\n"
     ]
    },
    {
     "name": "stderr",
     "output_type": "stream",
     "text": [
      " 82%|████████▏ | 1110/1357 [00:13<00:05, 44.00it/s]"
     ]
    },
    {
     "name": "stdout",
     "output_type": "stream",
     "text": [
      "Saved: Cropped_Tumors\\malignant\\tumor_1103_mask0.png\n",
      "Saved: Cropped_Tumors\\malignant\\tumor_1105_mask0.png\n",
      "Saved: Cropped_Tumors\\malignant\\tumor_1107_mask0.png\n",
      "Saved: Cropped_Tumors\\malignant\\tumor_1109_mask0.png\n",
      "Saved: Cropped_Tumors\\malignant\\tumor_1111_mask0.png\n",
      "Saved: Cropped_Tumors\\malignant\\tumor_1113_mask0.png\n"
     ]
    },
    {
     "name": "stderr",
     "output_type": "stream",
     "text": [
      " 83%|████████▎ | 1124/1357 [00:13<00:04, 50.78it/s]"
     ]
    },
    {
     "name": "stdout",
     "output_type": "stream",
     "text": [
      "Saved: Cropped_Tumors\\malignant\\tumor_1115_mask0.png\n",
      "Saved: Cropped_Tumors\\malignant\\tumor_1117_mask0.png\n",
      "Saved: Cropped_Tumors\\malignant\\tumor_1119_mask0.png\n",
      "Saved: Cropped_Tumors\\malignant\\tumor_1121_mask0.png\n",
      "Saved: Cropped_Tumors\\malignant\\tumor_1123_mask0.png\n",
      "Saved: Cropped_Tumors\\malignant\\tumor_1125_mask0.png\n",
      "Saved: Cropped_Tumors\\malignant\\tumor_1127_mask0.png\n"
     ]
    },
    {
     "name": "stderr",
     "output_type": "stream",
     "text": [
      " 84%|████████▎ | 1136/1357 [00:14<00:04, 47.34it/s]"
     ]
    },
    {
     "name": "stdout",
     "output_type": "stream",
     "text": [
      "Saved: Cropped_Tumors\\malignant\\tumor_1129_mask0.png\n",
      "Saved: Cropped_Tumors\\malignant\\tumor_1131_mask0.png\n",
      "Saved: Cropped_Tumors\\malignant\\tumor_1133_mask0.png\n",
      "Saved: Cropped_Tumors\\malignant\\tumor_1135_mask0.png\n"
     ]
    },
    {
     "name": "stderr",
     "output_type": "stream",
     "text": [
      " 85%|████████▍ | 1148/1357 [00:14<00:04, 49.24it/s]"
     ]
    },
    {
     "name": "stdout",
     "output_type": "stream",
     "text": [
      "Saved: Cropped_Tumors\\malignant\\tumor_1137_mask0.png\n",
      "Saved: Cropped_Tumors\\malignant\\tumor_1139_mask0.png\n",
      "Saved: Cropped_Tumors\\malignant\\tumor_1141_mask0.png\n",
      "Saved: Cropped_Tumors\\malignant\\tumor_1143_mask0.png\n",
      "Saved: Cropped_Tumors\\malignant\\tumor_1145_mask0.png\n",
      "Saved: Cropped_Tumors\\malignant\\tumor_1147_mask0.png\n"
     ]
    },
    {
     "name": "stderr",
     "output_type": "stream",
     "text": [
      " 85%|████████▌ | 1156/1357 [00:14<00:03, 52.34it/s]"
     ]
    },
    {
     "name": "stdout",
     "output_type": "stream",
     "text": [
      "Saved: Cropped_Tumors\\malignant\\tumor_1149_mask0.png\n",
      "Saved: Cropped_Tumors\\malignant\\tumor_1151_mask0.png\n",
      "Saved: Cropped_Tumors\\malignant\\tumor_1153_mask0.png\n",
      "Saved: Cropped_Tumors\\malignant\\tumor_1155_mask0.png\n",
      "Saved: Cropped_Tumors\\malignant\\tumor_1157_mask0.png\n",
      "Saved: Cropped_Tumors\\malignant\\tumor_1159_mask0.png\n"
     ]
    },
    {
     "name": "stderr",
     "output_type": "stream",
     "text": [
      " 86%|████████▌ | 1168/1357 [00:14<00:03, 49.67it/s]"
     ]
    },
    {
     "name": "stdout",
     "output_type": "stream",
     "text": [
      "Saved: Cropped_Tumors\\malignant\\tumor_1161_mask0.png\n",
      "Saved: Cropped_Tumors\\malignant\\tumor_1163_mask0.png\n",
      "Saved: Cropped_Tumors\\malignant\\tumor_1165_mask0.png\n",
      "Saved: Cropped_Tumors\\malignant\\tumor_1167_mask0.png\n",
      "Saved: Cropped_Tumors\\malignant\\tumor_1169_mask0.png\n",
      "Saved: Cropped_Tumors\\malignant\\tumor_1171_mask0.png\n"
     ]
    },
    {
     "name": "stderr",
     "output_type": "stream",
     "text": [
      " 87%|████████▋ | 1180/1357 [00:14<00:03, 50.59it/s]"
     ]
    },
    {
     "name": "stdout",
     "output_type": "stream",
     "text": [
      "Saved: Cropped_Tumors\\malignant\\tumor_1173_mask0.png\n",
      "Saved: Cropped_Tumors\\malignant\\tumor_1175_mask0.png\n",
      "Saved: Cropped_Tumors\\malignant\\tumor_1177_mask0.png\n",
      "Saved: Cropped_Tumors\\malignant\\tumor_1179_mask0.png\n"
     ]
    },
    {
     "name": "stderr",
     "output_type": "stream",
     "text": [
      " 88%|████████▊ | 1192/1357 [00:15<00:03, 45.52it/s]"
     ]
    },
    {
     "name": "stdout",
     "output_type": "stream",
     "text": [
      "Saved: Cropped_Tumors\\malignant\\tumor_1181_mask0.png\n",
      "Saved: Cropped_Tumors\\malignant\\tumor_1183_mask0.png\n",
      "Saved: Cropped_Tumors\\malignant\\tumor_1185_mask0.png\n",
      "Saved: Cropped_Tumors\\malignant\\tumor_1187_mask0.png\n",
      "Saved: Cropped_Tumors\\malignant\\tumor_1189_mask0.png\n",
      "Saved: Cropped_Tumors\\malignant\\tumor_1191_mask0.png\n"
     ]
    },
    {
     "name": "stderr",
     "output_type": "stream",
     "text": [
      " 89%|████████▊ | 1204/1357 [00:15<00:03, 47.22it/s]"
     ]
    },
    {
     "name": "stdout",
     "output_type": "stream",
     "text": [
      "Saved: Cropped_Tumors\\malignant\\tumor_1193_mask0.png\n",
      "Saved: Cropped_Tumors\\malignant\\tumor_1195_mask0.png\n",
      "Saved: Cropped_Tumors\\malignant\\tumor_1197_mask0.png\n",
      "Saved: Cropped_Tumors\\malignant\\tumor_1199_mask0.png\n",
      "Saved: Cropped_Tumors\\malignant\\tumor_1201_mask0.png\n",
      "Saved: Cropped_Tumors\\malignant\\tumor_1203_mask0.png\n"
     ]
    },
    {
     "name": "stderr",
     "output_type": "stream",
     "text": [
      " 90%|████████▉ | 1215/1357 [00:15<00:03, 45.46it/s]"
     ]
    },
    {
     "name": "stdout",
     "output_type": "stream",
     "text": [
      "Saved: Cropped_Tumors\\malignant\\tumor_1205_mask0.png\n",
      "Saved: Cropped_Tumors\\malignant\\tumor_1207_mask0.png\n",
      "Saved: Cropped_Tumors\\malignant\\tumor_1209_mask0.png\n",
      "Saved: Cropped_Tumors\\malignant\\tumor_1211_mask0.png\n",
      "Saved: Cropped_Tumors\\malignant\\tumor_1213_mask0.png\n"
     ]
    },
    {
     "name": "stderr",
     "output_type": "stream",
     "text": [
      " 90%|█████████ | 1226/1357 [00:15<00:02, 46.66it/s]"
     ]
    },
    {
     "name": "stdout",
     "output_type": "stream",
     "text": [
      "Saved: Cropped_Tumors\\malignant\\tumor_1215_mask0.png\n",
      "Saved: Cropped_Tumors\\malignant\\tumor_1217_mask0.png\n",
      "Saved: Cropped_Tumors\\malignant\\tumor_1219_mask0.png\n",
      "Saved: Cropped_Tumors\\malignant\\tumor_1221_mask0.png\n",
      "Saved: Cropped_Tumors\\malignant\\tumor_1223_mask0.png\n",
      "Saved: Cropped_Tumors\\malignant\\tumor_1225_mask0.png\n"
     ]
    },
    {
     "name": "stderr",
     "output_type": "stream",
     "text": [
      " 91%|█████████ | 1238/1357 [00:16<00:02, 49.36it/s]"
     ]
    },
    {
     "name": "stdout",
     "output_type": "stream",
     "text": [
      "Saved: Cropped_Tumors\\malignant\\tumor_1227_mask0.png\n",
      "Saved: Cropped_Tumors\\malignant\\tumor_1229_mask0.png\n",
      "Saved: Cropped_Tumors\\malignant\\tumor_1231_mask0.png\n",
      "Saved: Cropped_Tumors\\malignant\\tumor_1233_mask0.png\n",
      "Saved: Cropped_Tumors\\malignant\\tumor_1235_mask0.png\n",
      "Saved: Cropped_Tumors\\malignant\\tumor_1237_mask0.png\n"
     ]
    },
    {
     "name": "stderr",
     "output_type": "stream",
     "text": [
      " 92%|█████████▏| 1250/1357 [00:16<00:02, 52.70it/s]"
     ]
    },
    {
     "name": "stdout",
     "output_type": "stream",
     "text": [
      "Saved: Cropped_Tumors\\malignant\\tumor_1239_mask0.png\n",
      "Saved: Cropped_Tumors\\malignant\\tumor_1241_mask0.png\n",
      "Saved: Cropped_Tumors\\malignant\\tumor_1243_mask0.png\n",
      "Saved: Cropped_Tumors\\malignant\\tumor_1245_mask0.png\n",
      "Saved: Cropped_Tumors\\malignant\\tumor_1247_mask0.png\n",
      "Saved: Cropped_Tumors\\malignant\\tumor_1249_mask0.png\n",
      "Saved: Cropped_Tumors\\malignant\\tumor_1251_mask0.png\n"
     ]
    },
    {
     "name": "stderr",
     "output_type": "stream",
     "text": [
      " 93%|█████████▎| 1262/1357 [00:16<00:01, 49.36it/s]"
     ]
    },
    {
     "name": "stdout",
     "output_type": "stream",
     "text": [
      "Saved: Cropped_Tumors\\malignant\\tumor_1253_mask0.png\n",
      "Saved: Cropped_Tumors\\malignant\\tumor_1255_mask0.png\n",
      "Saved: Cropped_Tumors\\malignant\\tumor_1257_mask0.png\n",
      "Saved: Cropped_Tumors\\malignant\\tumor_1259_mask0.png\n",
      "Saved: Cropped_Tumors\\malignant\\tumor_1261_mask0.png\n"
     ]
    },
    {
     "name": "stderr",
     "output_type": "stream",
     "text": [
      " 94%|█████████▍| 1274/1357 [00:16<00:01, 50.28it/s]"
     ]
    },
    {
     "name": "stdout",
     "output_type": "stream",
     "text": [
      "Saved: Cropped_Tumors\\malignant\\tumor_1263_mask0.png\n",
      "Saved: Cropped_Tumors\\malignant\\tumor_1265_mask0.png\n",
      "Saved: Cropped_Tumors\\malignant\\tumor_1267_mask0.png\n",
      "Saved: Cropped_Tumors\\malignant\\tumor_1269_mask0.png\n",
      "Saved: Cropped_Tumors\\malignant\\tumor_1271_mask0.png\n",
      "Saved: Cropped_Tumors\\malignant\\tumor_1273_mask0.png\n"
     ]
    },
    {
     "name": "stderr",
     "output_type": "stream",
     "text": [
      " 95%|█████████▍| 1286/1357 [00:17<00:01, 50.65it/s]"
     ]
    },
    {
     "name": "stdout",
     "output_type": "stream",
     "text": [
      "Saved: Cropped_Tumors\\malignant\\tumor_1275_mask0.png\n",
      "Saved: Cropped_Tumors\\malignant\\tumor_1277_mask0.png\n",
      "Saved: Cropped_Tumors\\malignant\\tumor_1279_mask0.png\n",
      "Saved: Cropped_Tumors\\malignant\\tumor_1281_mask0.png\n",
      "Saved: Cropped_Tumors\\malignant\\tumor_1283_mask0.png\n",
      "Saved: Cropped_Tumors\\malignant\\tumor_1285_mask0.png\n"
     ]
    },
    {
     "name": "stderr",
     "output_type": "stream",
     "text": [
      " 95%|█████████▌| 1292/1357 [00:17<00:01, 46.27it/s]"
     ]
    },
    {
     "name": "stdout",
     "output_type": "stream",
     "text": [
      "Saved: Cropped_Tumors\\malignant\\tumor_1287_mask0.png\n",
      "Saved: Cropped_Tumors\\malignant\\tumor_1289_mask0.png\n",
      "Saved: Cropped_Tumors\\malignant\\tumor_1291_mask0.png\n",
      "Saved: Cropped_Tumors\\malignant\\tumor_1293_mask0.png\n",
      "Saved: Cropped_Tumors\\malignant\\tumor_1295_mask0.png\n"
     ]
    },
    {
     "name": "stderr",
     "output_type": "stream",
     "text": [
      " 96%|█████████▌| 1304/1357 [00:17<00:01, 51.51it/s]"
     ]
    },
    {
     "name": "stdout",
     "output_type": "stream",
     "text": [
      "Saved: Cropped_Tumors\\malignant\\tumor_1297_mask0.png\n",
      "Saved: Cropped_Tumors\\malignant\\tumor_1299_mask0.png\n",
      "Saved: Cropped_Tumors\\malignant\\tumor_1301_mask0.png\n",
      "Saved: Cropped_Tumors\\malignant\\tumor_1303_mask0.png\n",
      "Saved: Cropped_Tumors\\malignant\\tumor_1305_mask0.png\n",
      "Saved: Cropped_Tumors\\malignant\\tumor_1307_mask0.png\n"
     ]
    },
    {
     "name": "stderr",
     "output_type": "stream",
     "text": [
      " 97%|█████████▋| 1316/1357 [00:17<00:00, 49.52it/s]"
     ]
    },
    {
     "name": "stdout",
     "output_type": "stream",
     "text": [
      "Saved: Cropped_Tumors\\malignant\\tumor_1309_mask0.png\n",
      "Saved: Cropped_Tumors\\malignant\\tumor_1311_mask0.png\n",
      "Saved: Cropped_Tumors\\malignant\\tumor_1313_mask0.png\n",
      "Saved: Cropped_Tumors\\malignant\\tumor_1315_mask0.png\n",
      "Saved: Cropped_Tumors\\malignant\\tumor_1317_mask0.png\n",
      "Saved: Cropped_Tumors\\malignant\\tumor_1319_mask0.png\n"
     ]
    },
    {
     "name": "stderr",
     "output_type": "stream",
     "text": [
      " 98%|█████████▊| 1328/1357 [00:17<00:00, 49.61it/s]"
     ]
    },
    {
     "name": "stdout",
     "output_type": "stream",
     "text": [
      "Saved: Cropped_Tumors\\malignant\\tumor_1321_mask0.png\n",
      "Saved: Cropped_Tumors\\malignant\\tumor_1323_mask0.png\n",
      "Saved: Cropped_Tumors\\malignant\\tumor_1325_mask0.png\n",
      "Saved: Cropped_Tumors\\malignant\\tumor_1327_mask0.png\n",
      "Saved: Cropped_Tumors\\malignant\\tumor_1329_mask0.png\n",
      "Saved: Cropped_Tumors\\malignant\\tumor_1331_mask0.png\n"
     ]
    },
    {
     "name": "stderr",
     "output_type": "stream",
     "text": [
      " 99%|█████████▊| 1340/1357 [00:18<00:00, 47.32it/s]"
     ]
    },
    {
     "name": "stdout",
     "output_type": "stream",
     "text": [
      "Saved: Cropped_Tumors\\malignant\\tumor_1333_mask0.png\n",
      "Saved: Cropped_Tumors\\malignant\\tumor_1335_mask0.png\n",
      "Saved: Cropped_Tumors\\malignant\\tumor_1337_mask0.png\n",
      "Saved: Cropped_Tumors\\malignant\\tumor_1339_mask0.png\n",
      "Saved: Cropped_Tumors\\malignant\\tumor_1341_mask0.png\n",
      "Saved: Cropped_Tumors\\malignant\\tumor_1343_mask0.png\n"
     ]
    },
    {
     "name": "stderr",
     "output_type": "stream",
     "text": [
      "100%|██████████| 1357/1357 [00:18<00:00, 73.20it/s]"
     ]
    },
    {
     "name": "stdout",
     "output_type": "stream",
     "text": [
      "Saved: Cropped_Tumors\\malignant\\tumor_1345_mask0.png\n",
      "Saved: Cropped_Tumors\\malignant\\tumor_1347_mask0.png\n",
      "Saved: Cropped_Tumors\\malignant\\tumor_1349_mask0.png\n",
      "Saved: Cropped_Tumors\\malignant\\tumor_1351_mask0.png\n",
      "Saved: Cropped_Tumors\\malignant\\tumor_1353_mask0.png\n",
      "Saved: Cropped_Tumors\\malignant\\tumor_1355_mask0.png\n"
     ]
    },
    {
     "name": "stderr",
     "output_type": "stream",
     "text": [
      "\n",
      "  1%|          | 14/1357 [00:00<00:21, 61.88it/s]"
     ]
    },
    {
     "name": "stdout",
     "output_type": "stream",
     "text": [
      "Saved: Cropped_Tumors\\normal\\normal_0.png\n",
      "Saved: Cropped_Tumors\\normal\\normal_2.png\n",
      "Saved: Cropped_Tumors\\normal\\normal_4.png\n",
      "Saved: Cropped_Tumors\\normal\\normal_6.png\n",
      "Saved: Cropped_Tumors\\normal\\normal_8.png\n",
      "Saved: Cropped_Tumors\\normal\\normal_10.png\n",
      "Saved: Cropped_Tumors\\normal\\normal_12.png\n"
     ]
    },
    {
     "name": "stderr",
     "output_type": "stream",
     "text": [
      "  2%|▏         | 29/1357 [00:00<00:20, 65.69it/s]"
     ]
    },
    {
     "name": "stdout",
     "output_type": "stream",
     "text": [
      "Saved: Cropped_Tumors\\normal\\normal_14.png\n",
      "Saved: Cropped_Tumors\\normal\\normal_16.png\n",
      "Saved: Cropped_Tumors\\normal\\normal_18.png\n",
      "Saved: Cropped_Tumors\\normal\\normal_20.png\n",
      "Saved: Cropped_Tumors\\normal\\normal_22.png\n",
      "Saved: Cropped_Tumors\\normal\\normal_24.png\n",
      "Saved: Cropped_Tumors\\normal\\normal_26.png\n",
      "Saved: Cropped_Tumors\\normal\\normal_28.png\n"
     ]
    },
    {
     "name": "stderr",
     "output_type": "stream",
     "text": [
      "  3%|▎         | 36/1357 [00:00<00:21, 62.84it/s]"
     ]
    },
    {
     "name": "stdout",
     "output_type": "stream",
     "text": [
      "Saved: Cropped_Tumors\\normal\\normal_30.png\n",
      "Saved: Cropped_Tumors\\normal\\normal_32.png\n",
      "Saved: Cropped_Tumors\\normal\\normal_34.png\n",
      "Saved: Cropped_Tumors\\normal\\normal_36.png\n",
      "Saved: Cropped_Tumors\\normal\\normal_38.png\n",
      "Saved: Cropped_Tumors\\normal\\normal_40.png\n"
     ]
    },
    {
     "name": "stderr",
     "output_type": "stream",
     "text": [
      "  4%|▍         | 51/1357 [00:00<00:22, 59.21it/s]"
     ]
    },
    {
     "name": "stdout",
     "output_type": "stream",
     "text": [
      "Saved: Cropped_Tumors\\normal\\normal_42.png\n",
      "Saved: Cropped_Tumors\\normal\\normal_44.png\n",
      "Saved: Cropped_Tumors\\normal\\normal_46.png\n",
      "Saved: Cropped_Tumors\\normal\\normal_48.png\n",
      "Saved: Cropped_Tumors\\normal\\normal_50.png\n",
      "Saved: Cropped_Tumors\\normal\\normal_52.png\n",
      "Saved: Cropped_Tumors\\normal\\normal_54.png\n"
     ]
    },
    {
     "name": "stderr",
     "output_type": "stream",
     "text": [
      "  5%|▍         | 65/1357 [00:01<00:21, 60.19it/s]"
     ]
    },
    {
     "name": "stdout",
     "output_type": "stream",
     "text": [
      "Saved: Cropped_Tumors\\normal\\normal_56.png\n",
      "Saved: Cropped_Tumors\\normal\\normal_58.png\n",
      "Saved: Cropped_Tumors\\normal\\normal_60.png\n",
      "Saved: Cropped_Tumors\\normal\\normal_62.png\n",
      "Saved: Cropped_Tumors\\normal\\normal_64.png\n",
      "Saved: Cropped_Tumors\\normal\\normal_66.png\n",
      "Saved: Cropped_Tumors\\normal\\normal_68.png\n"
     ]
    },
    {
     "name": "stderr",
     "output_type": "stream",
     "text": [
      "  6%|▌         | 81/1357 [00:01<00:20, 61.56it/s]"
     ]
    },
    {
     "name": "stdout",
     "output_type": "stream",
     "text": [
      "Saved: Cropped_Tumors\\normal\\normal_70.png\n",
      "Saved: Cropped_Tumors\\normal\\normal_72.png\n",
      "Saved: Cropped_Tumors\\normal\\normal_74.png\n",
      "Saved: Cropped_Tumors\\normal\\normal_76.png\n",
      "Saved: Cropped_Tumors\\normal\\normal_78.png\n",
      "Saved: Cropped_Tumors\\normal\\normal_80.png\n",
      "Saved: Cropped_Tumors\\normal\\normal_82.png\n",
      "Saved: Cropped_Tumors\\normal\\normal_84.png\n"
     ]
    },
    {
     "name": "stderr",
     "output_type": "stream",
     "text": [
      "  7%|▋         | 96/1357 [00:01<00:18, 66.79it/s]"
     ]
    },
    {
     "name": "stdout",
     "output_type": "stream",
     "text": [
      "Saved: Cropped_Tumors\\normal\\normal_86.png\n",
      "Saved: Cropped_Tumors\\normal\\normal_88.png\n",
      "Saved: Cropped_Tumors\\normal\\normal_90.png\n",
      "Saved: Cropped_Tumors\\normal\\normal_92.png\n",
      "Saved: Cropped_Tumors\\normal\\normal_94.png\n",
      "Saved: Cropped_Tumors\\normal\\normal_96.png\n"
     ]
    },
    {
     "name": "stderr",
     "output_type": "stream",
     "text": [
      "  8%|▊         | 110/1357 [00:01<00:20, 62.00it/s]"
     ]
    },
    {
     "name": "stdout",
     "output_type": "stream",
     "text": [
      "Saved: Cropped_Tumors\\normal\\normal_98.png\n",
      "Saved: Cropped_Tumors\\normal\\normal_100.png\n",
      "Saved: Cropped_Tumors\\normal\\normal_102.png\n",
      "Saved: Cropped_Tumors\\normal\\normal_104.png\n",
      "Saved: Cropped_Tumors\\normal\\normal_106.png\n",
      "Saved: Cropped_Tumors\\normal\\normal_108.png\n",
      "Saved: Cropped_Tumors\\normal\\normal_110.png\n"
     ]
    },
    {
     "name": "stderr",
     "output_type": "stream",
     "text": [
      "  9%|▉         | 127/1357 [00:02<00:19, 62.58it/s]"
     ]
    },
    {
     "name": "stdout",
     "output_type": "stream",
     "text": [
      "Saved: Cropped_Tumors\\normal\\normal_112.png\n",
      "Saved: Cropped_Tumors\\normal\\normal_114.png\n",
      "Saved: Cropped_Tumors\\normal\\normal_116.png\n",
      "Saved: Cropped_Tumors\\normal\\normal_118.png\n",
      "Saved: Cropped_Tumors\\normal\\normal_120.png\n",
      "Saved: Cropped_Tumors\\normal\\normal_122.png\n",
      "Saved: Cropped_Tumors\\normal\\normal_124.png\n",
      "Saved: Cropped_Tumors\\normal\\normal_126.png\n"
     ]
    },
    {
     "name": "stderr",
     "output_type": "stream",
     "text": [
      " 10%|▉         | 134/1357 [00:02<00:21, 57.62it/s]"
     ]
    },
    {
     "name": "stdout",
     "output_type": "stream",
     "text": [
      "Saved: Cropped_Tumors\\normal\\normal_128.png\n",
      "Saved: Cropped_Tumors\\normal\\normal_130.png\n",
      "Saved: Cropped_Tumors\\normal\\normal_132.png\n",
      "Saved: Cropped_Tumors\\normal\\normal_134.png\n",
      "Saved: Cropped_Tumors\\normal\\normal_136.png\n",
      "Saved: Cropped_Tumors\\normal\\normal_138.png\n"
     ]
    },
    {
     "name": "stderr",
     "output_type": "stream",
     "text": [
      " 11%|█         | 147/1357 [00:02<00:21, 57.20it/s]"
     ]
    },
    {
     "name": "stdout",
     "output_type": "stream",
     "text": [
      "Saved: Cropped_Tumors\\normal\\normal_140.png\n",
      "Saved: Cropped_Tumors\\normal\\normal_142.png\n",
      "Saved: Cropped_Tumors\\normal\\normal_144.png\n",
      "Saved: Cropped_Tumors\\normal\\normal_146.png\n",
      "Saved: Cropped_Tumors\\normal\\normal_148.png\n",
      "Saved: Cropped_Tumors\\normal\\normal_150.png\n",
      "Saved: Cropped_Tumors\\normal\\normal_152.png\n",
      "Saved: Cropped_Tumors\\normal\\normal_154.png\n"
     ]
    },
    {
     "name": "stderr",
     "output_type": "stream",
     "text": [
      " 12%|█▏        | 165/1357 [00:02<00:17, 67.95it/s]"
     ]
    },
    {
     "name": "stdout",
     "output_type": "stream",
     "text": [
      "Saved: Cropped_Tumors\\normal\\normal_156.png\n",
      "Saved: Cropped_Tumors\\normal\\normal_158.png\n",
      "Saved: Cropped_Tumors\\normal\\normal_160.png\n",
      "Saved: Cropped_Tumors\\normal\\normal_162.png\n",
      "Saved: Cropped_Tumors\\normal\\normal_164.png\n",
      "Saved: Cropped_Tumors\\normal\\normal_166.png\n",
      "Saved: Cropped_Tumors\\normal\\normal_168.png\n"
     ]
    },
    {
     "name": "stderr",
     "output_type": "stream",
     "text": [
      " 13%|█▎        | 181/1357 [00:02<00:17, 68.60it/s]"
     ]
    },
    {
     "name": "stdout",
     "output_type": "stream",
     "text": [
      "Saved: Cropped_Tumors\\normal\\normal_170.png\n",
      "Saved: Cropped_Tumors\\normal\\normal_172.png\n",
      "Saved: Cropped_Tumors\\normal\\normal_174.png\n",
      "Saved: Cropped_Tumors\\normal\\normal_176.png\n",
      "Saved: Cropped_Tumors\\normal\\normal_178.png\n",
      "Saved: Cropped_Tumors\\normal\\normal_180.png\n",
      "Saved: Cropped_Tumors\\normal\\normal_182.png\n"
     ]
    },
    {
     "name": "stderr",
     "output_type": "stream",
     "text": [
      " 15%|█▍        | 197/1357 [00:03<00:16, 69.88it/s]"
     ]
    },
    {
     "name": "stdout",
     "output_type": "stream",
     "text": [
      "Saved: Cropped_Tumors\\normal\\normal_184.png\n",
      "Saved: Cropped_Tumors\\normal\\normal_186.png\n",
      "Saved: Cropped_Tumors\\normal\\normal_188.png\n",
      "Saved: Cropped_Tumors\\normal\\normal_190.png\n",
      "Saved: Cropped_Tumors\\normal\\normal_192.png\n",
      "Saved: Cropped_Tumors\\normal\\normal_194.png\n",
      "Saved: Cropped_Tumors\\normal\\normal_196.png\n",
      "Saved: Cropped_Tumors\\normal\\normal_198.png\n"
     ]
    },
    {
     "name": "stderr",
     "output_type": "stream",
     "text": [
      " 16%|█▌        | 213/1357 [00:03<00:17, 65.86it/s]"
     ]
    },
    {
     "name": "stdout",
     "output_type": "stream",
     "text": [
      "Saved: Cropped_Tumors\\normal\\normal_200.png\n",
      "Saved: Cropped_Tumors\\normal\\normal_202.png\n",
      "Saved: Cropped_Tumors\\normal\\normal_204.png\n",
      "Saved: Cropped_Tumors\\normal\\normal_206.png\n",
      "Saved: Cropped_Tumors\\normal\\normal_208.png\n",
      "Saved: Cropped_Tumors\\normal\\normal_210.png\n",
      "Saved: Cropped_Tumors\\normal\\normal_212.png\n"
     ]
    },
    {
     "name": "stderr",
     "output_type": "stream",
     "text": [
      " 16%|█▋        | 223/1357 [00:03<00:16, 69.41it/s]"
     ]
    },
    {
     "name": "stdout",
     "output_type": "stream",
     "text": [
      "Saved: Cropped_Tumors\\normal\\normal_214.png\n",
      "Saved: Cropped_Tumors\\normal\\normal_216.png\n",
      "Saved: Cropped_Tumors\\normal\\normal_218.png\n",
      "Saved: Cropped_Tumors\\normal\\normal_220.png\n",
      "Saved: Cropped_Tumors\\normal\\normal_222.png\n",
      "Saved: Cropped_Tumors\\normal\\normal_224.png\n",
      "Saved: Cropped_Tumors\\normal\\normal_226.png\n",
      "Saved: Cropped_Tumors\\normal\\normal_228.png\n"
     ]
    },
    {
     "name": "stderr",
     "output_type": "stream",
     "text": [
      " 18%|█▊        | 239/1357 [00:03<00:15, 70.64it/s]"
     ]
    },
    {
     "name": "stdout",
     "output_type": "stream",
     "text": [
      "Saved: Cropped_Tumors\\normal\\normal_230.png\n",
      "Saved: Cropped_Tumors\\normal\\normal_232.png\n",
      "Saved: Cropped_Tumors\\normal\\normal_234.png\n",
      "Saved: Cropped_Tumors\\normal\\normal_236.png\n",
      "Saved: Cropped_Tumors\\normal\\normal_238.png\n",
      "Saved: Cropped_Tumors\\normal\\normal_240.png\n",
      "Saved: Cropped_Tumors\\normal\\normal_242.png\n",
      "Saved: Cropped_Tumors\\normal\\normal_244.png\n"
     ]
    },
    {
     "name": "stderr",
     "output_type": "stream",
     "text": [
      " 19%|█▉        | 257/1357 [00:03<00:15, 71.75it/s]"
     ]
    },
    {
     "name": "stdout",
     "output_type": "stream",
     "text": [
      "Saved: Cropped_Tumors\\normal\\normal_246.png\n",
      "Saved: Cropped_Tumors\\normal\\normal_248.png\n",
      "Saved: Cropped_Tumors\\normal\\normal_250.png\n",
      "Saved: Cropped_Tumors\\normal\\normal_252.png\n",
      "Saved: Cropped_Tumors\\normal\\normal_254.png\n",
      "Saved: Cropped_Tumors\\normal\\normal_256.png\n",
      "Saved: Cropped_Tumors\\normal\\normal_258.png\n",
      "Saved: Cropped_Tumors\\normal\\normal_260.png\n"
     ]
    },
    {
     "name": "stderr",
     "output_type": "stream",
     "text": [
      "100%|██████████| 1357/1357 [00:04<00:00, 329.50it/s]"
     ]
    },
    {
     "name": "stdout",
     "output_type": "stream",
     "text": [
      "Saved: Cropped_Tumors\\normal\\normal_262.png\n",
      "Saved: Cropped_Tumors\\normal\\normal_264.png\n",
      "Processing complete. Cropped tumor images and normal images are saved in: Cropped_Tumors\n"
     ]
    },
    {
     "name": "stderr",
     "output_type": "stream",
     "text": [
      "\n"
     ]
    }
   ],
   "source": [
    "# Define output directories for cropped tumors\n",
    "output_dir = \"Cropped_Tumors\"\n",
    "benign_dir = os.path.join(output_dir, \"benign\")\n",
    "malignant_dir = os.path.join(output_dir, \"malignant\")\n",
    "normal_dir = os.path.join(output_dir, \"normal\")\n",
    "\n",
    "os.makedirs(benign_dir, exist_ok=True)\n",
    "os.makedirs(malignant_dir, exist_ok=True)\n",
    "os.makedirs(normal_dir, exist_ok=True)\n",
    "\n",
    "# Create a dictionary to store multiple masks for each image\n",
    "image_mask_pairs = {}\n",
    "\n",
    "# Store last bounding box from benign/malignant images\n",
    "last_bbox = None  \n",
    "\n",
    "# Iterate through the DataFrame to pair images and masks\n",
    "for index, row in df.iterrows():\n",
    "    image_path = row[\"image_path\"]\n",
    "    \n",
    "    if \"_mask\" in image_path:  # This is a mask\n",
    "        # Extract the base image path without any mask suffix\n",
    "        base_image_path = (\n",
    "            image_path.replace(\"_mask_2.png\", \".png\")\n",
    "                      .replace(\"_mask_1.png\", \".png\")\n",
    "                      .replace(\"_mask.png\", \".png\")\n",
    "        )\n",
    "        \n",
    "        if base_image_path not in image_mask_pairs:\n",
    "            image_mask_pairs[base_image_path] = []\n",
    "        \n",
    "        # Store all available masks in a list\n",
    "        image_mask_pairs[base_image_path].append(image_path)\n",
    "\n",
    "# Process benign and malignant images first\n",
    "for index, row in tqdm(df.iterrows(), total=len(df)):\n",
    "    image_path = row[\"image_path\"]\n",
    "    label = row[\"label\"]  # 1 = benign, 2 = malignant\n",
    "\n",
    "    # Skip normal images (they will be processed later)\n",
    "    if label == 0 or \"_mask\" in image_path:\n",
    "        continue  \n",
    "\n",
    "    # Find corresponding masks (if any)\n",
    "    mask_paths = sorted(image_mask_pairs.get(image_path, []))  \n",
    "\n",
    "    # Load the ultrasound image\n",
    "    image = cv2.imread(image_path)\n",
    "    if image is None:\n",
    "        print(f\"Warning: Could not load {image_path}\")\n",
    "        continue\n",
    "    image = cv2.cvtColor(image, cv2.COLOR_BGR2RGB)\n",
    "    image = cv2.resize(image, (1024, 1024))  # Resize for consistency\n",
    "\n",
    "    # Process each mask for the image\n",
    "    for mask_index, mask_path in enumerate(mask_paths):\n",
    "        # Load the mask image\n",
    "        mask = cv2.imread(mask_path, cv2.IMREAD_GRAYSCALE)\n",
    "        if mask is None:\n",
    "            print(f\"Warning: Could not load {mask_path}\")\n",
    "            continue\n",
    "        mask = cv2.resize(mask, (1024, 1024))  # Ensure same size as image\n",
    "\n",
    "        # Find contours in the mask\n",
    "        contours, _ = cv2.findContours(mask, cv2.RETR_EXTERNAL, cv2.CHAIN_APPROX_SIMPLE)\n",
    "\n",
    "        if len(contours) == 0:\n",
    "            print(f\"No tumor detected in {mask_path}\")\n",
    "            continue\n",
    "\n",
    "        # Select the largest contour (assuming it's the tumor)\n",
    "        largest_contour = max(contours, key=cv2.contourArea)\n",
    "\n",
    "        # Get bounding box around the largest contour\n",
    "        x, y, w, h = cv2.boundingRect(largest_contour)\n",
    "        last_bbox = (x, y, w, h)  # Store last bounding box\n",
    "\n",
    "        # Extract the tumor region\n",
    "        tumor_crop = image[y:y+h, x:x+w]\n",
    "\n",
    "        # Select folder based on label\n",
    "        label_dir = benign_dir if label == 1 else malignant_dir\n",
    "\n",
    "        # Save the cropped tumor image with mask index\n",
    "        tumor_filename = os.path.join(label_dir, f\"tumor_{index}_mask{mask_index}.png\")\n",
    "        cv2.imwrite(tumor_filename, cv2.cvtColor(tumor_crop, cv2.COLOR_RGB2BGR))\n",
    "\n",
    "        print(f\"Saved: {tumor_filename}\")\n",
    "\n",
    "# Now process only normal ultrasound images using the last known bounding box\n",
    "for index, row in tqdm(df.iterrows(), total=len(df)):\n",
    "    image_path = row[\"image_path\"]\n",
    "    label = row[\"label\"]  # 0 = normal\n",
    "\n",
    "    # Process only normal ultrasound images (skip masks)\n",
    "    if label != 0 or \"_mask\" in image_path:\n",
    "        continue  \n",
    "\n",
    "    # Load the ultrasound image\n",
    "    image = cv2.imread(image_path)\n",
    "    if image is None:\n",
    "        print(f\"Warning: Could not load {image_path}\")\n",
    "        continue\n",
    "    image = cv2.cvtColor(image, cv2.COLOR_BGR2RGB)\n",
    "    image = cv2.resize(image, (1024, 1024))  # Resize for consistency\n",
    "\n",
    "    # If no bounding box has been recorded, skip the normal image\n",
    "    if last_bbox is None:\n",
    "        print(f\"Skipping {image_path}: No bounding box available from previous tumors.\")\n",
    "        continue\n",
    "\n",
    "    # Crop using the last bounding box\n",
    "    x, y, w, h = last_bbox\n",
    "    normal_crop = image[y:y+h, x:x+w]\n",
    "\n",
    "    # Save the cropped normal image\n",
    "    normal_filename = os.path.join(normal_dir, f\"normal_{index}.png\")\n",
    "    cv2.imwrite(normal_filename, cv2.cvtColor(normal_crop, cv2.COLOR_RGB2BGR))\n",
    "\n",
    "    print(f\"Saved: {normal_filename}\")\n",
    "\n",
    "print(\"Processing complete. Cropped tumor images and normal images are saved in:\", output_dir)\n"
   ]
  },
  {
   "cell_type": "markdown",
   "metadata": {},
   "source": [
    "We now generates 4 random crops per normal image in order to increase the number of images we feed our CNN.  "
   ]
  },
  {
   "cell_type": "code",
   "execution_count": 44,
   "metadata": {},
   "outputs": [
    {
     "name": "stderr",
     "output_type": "stream",
     "text": [
      "  1%|          | 7/1357 [00:00<00:22, 60.66it/s]"
     ]
    },
    {
     "name": "stdout",
     "output_type": "stream",
     "text": [
      "Saved: Cropped_Tumors\\normal\\normal_0_crop0.png\n",
      "Saved: Cropped_Tumors\\normal\\normal_0_crop1.png\n",
      "Saved: Cropped_Tumors\\normal\\normal_0_crop2.png\n",
      "Saved: Cropped_Tumors\\normal\\normal_0_crop3.png\n",
      "Saved: Cropped_Tumors\\normal\\normal_2_crop0.png\n",
      "Saved: Cropped_Tumors\\normal\\normal_2_crop1.png\n",
      "Saved: Cropped_Tumors\\normal\\normal_2_crop2.png\n",
      "Saved: Cropped_Tumors\\normal\\normal_2_crop3.png\n",
      "Saved: Cropped_Tumors\\normal\\normal_4_crop0.png\n",
      "Saved: Cropped_Tumors\\normal\\normal_4_crop1.png\n",
      "Saved: Cropped_Tumors\\normal\\normal_4_crop2.png\n",
      "Saved: Cropped_Tumors\\normal\\normal_4_crop3.png\n",
      "Saved: Cropped_Tumors\\normal\\normal_6_crop0.png\n",
      "Saved: Cropped_Tumors\\normal\\normal_6_crop1.png\n",
      "Saved: Cropped_Tumors\\normal\\normal_6_crop2.png\n",
      "Saved: Cropped_Tumors\\normal\\normal_6_crop3.png\n",
      "Saved: Cropped_Tumors\\normal\\normal_8_crop0.png\n",
      "Saved: Cropped_Tumors\\normal\\normal_8_crop1.png\n",
      "Saved: Cropped_Tumors\\normal\\normal_8_crop2.png\n",
      "Saved: Cropped_Tumors\\normal\\normal_8_crop3.png\n",
      "Saved: Cropped_Tumors\\normal\\normal_10_crop0.png\n",
      "Saved: Cropped_Tumors\\normal\\normal_10_crop1.png\n",
      "Saved: Cropped_Tumors\\normal\\normal_10_crop2.png\n",
      "Saved: Cropped_Tumors\\normal\\normal_10_crop3.png\n",
      "Saved: Cropped_Tumors\\normal\\normal_12_crop0.png\n"
     ]
    },
    {
     "name": "stderr",
     "output_type": "stream",
     "text": [
      "  2%|▏         | 23/1357 [00:00<00:20, 65.77it/s]"
     ]
    },
    {
     "name": "stdout",
     "output_type": "stream",
     "text": [
      "Saved: Cropped_Tumors\\normal\\normal_12_crop1.png\n",
      "Saved: Cropped_Tumors\\normal\\normal_12_crop2.png\n",
      "Saved: Cropped_Tumors\\normal\\normal_12_crop3.png\n",
      "Saved: Cropped_Tumors\\normal\\normal_14_crop0.png\n",
      "Saved: Cropped_Tumors\\normal\\normal_14_crop1.png\n",
      "Saved: Cropped_Tumors\\normal\\normal_14_crop2.png\n",
      "Saved: Cropped_Tumors\\normal\\normal_14_crop3.png\n",
      "Saved: Cropped_Tumors\\normal\\normal_16_crop0.png\n",
      "Saved: Cropped_Tumors\\normal\\normal_16_crop1.png\n",
      "Saved: Cropped_Tumors\\normal\\normal_16_crop2.png\n",
      "Saved: Cropped_Tumors\\normal\\normal_16_crop3.png\n",
      "Saved: Cropped_Tumors\\normal\\normal_18_crop0.png\n",
      "Saved: Cropped_Tumors\\normal\\normal_18_crop1.png\n",
      "Saved: Cropped_Tumors\\normal\\normal_18_crop2.png\n",
      "Saved: Cropped_Tumors\\normal\\normal_18_crop3.png\n",
      "Saved: Cropped_Tumors\\normal\\normal_20_crop0.png\n",
      "Saved: Cropped_Tumors\\normal\\normal_20_crop1.png\n",
      "Saved: Cropped_Tumors\\normal\\normal_20_crop2.png\n",
      "Saved: Cropped_Tumors\\normal\\normal_20_crop3.png\n",
      "Saved: Cropped_Tumors\\normal\\normal_22_crop0.png\n",
      "Saved: Cropped_Tumors\\normal\\normal_22_crop1.png\n",
      "Saved: Cropped_Tumors\\normal\\normal_22_crop2.png\n",
      "Saved: Cropped_Tumors\\normal\\normal_22_crop3.png\n",
      "Saved: Cropped_Tumors\\normal\\normal_24_crop0.png\n",
      "Saved: Cropped_Tumors\\normal\\normal_24_crop1.png\n",
      "Saved: Cropped_Tumors\\normal\\normal_24_crop2.png\n",
      "Saved: Cropped_Tumors\\normal\\normal_24_crop3.png\n",
      "Saved: Cropped_Tumors\\normal\\normal_26_crop0.png\n",
      "Saved: Cropped_Tumors\\normal\\normal_26_crop1.png\n",
      "Saved: Cropped_Tumors\\normal\\normal_26_crop2.png\n",
      "Saved: Cropped_Tumors\\normal\\normal_26_crop3.png\n"
     ]
    },
    {
     "name": "stderr",
     "output_type": "stream",
     "text": [
      "  3%|▎         | 38/1357 [00:00<00:20, 65.37it/s]"
     ]
    },
    {
     "name": "stdout",
     "output_type": "stream",
     "text": [
      "Saved: Cropped_Tumors\\normal\\normal_28_crop0.png\n",
      "Saved: Cropped_Tumors\\normal\\normal_28_crop1.png\n",
      "Saved: Cropped_Tumors\\normal\\normal_28_crop2.png\n",
      "Saved: Cropped_Tumors\\normal\\normal_28_crop3.png\n",
      "Saved: Cropped_Tumors\\normal\\normal_30_crop0.png\n",
      "Saved: Cropped_Tumors\\normal\\normal_30_crop1.png\n",
      "Saved: Cropped_Tumors\\normal\\normal_30_crop2.png\n",
      "Saved: Cropped_Tumors\\normal\\normal_30_crop3.png\n",
      "Saved: Cropped_Tumors\\normal\\normal_32_crop0.png\n",
      "Saved: Cropped_Tumors\\normal\\normal_32_crop1.png\n",
      "Saved: Cropped_Tumors\\normal\\normal_32_crop2.png\n",
      "Saved: Cropped_Tumors\\normal\\normal_32_crop3.png\n",
      "Saved: Cropped_Tumors\\normal\\normal_34_crop0.png\n",
      "Saved: Cropped_Tumors\\normal\\normal_34_crop1.png\n",
      "Saved: Cropped_Tumors\\normal\\normal_34_crop2.png\n",
      "Saved: Cropped_Tumors\\normal\\normal_34_crop3.png\n",
      "Saved: Cropped_Tumors\\normal\\normal_36_crop0.png\n",
      "Saved: Cropped_Tumors\\normal\\normal_36_crop1.png\n",
      "Saved: Cropped_Tumors\\normal\\normal_36_crop2.png\n",
      "Saved: Cropped_Tumors\\normal\\normal_36_crop3.png\n",
      "Saved: Cropped_Tumors\\normal\\normal_38_crop0.png\n",
      "Saved: Cropped_Tumors\\normal\\normal_38_crop1.png\n",
      "Saved: Cropped_Tumors\\normal\\normal_38_crop2.png\n",
      "Saved: Cropped_Tumors\\normal\\normal_38_crop3.png\n",
      "Saved: Cropped_Tumors\\normal\\normal_40_crop0.png\n",
      "Saved: Cropped_Tumors\\normal\\normal_40_crop1.png\n"
     ]
    },
    {
     "name": "stderr",
     "output_type": "stream",
     "text": [
      "  4%|▍         | 52/1357 [00:00<00:20, 62.77it/s]"
     ]
    },
    {
     "name": "stdout",
     "output_type": "stream",
     "text": [
      "Saved: Cropped_Tumors\\normal\\normal_40_crop2.png\n",
      "Saved: Cropped_Tumors\\normal\\normal_40_crop3.png\n",
      "Saved: Cropped_Tumors\\normal\\normal_42_crop0.png\n",
      "Saved: Cropped_Tumors\\normal\\normal_42_crop1.png\n",
      "Saved: Cropped_Tumors\\normal\\normal_42_crop2.png\n",
      "Saved: Cropped_Tumors\\normal\\normal_42_crop3.png\n",
      "Saved: Cropped_Tumors\\normal\\normal_44_crop0.png\n",
      "Saved: Cropped_Tumors\\normal\\normal_44_crop1.png\n",
      "Saved: Cropped_Tumors\\normal\\normal_44_crop2.png\n",
      "Saved: Cropped_Tumors\\normal\\normal_44_crop3.png\n",
      "Saved: Cropped_Tumors\\normal\\normal_46_crop0.png\n",
      "Saved: Cropped_Tumors\\normal\\normal_46_crop1.png\n",
      "Saved: Cropped_Tumors\\normal\\normal_46_crop2.png\n",
      "Saved: Cropped_Tumors\\normal\\normal_46_crop3.png\n",
      "Saved: Cropped_Tumors\\normal\\normal_48_crop0.png\n",
      "Saved: Cropped_Tumors\\normal\\normal_48_crop1.png\n",
      "Saved: Cropped_Tumors\\normal\\normal_48_crop2.png\n",
      "Saved: Cropped_Tumors\\normal\\normal_48_crop3.png\n",
      "Saved: Cropped_Tumors\\normal\\normal_50_crop0.png\n",
      "Saved: Cropped_Tumors\\normal\\normal_50_crop1.png\n",
      "Saved: Cropped_Tumors\\normal\\normal_50_crop2.png\n",
      "Saved: Cropped_Tumors\\normal\\normal_50_crop3.png\n",
      "Saved: Cropped_Tumors\\normal\\normal_52_crop0.png\n",
      "Saved: Cropped_Tumors\\normal\\normal_52_crop1.png\n",
      "Saved: Cropped_Tumors\\normal\\normal_52_crop2.png\n",
      "Saved: Cropped_Tumors\\normal\\normal_52_crop3.png\n"
     ]
    },
    {
     "name": "stderr",
     "output_type": "stream",
     "text": [
      "  5%|▍         | 67/1357 [00:01<00:20, 61.56it/s]"
     ]
    },
    {
     "name": "stdout",
     "output_type": "stream",
     "text": [
      "Saved: Cropped_Tumors\\normal\\normal_54_crop0.png\n",
      "Saved: Cropped_Tumors\\normal\\normal_54_crop1.png\n",
      "Saved: Cropped_Tumors\\normal\\normal_54_crop2.png\n",
      "Saved: Cropped_Tumors\\normal\\normal_54_crop3.png\n",
      "Saved: Cropped_Tumors\\normal\\normal_56_crop0.png\n",
      "Saved: Cropped_Tumors\\normal\\normal_56_crop1.png\n",
      "Saved: Cropped_Tumors\\normal\\normal_56_crop2.png\n",
      "Saved: Cropped_Tumors\\normal\\normal_56_crop3.png\n",
      "Saved: Cropped_Tumors\\normal\\normal_58_crop0.png\n",
      "Saved: Cropped_Tumors\\normal\\normal_58_crop1.png\n",
      "Saved: Cropped_Tumors\\normal\\normal_58_crop2.png\n",
      "Saved: Cropped_Tumors\\normal\\normal_58_crop3.png\n",
      "Saved: Cropped_Tumors\\normal\\normal_60_crop0.png\n",
      "Saved: Cropped_Tumors\\normal\\normal_60_crop1.png\n",
      "Saved: Cropped_Tumors\\normal\\normal_60_crop2.png\n",
      "Saved: Cropped_Tumors\\normal\\normal_60_crop3.png\n",
      "Saved: Cropped_Tumors\\normal\\normal_62_crop0.png\n",
      "Saved: Cropped_Tumors\\normal\\normal_62_crop1.png\n",
      "Saved: Cropped_Tumors\\normal\\normal_62_crop2.png\n",
      "Saved: Cropped_Tumors\\normal\\normal_62_crop3.png\n",
      "Saved: Cropped_Tumors\\normal\\normal_64_crop0.png\n",
      "Saved: Cropped_Tumors\\normal\\normal_64_crop1.png\n",
      "Saved: Cropped_Tumors\\normal\\normal_64_crop2.png\n",
      "Saved: Cropped_Tumors\\normal\\normal_64_crop3.png\n",
      "Saved: Cropped_Tumors\\normal\\normal_66_crop0.png\n",
      "Saved: Cropped_Tumors\\normal\\normal_66_crop1.png\n",
      "Saved: Cropped_Tumors\\normal\\normal_66_crop2.png\n",
      "Saved: Cropped_Tumors\\normal\\normal_66_crop3.png\n"
     ]
    },
    {
     "name": "stderr",
     "output_type": "stream",
     "text": [
      "  6%|▌         | 75/1357 [00:01<00:20, 61.70it/s]"
     ]
    },
    {
     "name": "stdout",
     "output_type": "stream",
     "text": [
      "Saved: Cropped_Tumors\\normal\\normal_68_crop0.png\n",
      "Saved: Cropped_Tumors\\normal\\normal_68_crop1.png\n",
      "Saved: Cropped_Tumors\\normal\\normal_68_crop2.png\n",
      "Saved: Cropped_Tumors\\normal\\normal_68_crop3.png\n",
      "Saved: Cropped_Tumors\\normal\\normal_70_crop0.png\n",
      "Saved: Cropped_Tumors\\normal\\normal_70_crop1.png\n",
      "Saved: Cropped_Tumors\\normal\\normal_70_crop2.png\n",
      "Saved: Cropped_Tumors\\normal\\normal_70_crop3.png\n",
      "Saved: Cropped_Tumors\\normal\\normal_72_crop0.png\n",
      "Saved: Cropped_Tumors\\normal\\normal_72_crop1.png\n",
      "Saved: Cropped_Tumors\\normal\\normal_72_crop2.png\n",
      "Saved: Cropped_Tumors\\normal\\normal_72_crop3.png\n",
      "Saved: Cropped_Tumors\\normal\\normal_74_crop0.png\n",
      "Saved: Cropped_Tumors\\normal\\normal_74_crop1.png\n",
      "Saved: Cropped_Tumors\\normal\\normal_74_crop2.png\n",
      "Saved: Cropped_Tumors\\normal\\normal_74_crop3.png\n",
      "Saved: Cropped_Tumors\\normal\\normal_76_crop0.png\n",
      "Saved: Cropped_Tumors\\normal\\normal_76_crop1.png\n",
      "Saved: Cropped_Tumors\\normal\\normal_76_crop2.png\n",
      "Saved: Cropped_Tumors\\normal\\normal_76_crop3.png\n",
      "Saved: Cropped_Tumors\\normal\\normal_78_crop0.png\n",
      "Saved: Cropped_Tumors\\normal\\normal_78_crop1.png\n",
      "Saved: Cropped_Tumors\\normal\\normal_78_crop2.png\n",
      "Saved: Cropped_Tumors\\normal\\normal_78_crop3.png\n",
      "Saved: Cropped_Tumors\\normal\\normal_80_crop0.png\n",
      "Saved: Cropped_Tumors\\normal\\normal_80_crop1.png\n",
      "Saved: Cropped_Tumors\\normal\\normal_80_crop2.png\n",
      "Saved: Cropped_Tumors\\normal\\normal_80_crop3.png\n",
      "Saved: Cropped_Tumors\\normal\\normal_82_crop0.png\n",
      "Saved: Cropped_Tumors\\normal\\normal_82_crop1.png\n",
      "Saved: Cropped_Tumors\\normal\\normal_82_crop2.png\n",
      "Saved: Cropped_Tumors\\normal\\normal_82_crop3.png\n"
     ]
    },
    {
     "name": "stderr",
     "output_type": "stream",
     "text": [
      "  7%|▋         | 92/1357 [00:01<00:18, 68.17it/s]"
     ]
    },
    {
     "name": "stdout",
     "output_type": "stream",
     "text": [
      "Saved: Cropped_Tumors\\normal\\normal_84_crop0.png\n",
      "Saved: Cropped_Tumors\\normal\\normal_84_crop1.png\n",
      "Saved: Cropped_Tumors\\normal\\normal_84_crop2.png\n",
      "Saved: Cropped_Tumors\\normal\\normal_84_crop3.png\n",
      "Saved: Cropped_Tumors\\normal\\normal_86_crop0.png\n",
      "Saved: Cropped_Tumors\\normal\\normal_86_crop1.png\n",
      "Saved: Cropped_Tumors\\normal\\normal_86_crop2.png\n",
      "Saved: Cropped_Tumors\\normal\\normal_86_crop3.png\n",
      "Saved: Cropped_Tumors\\normal\\normal_88_crop0.png\n",
      "Saved: Cropped_Tumors\\normal\\normal_88_crop1.png\n",
      "Saved: Cropped_Tumors\\normal\\normal_88_crop2.png\n",
      "Saved: Cropped_Tumors\\normal\\normal_88_crop3.png\n",
      "Saved: Cropped_Tumors\\normal\\normal_90_crop0.png\n",
      "Saved: Cropped_Tumors\\normal\\normal_90_crop1.png\n",
      "Saved: Cropped_Tumors\\normal\\normal_90_crop2.png\n",
      "Saved: Cropped_Tumors\\normal\\normal_90_crop3.png\n",
      "Saved: Cropped_Tumors\\normal\\normal_92_crop0.png\n",
      "Saved: Cropped_Tumors\\normal\\normal_92_crop1.png\n",
      "Saved: Cropped_Tumors\\normal\\normal_92_crop2.png\n",
      "Saved: Cropped_Tumors\\normal\\normal_92_crop3.png\n",
      "Saved: Cropped_Tumors\\normal\\normal_94_crop0.png\n",
      "Saved: Cropped_Tumors\\normal\\normal_94_crop1.png\n",
      "Saved: Cropped_Tumors\\normal\\normal_94_crop2.png\n",
      "Saved: Cropped_Tumors\\normal\\normal_94_crop3.png\n",
      "Saved: Cropped_Tumors\\normal\\normal_96_crop0.png\n",
      "Saved: Cropped_Tumors\\normal\\normal_96_crop1.png\n",
      "Saved: Cropped_Tumors\\normal\\normal_96_crop2.png\n",
      "Saved: Cropped_Tumors\\normal\\normal_96_crop3.png\n"
     ]
    },
    {
     "name": "stderr",
     "output_type": "stream",
     "text": [
      "  8%|▊         | 107/1357 [00:01<00:19, 64.83it/s]"
     ]
    },
    {
     "name": "stdout",
     "output_type": "stream",
     "text": [
      "Saved: Cropped_Tumors\\normal\\normal_98_crop0.png\n",
      "Saved: Cropped_Tumors\\normal\\normal_98_crop1.png\n",
      "Saved: Cropped_Tumors\\normal\\normal_98_crop2.png\n",
      "Saved: Cropped_Tumors\\normal\\normal_98_crop3.png\n",
      "Saved: Cropped_Tumors\\normal\\normal_100_crop0.png\n",
      "Saved: Cropped_Tumors\\normal\\normal_100_crop1.png\n",
      "Saved: Cropped_Tumors\\normal\\normal_100_crop2.png\n",
      "Saved: Cropped_Tumors\\normal\\normal_100_crop3.png\n",
      "Saved: Cropped_Tumors\\normal\\normal_102_crop0.png\n",
      "Saved: Cropped_Tumors\\normal\\normal_102_crop1.png\n",
      "Saved: Cropped_Tumors\\normal\\normal_102_crop2.png\n",
      "Saved: Cropped_Tumors\\normal\\normal_102_crop3.png\n",
      "Saved: Cropped_Tumors\\normal\\normal_104_crop0.png\n",
      "Saved: Cropped_Tumors\\normal\\normal_104_crop1.png\n",
      "Saved: Cropped_Tumors\\normal\\normal_104_crop2.png\n",
      "Saved: Cropped_Tumors\\normal\\normal_104_crop3.png\n",
      "Saved: Cropped_Tumors\\normal\\normal_106_crop0.png\n",
      "Saved: Cropped_Tumors\\normal\\normal_106_crop1.png\n",
      "Saved: Cropped_Tumors\\normal\\normal_106_crop2.png\n",
      "Saved: Cropped_Tumors\\normal\\normal_106_crop3.png\n",
      "Saved: Cropped_Tumors\\normal\\normal_108_crop0.png\n",
      "Saved: Cropped_Tumors\\normal\\normal_108_crop1.png\n",
      "Saved: Cropped_Tumors\\normal\\normal_108_crop2.png\n",
      "Saved: Cropped_Tumors\\normal\\normal_108_crop3.png\n",
      "Saved: Cropped_Tumors\\normal\\normal_110_crop0.png\n",
      "Saved: Cropped_Tumors\\normal\\normal_110_crop1.png\n",
      "Saved: Cropped_Tumors\\normal\\normal_110_crop2.png\n",
      "Saved: Cropped_Tumors\\normal\\normal_110_crop3.png\n"
     ]
    },
    {
     "name": "stderr",
     "output_type": "stream",
     "text": [
      "  9%|▉         | 123/1357 [00:01<00:17, 69.13it/s]"
     ]
    },
    {
     "name": "stdout",
     "output_type": "stream",
     "text": [
      "Saved: Cropped_Tumors\\normal\\normal_112_crop0.png\n",
      "Saved: Cropped_Tumors\\normal\\normal_112_crop1.png\n",
      "Saved: Cropped_Tumors\\normal\\normal_112_crop2.png\n",
      "Saved: Cropped_Tumors\\normal\\normal_112_crop3.png\n",
      "Saved: Cropped_Tumors\\normal\\normal_114_crop0.png\n",
      "Saved: Cropped_Tumors\\normal\\normal_114_crop1.png\n",
      "Saved: Cropped_Tumors\\normal\\normal_114_crop2.png\n",
      "Saved: Cropped_Tumors\\normal\\normal_114_crop3.png\n",
      "Saved: Cropped_Tumors\\normal\\normal_116_crop0.png\n",
      "Saved: Cropped_Tumors\\normal\\normal_116_crop1.png\n",
      "Saved: Cropped_Tumors\\normal\\normal_116_crop2.png\n",
      "Saved: Cropped_Tumors\\normal\\normal_116_crop3.png\n",
      "Saved: Cropped_Tumors\\normal\\normal_118_crop0.png\n",
      "Saved: Cropped_Tumors\\normal\\normal_118_crop1.png\n",
      "Saved: Cropped_Tumors\\normal\\normal_118_crop2.png\n",
      "Saved: Cropped_Tumors\\normal\\normal_118_crop3.png\n",
      "Saved: Cropped_Tumors\\normal\\normal_120_crop0.png\n",
      "Saved: Cropped_Tumors\\normal\\normal_120_crop1.png\n",
      "Saved: Cropped_Tumors\\normal\\normal_120_crop2.png\n",
      "Saved: Cropped_Tumors\\normal\\normal_120_crop3.png\n",
      "Saved: Cropped_Tumors\\normal\\normal_122_crop0.png\n",
      "Saved: Cropped_Tumors\\normal\\normal_122_crop1.png\n",
      "Saved: Cropped_Tumors\\normal\\normal_122_crop2.png\n",
      "Saved: Cropped_Tumors\\normal\\normal_122_crop3.png\n",
      "Saved: Cropped_Tumors\\normal\\normal_124_crop0.png\n",
      "Saved: Cropped_Tumors\\normal\\normal_124_crop1.png\n",
      "Saved: Cropped_Tumors\\normal\\normal_124_crop2.png\n",
      "Saved: Cropped_Tumors\\normal\\normal_124_crop3.png\n",
      "Saved: Cropped_Tumors\\normal\\normal_126_crop0.png\n",
      "Saved: Cropped_Tumors\\normal\\normal_126_crop1.png\n",
      "Saved: Cropped_Tumors\\normal\\normal_126_crop2.png\n"
     ]
    },
    {
     "name": "stderr",
     "output_type": "stream",
     "text": [
      " 10%|█         | 137/1357 [00:02<00:18, 65.52it/s]"
     ]
    },
    {
     "name": "stdout",
     "output_type": "stream",
     "text": [
      "Saved: Cropped_Tumors\\normal\\normal_126_crop3.png\n",
      "Saved: Cropped_Tumors\\normal\\normal_128_crop0.png\n",
      "Saved: Cropped_Tumors\\normal\\normal_128_crop1.png\n",
      "Saved: Cropped_Tumors\\normal\\normal_128_crop2.png\n",
      "Saved: Cropped_Tumors\\normal\\normal_128_crop3.png\n",
      "Saved: Cropped_Tumors\\normal\\normal_130_crop0.png\n",
      "Saved: Cropped_Tumors\\normal\\normal_130_crop1.png\n",
      "Saved: Cropped_Tumors\\normal\\normal_130_crop2.png\n",
      "Saved: Cropped_Tumors\\normal\\normal_130_crop3.png\n",
      "Saved: Cropped_Tumors\\normal\\normal_132_crop0.png\n",
      "Saved: Cropped_Tumors\\normal\\normal_132_crop1.png\n",
      "Saved: Cropped_Tumors\\normal\\normal_132_crop2.png\n",
      "Saved: Cropped_Tumors\\normal\\normal_132_crop3.png\n",
      "Saved: Cropped_Tumors\\normal\\normal_134_crop0.png\n",
      "Saved: Cropped_Tumors\\normal\\normal_134_crop1.png\n",
      "Saved: Cropped_Tumors\\normal\\normal_134_crop2.png\n",
      "Saved: Cropped_Tumors\\normal\\normal_134_crop3.png\n",
      "Saved: Cropped_Tumors\\normal\\normal_136_crop0.png\n",
      "Saved: Cropped_Tumors\\normal\\normal_136_crop1.png\n",
      "Saved: Cropped_Tumors\\normal\\normal_136_crop2.png\n",
      "Saved: Cropped_Tumors\\normal\\normal_136_crop3.png\n",
      "Saved: Cropped_Tumors\\normal\\normal_138_crop0.png\n",
      "Saved: Cropped_Tumors\\normal\\normal_138_crop1.png\n",
      "Saved: Cropped_Tumors\\normal\\normal_138_crop2.png\n",
      "Saved: Cropped_Tumors\\normal\\normal_138_crop3.png\n"
     ]
    },
    {
     "name": "stderr",
     "output_type": "stream",
     "text": [
      " 11%|█▏        | 153/1357 [00:02<00:18, 66.74it/s]"
     ]
    },
    {
     "name": "stdout",
     "output_type": "stream",
     "text": [
      "Saved: Cropped_Tumors\\normal\\normal_140_crop0.png\n",
      "Saved: Cropped_Tumors\\normal\\normal_140_crop1.png\n",
      "Saved: Cropped_Tumors\\normal\\normal_140_crop2.png\n",
      "Saved: Cropped_Tumors\\normal\\normal_140_crop3.png\n",
      "Saved: Cropped_Tumors\\normal\\normal_142_crop0.png\n",
      "Saved: Cropped_Tumors\\normal\\normal_142_crop1.png\n",
      "Saved: Cropped_Tumors\\normal\\normal_142_crop2.png\n",
      "Saved: Cropped_Tumors\\normal\\normal_142_crop3.png\n",
      "Saved: Cropped_Tumors\\normal\\normal_144_crop0.png\n",
      "Saved: Cropped_Tumors\\normal\\normal_144_crop1.png\n",
      "Saved: Cropped_Tumors\\normal\\normal_144_crop2.png\n",
      "Saved: Cropped_Tumors\\normal\\normal_144_crop3.png\n",
      "Saved: Cropped_Tumors\\normal\\normal_146_crop0.png\n",
      "Saved: Cropped_Tumors\\normal\\normal_146_crop1.png\n",
      "Saved: Cropped_Tumors\\normal\\normal_146_crop2.png\n",
      "Saved: Cropped_Tumors\\normal\\normal_146_crop3.png\n",
      "Saved: Cropped_Tumors\\normal\\normal_148_crop0.png\n",
      "Saved: Cropped_Tumors\\normal\\normal_148_crop1.png\n",
      "Saved: Cropped_Tumors\\normal\\normal_148_crop2.png\n",
      "Saved: Cropped_Tumors\\normal\\normal_148_crop3.png\n",
      "Saved: Cropped_Tumors\\normal\\normal_150_crop0.png\n",
      "Saved: Cropped_Tumors\\normal\\normal_150_crop1.png\n",
      "Saved: Cropped_Tumors\\normal\\normal_150_crop2.png\n",
      "Saved: Cropped_Tumors\\normal\\normal_150_crop3.png\n",
      "Saved: Cropped_Tumors\\normal\\normal_152_crop0.png\n",
      "Saved: Cropped_Tumors\\normal\\normal_152_crop1.png\n",
      "Saved: Cropped_Tumors\\normal\\normal_152_crop2.png\n",
      "Saved: Cropped_Tumors\\normal\\normal_152_crop3.png\n"
     ]
    },
    {
     "name": "stderr",
     "output_type": "stream",
     "text": [
      " 12%|█▏        | 163/1357 [00:02<00:16, 72.56it/s]"
     ]
    },
    {
     "name": "stdout",
     "output_type": "stream",
     "text": [
      "Saved: Cropped_Tumors\\normal\\normal_154_crop0.png\n",
      "Saved: Cropped_Tumors\\normal\\normal_154_crop1.png\n",
      "Saved: Cropped_Tumors\\normal\\normal_154_crop2.png\n",
      "Saved: Cropped_Tumors\\normal\\normal_154_crop3.png\n",
      "Saved: Cropped_Tumors\\normal\\normal_156_crop0.png\n",
      "Saved: Cropped_Tumors\\normal\\normal_156_crop1.png\n",
      "Saved: Cropped_Tumors\\normal\\normal_156_crop2.png\n",
      "Saved: Cropped_Tumors\\normal\\normal_156_crop3.png\n",
      "Saved: Cropped_Tumors\\normal\\normal_158_crop0.png\n",
      "Saved: Cropped_Tumors\\normal\\normal_158_crop1.png\n",
      "Saved: Cropped_Tumors\\normal\\normal_158_crop2.png\n",
      "Saved: Cropped_Tumors\\normal\\normal_158_crop3.png\n",
      "Saved: Cropped_Tumors\\normal\\normal_160_crop0.png\n",
      "Saved: Cropped_Tumors\\normal\\normal_160_crop1.png\n",
      "Saved: Cropped_Tumors\\normal\\normal_160_crop2.png\n",
      "Saved: Cropped_Tumors\\normal\\normal_160_crop3.png\n",
      "Saved: Cropped_Tumors\\normal\\normal_162_crop0.png\n",
      "Saved: Cropped_Tumors\\normal\\normal_162_crop1.png\n",
      "Saved: Cropped_Tumors\\normal\\normal_162_crop2.png\n",
      "Saved: Cropped_Tumors\\normal\\normal_162_crop3.png\n",
      "Saved: Cropped_Tumors\\normal\\normal_164_crop0.png\n",
      "Saved: Cropped_Tumors\\normal\\normal_164_crop1.png\n",
      "Saved: Cropped_Tumors\\normal\\normal_164_crop2.png\n",
      "Saved: Cropped_Tumors\\normal\\normal_164_crop3.png\n",
      "Saved: Cropped_Tumors\\normal\\normal_166_crop0.png\n",
      "Saved: Cropped_Tumors\\normal\\normal_166_crop1.png\n",
      "Saved: Cropped_Tumors\\normal\\normal_166_crop2.png\n",
      "Saved: Cropped_Tumors\\normal\\normal_166_crop3.png\n",
      "Saved: Cropped_Tumors\\normal\\normal_168_crop0.png\n",
      "Saved: Cropped_Tumors\\normal\\normal_168_crop1.png\n",
      "Saved: Cropped_Tumors\\normal\\normal_168_crop2.png\n",
      "Saved: Cropped_Tumors\\normal\\normal_168_crop3.png\n"
     ]
    },
    {
     "name": "stderr",
     "output_type": "stream",
     "text": [
      " 13%|█▎        | 179/1357 [00:02<00:16, 72.30it/s]"
     ]
    },
    {
     "name": "stdout",
     "output_type": "stream",
     "text": [
      "Saved: Cropped_Tumors\\normal\\normal_170_crop0.png\n",
      "Saved: Cropped_Tumors\\normal\\normal_170_crop1.png\n",
      "Saved: Cropped_Tumors\\normal\\normal_170_crop2.png\n",
      "Saved: Cropped_Tumors\\normal\\normal_170_crop3.png\n",
      "Saved: Cropped_Tumors\\normal\\normal_172_crop0.png\n",
      "Saved: Cropped_Tumors\\normal\\normal_172_crop1.png\n",
      "Saved: Cropped_Tumors\\normal\\normal_172_crop2.png\n",
      "Saved: Cropped_Tumors\\normal\\normal_172_crop3.png\n",
      "Saved: Cropped_Tumors\\normal\\normal_174_crop0.png\n",
      "Saved: Cropped_Tumors\\normal\\normal_174_crop1.png\n",
      "Saved: Cropped_Tumors\\normal\\normal_174_crop2.png\n",
      "Saved: Cropped_Tumors\\normal\\normal_174_crop3.png\n",
      "Saved: Cropped_Tumors\\normal\\normal_176_crop0.png\n",
      "Saved: Cropped_Tumors\\normal\\normal_176_crop1.png\n",
      "Saved: Cropped_Tumors\\normal\\normal_176_crop2.png\n",
      "Saved: Cropped_Tumors\\normal\\normal_176_crop3.png\n",
      "Saved: Cropped_Tumors\\normal\\normal_178_crop0.png\n",
      "Saved: Cropped_Tumors\\normal\\normal_178_crop1.png\n",
      "Saved: Cropped_Tumors\\normal\\normal_178_crop2.png\n",
      "Saved: Cropped_Tumors\\normal\\normal_178_crop3.png\n",
      "Saved: Cropped_Tumors\\normal\\normal_180_crop0.png\n",
      "Saved: Cropped_Tumors\\normal\\normal_180_crop1.png\n",
      "Saved: Cropped_Tumors\\normal\\normal_180_crop2.png\n",
      "Saved: Cropped_Tumors\\normal\\normal_180_crop3.png\n",
      "Saved: Cropped_Tumors\\normal\\normal_182_crop0.png\n",
      "Saved: Cropped_Tumors\\normal\\normal_182_crop1.png\n",
      "Saved: Cropped_Tumors\\normal\\normal_182_crop2.png\n",
      "Saved: Cropped_Tumors\\normal\\normal_182_crop3.png\n",
      "Saved: Cropped_Tumors\\normal\\normal_184_crop0.png\n",
      "Saved: Cropped_Tumors\\normal\\normal_184_crop1.png\n",
      "Saved: Cropped_Tumors\\normal\\normal_184_crop2.png\n",
      "Saved: Cropped_Tumors\\normal\\normal_184_crop3.png\n",
      "Saved: Cropped_Tumors\\normal\\normal_186_crop0.png\n",
      "Saved: Cropped_Tumors\\normal\\normal_186_crop1.png\n"
     ]
    },
    {
     "name": "stderr",
     "output_type": "stream",
     "text": [
      " 14%|█▍        | 195/1357 [00:02<00:16, 72.31it/s]"
     ]
    },
    {
     "name": "stdout",
     "output_type": "stream",
     "text": [
      "Saved: Cropped_Tumors\\normal\\normal_186_crop2.png\n",
      "Saved: Cropped_Tumors\\normal\\normal_186_crop3.png\n",
      "Saved: Cropped_Tumors\\normal\\normal_188_crop0.png\n",
      "Saved: Cropped_Tumors\\normal\\normal_188_crop1.png\n",
      "Saved: Cropped_Tumors\\normal\\normal_188_crop2.png\n",
      "Saved: Cropped_Tumors\\normal\\normal_188_crop3.png\n",
      "Saved: Cropped_Tumors\\normal\\normal_190_crop0.png\n",
      "Saved: Cropped_Tumors\\normal\\normal_190_crop1.png\n",
      "Saved: Cropped_Tumors\\normal\\normal_190_crop2.png\n",
      "Saved: Cropped_Tumors\\normal\\normal_190_crop3.png\n",
      "Saved: Cropped_Tumors\\normal\\normal_192_crop0.png\n",
      "Saved: Cropped_Tumors\\normal\\normal_192_crop1.png\n",
      "Saved: Cropped_Tumors\\normal\\normal_192_crop2.png\n",
      "Saved: Cropped_Tumors\\normal\\normal_192_crop3.png\n",
      "Saved: Cropped_Tumors\\normal\\normal_194_crop0.png\n",
      "Saved: Cropped_Tumors\\normal\\normal_194_crop1.png\n",
      "Saved: Cropped_Tumors\\normal\\normal_194_crop2.png\n",
      "Saved: Cropped_Tumors\\normal\\normal_194_crop3.png\n",
      "Saved: Cropped_Tumors\\normal\\normal_196_crop0.png\n",
      "Saved: Cropped_Tumors\\normal\\normal_196_crop1.png\n",
      "Saved: Cropped_Tumors\\normal\\normal_196_crop2.png\n",
      "Saved: Cropped_Tumors\\normal\\normal_196_crop3.png\n",
      "Saved: Cropped_Tumors\\normal\\normal_198_crop0.png\n",
      "Saved: Cropped_Tumors\\normal\\normal_198_crop1.png\n",
      "Saved: Cropped_Tumors\\normal\\normal_198_crop2.png\n",
      "Saved: Cropped_Tumors\\normal\\normal_198_crop3.png\n",
      "Saved: Cropped_Tumors\\normal\\normal_200_crop0.png\n",
      "Saved: Cropped_Tumors\\normal\\normal_200_crop1.png\n",
      "Saved: Cropped_Tumors\\normal\\normal_200_crop2.png\n",
      "Saved: Cropped_Tumors\\normal\\normal_200_crop3.png\n"
     ]
    },
    {
     "name": "stderr",
     "output_type": "stream",
     "text": [
      " 16%|█▌        | 211/1357 [00:03<00:15, 74.09it/s]"
     ]
    },
    {
     "name": "stdout",
     "output_type": "stream",
     "text": [
      "Saved: Cropped_Tumors\\normal\\normal_202_crop0.png\n",
      "Saved: Cropped_Tumors\\normal\\normal_202_crop1.png\n",
      "Saved: Cropped_Tumors\\normal\\normal_202_crop2.png\n",
      "Saved: Cropped_Tumors\\normal\\normal_202_crop3.png\n",
      "Saved: Cropped_Tumors\\normal\\normal_204_crop0.png\n",
      "Saved: Cropped_Tumors\\normal\\normal_204_crop1.png\n",
      "Saved: Cropped_Tumors\\normal\\normal_204_crop2.png\n",
      "Saved: Cropped_Tumors\\normal\\normal_204_crop3.png\n",
      "Saved: Cropped_Tumors\\normal\\normal_206_crop0.png\n",
      "Saved: Cropped_Tumors\\normal\\normal_206_crop1.png\n",
      "Saved: Cropped_Tumors\\normal\\normal_206_crop2.png\n",
      "Saved: Cropped_Tumors\\normal\\normal_206_crop3.png\n",
      "Saved: Cropped_Tumors\\normal\\normal_208_crop0.png\n",
      "Saved: Cropped_Tumors\\normal\\normal_208_crop1.png\n",
      "Saved: Cropped_Tumors\\normal\\normal_208_crop2.png\n",
      "Saved: Cropped_Tumors\\normal\\normal_208_crop3.png\n",
      "Saved: Cropped_Tumors\\normal\\normal_210_crop0.png\n",
      "Saved: Cropped_Tumors\\normal\\normal_210_crop1.png\n",
      "Saved: Cropped_Tumors\\normal\\normal_210_crop2.png\n",
      "Saved: Cropped_Tumors\\normal\\normal_210_crop3.png\n",
      "Saved: Cropped_Tumors\\normal\\normal_212_crop0.png\n",
      "Saved: Cropped_Tumors\\normal\\normal_212_crop1.png\n",
      "Saved: Cropped_Tumors\\normal\\normal_212_crop2.png\n",
      "Saved: Cropped_Tumors\\normal\\normal_212_crop3.png\n",
      "Saved: Cropped_Tumors\\normal\\normal_214_crop0.png\n",
      "Saved: Cropped_Tumors\\normal\\normal_214_crop1.png\n",
      "Saved: Cropped_Tumors\\normal\\normal_214_crop2.png\n",
      "Saved: Cropped_Tumors\\normal\\normal_214_crop3.png\n",
      "Saved: Cropped_Tumors\\normal\\normal_216_crop0.png\n",
      "Saved: Cropped_Tumors\\normal\\normal_216_crop1.png\n",
      "Saved: Cropped_Tumors\\normal\\normal_216_crop2.png\n",
      "Saved: Cropped_Tumors\\normal\\normal_216_crop3.png\n",
      "Saved: Cropped_Tumors\\normal\\normal_218_crop0.png\n",
      "Saved: Cropped_Tumors\\normal\\normal_218_crop1.png\n",
      "Saved: Cropped_Tumors\\normal\\normal_218_crop2.png\n",
      "Saved: Cropped_Tumors\\normal\\normal_218_crop3.png\n"
     ]
    },
    {
     "name": "stderr",
     "output_type": "stream",
     "text": [
      " 17%|█▋        | 229/1357 [00:03<00:14, 75.75it/s]"
     ]
    },
    {
     "name": "stdout",
     "output_type": "stream",
     "text": [
      "Saved: Cropped_Tumors\\normal\\normal_220_crop0.png\n",
      "Saved: Cropped_Tumors\\normal\\normal_220_crop1.png\n",
      "Saved: Cropped_Tumors\\normal\\normal_220_crop2.png\n",
      "Saved: Cropped_Tumors\\normal\\normal_220_crop3.png\n",
      "Saved: Cropped_Tumors\\normal\\normal_222_crop0.png\n",
      "Saved: Cropped_Tumors\\normal\\normal_222_crop1.png\n",
      "Saved: Cropped_Tumors\\normal\\normal_222_crop2.png\n",
      "Saved: Cropped_Tumors\\normal\\normal_222_crop3.png\n",
      "Saved: Cropped_Tumors\\normal\\normal_224_crop0.png\n",
      "Saved: Cropped_Tumors\\normal\\normal_224_crop1.png\n",
      "Saved: Cropped_Tumors\\normal\\normal_224_crop2.png\n",
      "Saved: Cropped_Tumors\\normal\\normal_224_crop3.png\n",
      "Saved: Cropped_Tumors\\normal\\normal_226_crop0.png\n",
      "Saved: Cropped_Tumors\\normal\\normal_226_crop1.png\n",
      "Saved: Cropped_Tumors\\normal\\normal_226_crop2.png\n",
      "Saved: Cropped_Tumors\\normal\\normal_226_crop3.png\n",
      "Saved: Cropped_Tumors\\normal\\normal_228_crop0.png\n",
      "Saved: Cropped_Tumors\\normal\\normal_228_crop1.png\n",
      "Saved: Cropped_Tumors\\normal\\normal_228_crop2.png\n",
      "Saved: Cropped_Tumors\\normal\\normal_228_crop3.png\n",
      "Saved: Cropped_Tumors\\normal\\normal_230_crop0.png\n",
      "Saved: Cropped_Tumors\\normal\\normal_230_crop1.png\n",
      "Saved: Cropped_Tumors\\normal\\normal_230_crop2.png\n",
      "Saved: Cropped_Tumors\\normal\\normal_230_crop3.png\n",
      "Saved: Cropped_Tumors\\normal\\normal_232_crop0.png\n",
      "Saved: Cropped_Tumors\\normal\\normal_232_crop1.png\n",
      "Saved: Cropped_Tumors\\normal\\normal_232_crop2.png\n",
      "Saved: Cropped_Tumors\\normal\\normal_232_crop3.png\n"
     ]
    },
    {
     "name": "stderr",
     "output_type": "stream",
     "text": [
      " 18%|█▊        | 247/1357 [00:03<00:14, 76.57it/s]"
     ]
    },
    {
     "name": "stdout",
     "output_type": "stream",
     "text": [
      "Saved: Cropped_Tumors\\normal\\normal_234_crop0.png\n",
      "Saved: Cropped_Tumors\\normal\\normal_234_crop1.png\n",
      "Saved: Cropped_Tumors\\normal\\normal_234_crop2.png\n",
      "Saved: Cropped_Tumors\\normal\\normal_234_crop3.png\n",
      "Saved: Cropped_Tumors\\normal\\normal_236_crop0.png\n",
      "Saved: Cropped_Tumors\\normal\\normal_236_crop1.png\n",
      "Saved: Cropped_Tumors\\normal\\normal_236_crop2.png\n",
      "Saved: Cropped_Tumors\\normal\\normal_236_crop3.png\n",
      "Saved: Cropped_Tumors\\normal\\normal_238_crop0.png\n",
      "Saved: Cropped_Tumors\\normal\\normal_238_crop1.png\n",
      "Saved: Cropped_Tumors\\normal\\normal_238_crop2.png\n",
      "Saved: Cropped_Tumors\\normal\\normal_238_crop3.png\n",
      "Saved: Cropped_Tumors\\normal\\normal_240_crop0.png\n",
      "Saved: Cropped_Tumors\\normal\\normal_240_crop1.png\n",
      "Saved: Cropped_Tumors\\normal\\normal_240_crop2.png\n",
      "Saved: Cropped_Tumors\\normal\\normal_240_crop3.png\n",
      "Saved: Cropped_Tumors\\normal\\normal_242_crop0.png\n",
      "Saved: Cropped_Tumors\\normal\\normal_242_crop1.png\n",
      "Saved: Cropped_Tumors\\normal\\normal_242_crop2.png\n",
      "Saved: Cropped_Tumors\\normal\\normal_242_crop3.png\n",
      "Saved: Cropped_Tumors\\normal\\normal_244_crop0.png\n",
      "Saved: Cropped_Tumors\\normal\\normal_244_crop1.png\n",
      "Saved: Cropped_Tumors\\normal\\normal_244_crop2.png\n",
      "Saved: Cropped_Tumors\\normal\\normal_244_crop3.png\n",
      "Saved: Cropped_Tumors\\normal\\normal_246_crop0.png\n",
      "Saved: Cropped_Tumors\\normal\\normal_246_crop1.png\n",
      "Saved: Cropped_Tumors\\normal\\normal_246_crop2.png\n",
      "Saved: Cropped_Tumors\\normal\\normal_246_crop3.png\n",
      "Saved: Cropped_Tumors\\normal\\normal_248_crop0.png\n",
      "Saved: Cropped_Tumors\\normal\\normal_248_crop1.png\n",
      "Saved: Cropped_Tumors\\normal\\normal_248_crop2.png\n",
      "Saved: Cropped_Tumors\\normal\\normal_248_crop3.png\n",
      "Saved: Cropped_Tumors\\normal\\normal_250_crop0.png\n",
      "Saved: Cropped_Tumors\\normal\\normal_250_crop1.png\n",
      "Saved: Cropped_Tumors\\normal\\normal_250_crop2.png\n",
      "Saved: Cropped_Tumors\\normal\\normal_250_crop3.png\n"
     ]
    },
    {
     "name": "stderr",
     "output_type": "stream",
     "text": [
      " 19%|█▉        | 263/1357 [00:03<00:15, 68.75it/s]"
     ]
    },
    {
     "name": "stdout",
     "output_type": "stream",
     "text": [
      "Saved: Cropped_Tumors\\normal\\normal_252_crop0.png\n",
      "Saved: Cropped_Tumors\\normal\\normal_252_crop1.png\n",
      "Saved: Cropped_Tumors\\normal\\normal_252_crop2.png\n",
      "Saved: Cropped_Tumors\\normal\\normal_252_crop3.png\n",
      "Saved: Cropped_Tumors\\normal\\normal_254_crop0.png\n",
      "Saved: Cropped_Tumors\\normal\\normal_254_crop1.png\n",
      "Saved: Cropped_Tumors\\normal\\normal_254_crop2.png\n",
      "Saved: Cropped_Tumors\\normal\\normal_254_crop3.png\n",
      "Saved: Cropped_Tumors\\normal\\normal_256_crop0.png\n",
      "Saved: Cropped_Tumors\\normal\\normal_256_crop1.png\n",
      "Saved: Cropped_Tumors\\normal\\normal_256_crop2.png\n",
      "Saved: Cropped_Tumors\\normal\\normal_256_crop3.png\n",
      "Saved: Cropped_Tumors\\normal\\normal_258_crop0.png\n",
      "Saved: Cropped_Tumors\\normal\\normal_258_crop1.png\n",
      "Saved: Cropped_Tumors\\normal\\normal_258_crop2.png\n",
      "Saved: Cropped_Tumors\\normal\\normal_258_crop3.png\n",
      "Saved: Cropped_Tumors\\normal\\normal_260_crop0.png\n",
      "Saved: Cropped_Tumors\\normal\\normal_260_crop1.png\n",
      "Saved: Cropped_Tumors\\normal\\normal_260_crop2.png\n",
      "Saved: Cropped_Tumors\\normal\\normal_260_crop3.png\n",
      "Saved: Cropped_Tumors\\normal\\normal_262_crop0.png\n",
      "Saved: Cropped_Tumors\\normal\\normal_262_crop1.png\n",
      "Saved: Cropped_Tumors\\normal\\normal_262_crop2.png\n",
      "Saved: Cropped_Tumors\\normal\\normal_262_crop3.png\n"
     ]
    },
    {
     "name": "stderr",
     "output_type": "stream",
     "text": [
      "100%|██████████| 1357/1357 [00:03<00:00, 345.04it/s]"
     ]
    },
    {
     "name": "stdout",
     "output_type": "stream",
     "text": [
      "Saved: Cropped_Tumors\\normal\\normal_264_crop0.png\n",
      "Saved: Cropped_Tumors\\normal\\normal_264_crop1.png\n",
      "Saved: Cropped_Tumors\\normal\\normal_264_crop2.png\n",
      "Saved: Cropped_Tumors\\normal\\normal_264_crop3.png\n",
      "Processing complete. Randomly cropped normal images are saved in: Cropped_Tumors\\normal\n"
     ]
    },
    {
     "name": "stderr",
     "output_type": "stream",
     "text": [
      "\n"
     ]
    }
   ],
   "source": [
    "import random\n",
    "\n",
    "# Define output directory for cropped normal images\n",
    "output_dir = \"Cropped_Tumors\"\n",
    "normal_dir = os.path.join(output_dir, \"normal\")\n",
    "\n",
    "os.makedirs(normal_dir, exist_ok=True)\n",
    "\n",
    "# Random crop parameters\n",
    "NUM_CROPS = 4  # Number of crops per normal image\n",
    "CROP_SIZE = 128  # Size of each cropped region (128x128 pixels)\n",
    "\n",
    "# Iterate through the DataFrame and process only normal ultrasound images\n",
    "for index, row in tqdm(df.iterrows(), total=len(df)):\n",
    "    image_path = row[\"image_path\"]\n",
    "    label = row[\"label\"]  # 0 = normal\n",
    "\n",
    "    # Skip non-normal images and all mask images\n",
    "    if label != 0 or \"_mask\" in image_path:\n",
    "        continue  \n",
    "\n",
    "    # Load the normal ultrasound image\n",
    "    image = cv2.imread(image_path)\n",
    "    if image is None:\n",
    "        print(f\"Warning: Could not load {image_path}\")\n",
    "        continue\n",
    "    image = cv2.cvtColor(image, cv2.COLOR_BGR2RGB)\n",
    "    image = cv2.resize(image, (1024, 1024))  # Resize for consistency\n",
    "\n",
    "    # Generate random crops\n",
    "    for crop_index in range(NUM_CROPS):\n",
    "        # Randomly select a top-left corner for the crop (within image bounds)\n",
    "        x = random.randint(0, 1024 - CROP_SIZE)\n",
    "        y = random.randint(0, 1024 - CROP_SIZE)\n",
    "\n",
    "        # Extract the crop\n",
    "        crop = image[y:y + CROP_SIZE, x:x + CROP_SIZE]\n",
    "\n",
    "        # Save the cropped image\n",
    "        crop_filename = os.path.join(normal_dir, f\"normal_{index}_crop{crop_index}.png\")\n",
    "        cv2.imwrite(crop_filename, cv2.cvtColor(crop, cv2.COLOR_RGB2BGR))\n",
    "\n",
    "        print(f\"Saved: {crop_filename}\")\n",
    "\n",
    "print(\"Processing complete. Randomly cropped normal images are saved in:\", normal_dir)\n"
   ]
  },
  {
   "cell_type": "markdown",
   "metadata": {},
   "source": [
    "### Now we retrieve the index of the images of the validation set (that we will use to feed the CNN either through SAM or just by giving the full img)"
   ]
  },
  {
   "cell_type": "code",
   "execution_count": 8,
   "metadata": {},
   "outputs": [
    {
     "data": {
      "application/vnd.microsoft.datawrangler.viewer.v0+json": {
       "columns": [
        {
         "name": "index",
         "rawType": "int64",
         "type": "integer"
        },
        {
         "name": "filename",
         "rawType": "object",
         "type": "string"
        },
        {
         "name": "category",
         "rawType": "object",
         "type": "string"
        },
        {
         "name": "extracted_index",
         "rawType": "float64",
         "type": "float"
        }
       ],
       "conversionMethod": "pd.DataFrame",
       "ref": "81b23143-b240-45ce-ba77-40b81e76f57d",
       "rows": [
        [
         "0",
         "tumor_906_mask1.png",
         "benign",
         "906.0"
        ],
        [
         "1",
         "tumor_331_mask0.png",
         "benign",
         "331.0"
        ],
        [
         "2",
         "tumor_295_mask0.png",
         "benign",
         "295.0"
        ],
        [
         "3",
         "tumor_883_mask0.png",
         "benign",
         "883.0"
        ],
        [
         "4",
         "tumor_379_mask0.png",
         "benign",
         "379.0"
        ],
        [
         "5",
         "tumor_735_mask0.png",
         "benign",
         "735.0"
        ],
        [
         "6",
         "tumor_416_mask0.png",
         "benign",
         "416.0"
        ],
        [
         "7",
         "tumor_498_mask0.png",
         "benign",
         "498.0"
        ],
        [
         "8",
         "tumor_865_mask0.png",
         "benign",
         "865.0"
        ],
        [
         "9",
         "tumor_512_mask0.png",
         "benign",
         "512.0"
        ],
        [
         "10",
         "tumor_723_mask0.png",
         "benign",
         "723.0"
        ],
        [
         "11",
         "tumor_343_mask0.png",
         "benign",
         "343.0"
        ],
        [
         "12",
         "tumor_565_mask0.png",
         "benign",
         "565.0"
        ],
        [
         "13",
         "tumor_375_mask0.png",
         "benign",
         "375.0"
        ],
        [
         "14",
         "tumor_569_mask0.png",
         "benign",
         "569.0"
        ],
        [
         "15",
         "tumor_812_mask0.png",
         "benign",
         "812.0"
        ],
        [
         "16",
         "tumor_266_mask0.png",
         "benign",
         "266.0"
        ],
        [
         "17",
         "tumor_719_mask0.png",
         "benign",
         "719.0"
        ],
        [
         "18",
         "tumor_923_mask0.png",
         "benign",
         "923.0"
        ],
        [
         "19",
         "tumor_464_mask0.png",
         "benign",
         "464.0"
        ],
        [
         "20",
         "tumor_283_mask0.png",
         "benign",
         "283.0"
        ],
        [
         "21",
         "tumor_618_mask0.png",
         "benign",
         "618.0"
        ],
        [
         "22",
         "tumor_408_mask0.png",
         "benign",
         "408.0"
        ],
        [
         "23",
         "tumor_731_mask0.png",
         "benign",
         "731.0"
        ],
        [
         "24",
         "tumor_767_mask0.png",
         "benign",
         "767.0"
        ],
        [
         "25",
         "tumor_532_mask1.png",
         "benign",
         "532.0"
        ],
        [
         "26",
         "tumor_707_mask0.png",
         "benign",
         "707.0"
        ],
        [
         "27",
         "tumor_646_mask0.png",
         "benign",
         "646.0"
        ],
        [
         "28",
         "tumor_644_mask0.png",
         "benign",
         "644.0"
        ],
        [
         "29",
         "tumor_988_mask0.png",
         "benign",
         "988.0"
        ],
        [
         "30",
         "tumor_315_mask0.png",
         "benign",
         "315.0"
        ],
        [
         "31",
         "tumor_476_mask0.png",
         "benign",
         "476.0"
        ],
        [
         "32",
         "tumor_349_mask0.png",
         "benign",
         "349.0"
        ],
        [
         "33",
         "tumor_972_mask0.png",
         "benign",
         "972.0"
        ],
        [
         "34",
         "tumor_832_mask0.png",
         "benign",
         "832.0"
        ],
        [
         "35",
         "tumor_488_mask0.png",
         "benign",
         "488.0"
        ],
        [
         "36",
         "tumor_391_mask0.png",
         "benign",
         "391.0"
        ],
        [
         "37",
         "tumor_309_mask0.png",
         "benign",
         "309.0"
        ],
        [
         "38",
         "tumor_563_mask0.png",
         "benign",
         "563.0"
        ],
        [
         "39",
         "tumor_610_mask0.png",
         "benign",
         "610.0"
        ],
        [
         "40",
         "tumor_755_mask0.png",
         "benign",
         "755.0"
        ],
        [
         "41",
         "tumor_849_mask0.png",
         "benign",
         "849.0"
        ],
        [
         "42",
         "tumor_325_mask0.png",
         "benign",
         "325.0"
        ],
        [
         "43",
         "tumor_695_mask0.png",
         "benign",
         "695.0"
        ],
        [
         "44",
         "tumor_478_mask0.png",
         "benign",
         "478.0"
        ],
        [
         "45",
         "tumor_508_mask0.png",
         "benign",
         "508.0"
        ],
        [
         "46",
         "tumor_442_mask0.png",
         "benign",
         "442.0"
        ],
        [
         "47",
         "tumor_377_mask0.png",
         "benign",
         "377.0"
        ],
        [
         "48",
         "tumor_275_mask0.png",
         "benign",
         "275.0"
        ],
        [
         "49",
         "tumor_355_mask0.png",
         "benign",
         "355.0"
        ]
       ],
       "shape": {
        "columns": 3,
        "rows": 245
       }
      },
      "text/html": [
       "<div>\n",
       "<style scoped>\n",
       "    .dataframe tbody tr th:only-of-type {\n",
       "        vertical-align: middle;\n",
       "    }\n",
       "\n",
       "    .dataframe tbody tr th {\n",
       "        vertical-align: top;\n",
       "    }\n",
       "\n",
       "    .dataframe thead th {\n",
       "        text-align: right;\n",
       "    }\n",
       "</style>\n",
       "<table border=\"1\" class=\"dataframe\">\n",
       "  <thead>\n",
       "    <tr style=\"text-align: right;\">\n",
       "      <th></th>\n",
       "      <th>filename</th>\n",
       "      <th>category</th>\n",
       "      <th>extracted_index</th>\n",
       "    </tr>\n",
       "  </thead>\n",
       "  <tbody>\n",
       "    <tr>\n",
       "      <th>0</th>\n",
       "      <td>tumor_906_mask1.png</td>\n",
       "      <td>benign</td>\n",
       "      <td>906.0</td>\n",
       "    </tr>\n",
       "    <tr>\n",
       "      <th>1</th>\n",
       "      <td>tumor_331_mask0.png</td>\n",
       "      <td>benign</td>\n",
       "      <td>331.0</td>\n",
       "    </tr>\n",
       "    <tr>\n",
       "      <th>2</th>\n",
       "      <td>tumor_295_mask0.png</td>\n",
       "      <td>benign</td>\n",
       "      <td>295.0</td>\n",
       "    </tr>\n",
       "    <tr>\n",
       "      <th>3</th>\n",
       "      <td>tumor_883_mask0.png</td>\n",
       "      <td>benign</td>\n",
       "      <td>883.0</td>\n",
       "    </tr>\n",
       "    <tr>\n",
       "      <th>4</th>\n",
       "      <td>tumor_379_mask0.png</td>\n",
       "      <td>benign</td>\n",
       "      <td>379.0</td>\n",
       "    </tr>\n",
       "    <tr>\n",
       "      <th>...</th>\n",
       "      <td>...</td>\n",
       "      <td>...</td>\n",
       "      <td>...</td>\n",
       "    </tr>\n",
       "    <tr>\n",
       "      <th>240</th>\n",
       "      <td>normal_64_crop0.png</td>\n",
       "      <td>normal</td>\n",
       "      <td>NaN</td>\n",
       "    </tr>\n",
       "    <tr>\n",
       "      <th>241</th>\n",
       "      <td>normal_50_crop3.png</td>\n",
       "      <td>normal</td>\n",
       "      <td>NaN</td>\n",
       "    </tr>\n",
       "    <tr>\n",
       "      <th>242</th>\n",
       "      <td>normal_258_crop1.png</td>\n",
       "      <td>normal</td>\n",
       "      <td>NaN</td>\n",
       "    </tr>\n",
       "    <tr>\n",
       "      <th>243</th>\n",
       "      <td>normal_190_crop1.png</td>\n",
       "      <td>normal</td>\n",
       "      <td>NaN</td>\n",
       "    </tr>\n",
       "    <tr>\n",
       "      <th>244</th>\n",
       "      <td>normal_174.png</td>\n",
       "      <td>normal</td>\n",
       "      <td>NaN</td>\n",
       "    </tr>\n",
       "  </tbody>\n",
       "</table>\n",
       "<p>245 rows × 3 columns</p>\n",
       "</div>"
      ],
      "text/plain": [
       "                 filename category  extracted_index\n",
       "0     tumor_906_mask1.png   benign            906.0\n",
       "1     tumor_331_mask0.png   benign            331.0\n",
       "2     tumor_295_mask0.png   benign            295.0\n",
       "3     tumor_883_mask0.png   benign            883.0\n",
       "4     tumor_379_mask0.png   benign            379.0\n",
       "..                    ...      ...              ...\n",
       "240   normal_64_crop0.png   normal              NaN\n",
       "241   normal_50_crop3.png   normal              NaN\n",
       "242  normal_258_crop1.png   normal              NaN\n",
       "243  normal_190_crop1.png   normal              NaN\n",
       "244        normal_174.png   normal              NaN\n",
       "\n",
       "[245 rows x 3 columns]"
      ]
     },
     "execution_count": 8,
     "metadata": {},
     "output_type": "execute_result"
    }
   ],
   "source": [
    "import re\n",
    "\n",
    "# Load the CSV file\n",
    "file_path = \"C:/Users/elisa/OneDrive/Desktop/Deep Learning/DL_Project/Deep_Learning_FinalProject/validation_images.csv\"  \n",
    "df_index = pd.read_csv(file_path)\n",
    "\n",
    "# Function to extract the index from the filename\n",
    "def extract_index(filename):\n",
    "    match = re.search(r\"tumor_(\\d+)_mask[0-2]\\.png\", filename)  \n",
    "    if match:\n",
    "        return int(match.group(1))\n",
    "    return None  # Return None if no match is found\n",
    "\n",
    "# Apply the function to extract the index\n",
    "df_index[\"extracted_index\"] = df_index[\"filename\"].apply(extract_index)\n",
    "\n",
    "df_index = df_index.drop(columns=['index', 'split'])\n",
    "df_index"
   ]
  },
  {
   "cell_type": "code",
   "execution_count": 20,
   "metadata": {},
   "outputs": [
    {
     "data": {
      "text/plain": [
       "0       906.0\n",
       "1       331.0\n",
       "2       295.0\n",
       "3       883.0\n",
       "4       379.0\n",
       "        ...  \n",
       "107    1281.0\n",
       "108    1253.0\n",
       "109    1133.0\n",
       "110    1059.0\n",
       "111    1235.0\n",
       "Name: extracted_index, Length: 112, dtype: float64"
      ]
     },
     "execution_count": 20,
     "metadata": {},
     "output_type": "execute_result"
    }
   ],
   "source": [
    "#NA are from normal\n",
    "df_filtered = df_index[\"extracted_index\"]\n",
    "df_filtered\n",
    "df_filtered_NA = df_filtered.dropna()\n",
    "df_filtered_NA"
   ]
  },
  {
   "cell_type": "code",
   "execution_count": 21,
   "metadata": {},
   "outputs": [
    {
     "data": {
      "application/vnd.microsoft.datawrangler.viewer.v0+json": {
       "columns": [
        {
         "name": "index",
         "rawType": "int64",
         "type": "integer"
        },
        {
         "name": "image_path",
         "rawType": "object",
         "type": "string"
        },
        {
         "name": "label",
         "rawType": "int64",
         "type": "integer"
        }
       ],
       "conversionMethod": "pd.DataFrame",
       "ref": "64c5a1e4-d35e-4ea9-886a-aa661b638e57",
       "rows": [
        [
         "906",
         "C:/Users/elisa/OneDrive/Desktop/Deep Learning/DL_Project/Deep_Learning_FinalProject/Breast_Images/benign\\benign (58).png",
         "1"
        ],
        [
         "331",
         "C:/Users/elisa/OneDrive/Desktop/Deep Learning/DL_Project/Deep_Learning_FinalProject/Breast_Images/benign\\benign (131).png",
         "1"
        ],
        [
         "295",
         "C:/Users/elisa/OneDrive/Desktop/Deep Learning/DL_Project/Deep_Learning_FinalProject/Breast_Images/benign\\benign (113).png",
         "1"
        ],
        [
         "883",
         "C:/Users/elisa/OneDrive/Desktop/Deep Learning/DL_Project/Deep_Learning_FinalProject/Breast_Images/benign\\benign (47).png",
         "1"
        ],
        [
         "379",
         "C:/Users/elisa/OneDrive/Desktop/Deep Learning/DL_Project/Deep_Learning_FinalProject/Breast_Images/benign\\benign (155).png",
         "1"
        ],
        [
         "735",
         "C:/Users/elisa/OneDrive/Desktop/Deep Learning/DL_Project/Deep_Learning_FinalProject/Breast_Images/benign\\benign (375).png",
         "1"
        ],
        [
         "416",
         "C:/Users/elisa/OneDrive/Desktop/Deep Learning/DL_Project/Deep_Learning_FinalProject/Breast_Images/benign\\benign (171).png",
         "1"
        ],
        [
         "498",
         "C:/Users/elisa/OneDrive/Desktop/Deep Learning/DL_Project/Deep_Learning_FinalProject/Breast_Images/benign\\benign (210).png",
         "1"
        ],
        [
         "865",
         "C:/Users/elisa/OneDrive/Desktop/Deep Learning/DL_Project/Deep_Learning_FinalProject/Breast_Images/benign\\benign (432).png",
         "1"
        ],
        [
         "512",
         "C:/Users/elisa/OneDrive/Desktop/Deep Learning/DL_Project/Deep_Learning_FinalProject/Breast_Images/benign\\benign (228).png",
         "1"
        ],
        [
         "723",
         "C:/Users/elisa/OneDrive/Desktop/Deep Learning/DL_Project/Deep_Learning_FinalProject/Breast_Images/benign\\benign (37).png",
         "1"
        ],
        [
         "343",
         "C:/Users/elisa/OneDrive/Desktop/Deep Learning/DL_Project/Deep_Learning_FinalProject/Breast_Images/benign\\benign (137).png",
         "1"
        ],
        [
         "565",
         "C:/Users/elisa/OneDrive/Desktop/Deep Learning/DL_Project/Deep_Learning_FinalProject/Breast_Images/benign\\benign (292).png",
         "1"
        ],
        [
         "375",
         "C:/Users/elisa/OneDrive/Desktop/Deep Learning/DL_Project/Deep_Learning_FinalProject/Breast_Images/benign\\benign (153).png",
         "1"
        ],
        [
         "569",
         "C:/Users/elisa/OneDrive/Desktop/Deep Learning/DL_Project/Deep_Learning_FinalProject/Breast_Images/benign\\benign (294).png",
         "1"
        ],
        [
         "812",
         "C:/Users/elisa/OneDrive/Desktop/Deep Learning/DL_Project/Deep_Learning_FinalProject/Breast_Images/benign\\benign (409).png",
         "1"
        ],
        [
         "266",
         "C:/Users/elisa/OneDrive/Desktop/Deep Learning/DL_Project/Deep_Learning_FinalProject/Breast_Images/benign\\benign (1).png",
         "1"
        ],
        [
         "719",
         "C:/Users/elisa/OneDrive/Desktop/Deep Learning/DL_Project/Deep_Learning_FinalProject/Breast_Images/benign\\benign (368).png",
         "1"
        ],
        [
         "923",
         "C:/Users/elisa/OneDrive/Desktop/Deep Learning/DL_Project/Deep_Learning_FinalProject/Breast_Images/benign\\benign (67).png",
         "1"
        ],
        [
         "464",
         "C:/Users/elisa/OneDrive/Desktop/Deep Learning/DL_Project/Deep_Learning_FinalProject/Breast_Images/benign\\benign (192).png",
         "1"
        ],
        [
         "283",
         "C:/Users/elisa/OneDrive/Desktop/Deep Learning/DL_Project/Deep_Learning_FinalProject/Breast_Images/benign\\benign (106).png",
         "1"
        ],
        [
         "618",
         "C:/Users/elisa/OneDrive/Desktop/Deep Learning/DL_Project/Deep_Learning_FinalProject/Breast_Images/benign\\benign (322).png",
         "1"
        ],
        [
         "408",
         "C:/Users/elisa/OneDrive/Desktop/Deep Learning/DL_Project/Deep_Learning_FinalProject/Breast_Images/benign\\benign (168).png",
         "1"
        ],
        [
         "731",
         "C:/Users/elisa/OneDrive/Desktop/Deep Learning/DL_Project/Deep_Learning_FinalProject/Breast_Images/benign\\benign (373).png",
         "1"
        ],
        [
         "767",
         "C:/Users/elisa/OneDrive/Desktop/Deep Learning/DL_Project/Deep_Learning_FinalProject/Breast_Images/benign\\benign (39).png",
         "1"
        ],
        [
         "532",
         "C:/Users/elisa/OneDrive/Desktop/Deep Learning/DL_Project/Deep_Learning_FinalProject/Breast_Images/benign\\benign (25).png",
         "1"
        ],
        [
         "707",
         "C:/Users/elisa/OneDrive/Desktop/Deep Learning/DL_Project/Deep_Learning_FinalProject/Breast_Images/benign\\benign (362).png",
         "1"
        ],
        [
         "646",
         "C:/Users/elisa/OneDrive/Desktop/Deep Learning/DL_Project/Deep_Learning_FinalProject/Breast_Images/benign\\benign (335).png",
         "1"
        ],
        [
         "644",
         "C:/Users/elisa/OneDrive/Desktop/Deep Learning/DL_Project/Deep_Learning_FinalProject/Breast_Images/benign\\benign (334).png",
         "1"
        ],
        [
         "988",
         "C:/Users/elisa/OneDrive/Desktop/Deep Learning/DL_Project/Deep_Learning_FinalProject/Breast_Images/benign\\benign (96).png",
         "1"
        ],
        [
         "315",
         "C:/Users/elisa/OneDrive/Desktop/Deep Learning/DL_Project/Deep_Learning_FinalProject/Breast_Images/benign\\benign (124).png",
         "1"
        ],
        [
         "476",
         "C:/Users/elisa/OneDrive/Desktop/Deep Learning/DL_Project/Deep_Learning_FinalProject/Breast_Images/benign\\benign (197).png",
         "1"
        ],
        [
         "349",
         "C:/Users/elisa/OneDrive/Desktop/Deep Learning/DL_Project/Deep_Learning_FinalProject/Breast_Images/benign\\benign (140).png",
         "1"
        ],
        [
         "972",
         "C:/Users/elisa/OneDrive/Desktop/Deep Learning/DL_Project/Deep_Learning_FinalProject/Breast_Images/benign\\benign (9).png",
         "1"
        ],
        [
         "832",
         "C:/Users/elisa/OneDrive/Desktop/Deep Learning/DL_Project/Deep_Learning_FinalProject/Breast_Images/benign\\benign (418).png",
         "1"
        ],
        [
         "488",
         "C:/Users/elisa/OneDrive/Desktop/Deep Learning/DL_Project/Deep_Learning_FinalProject/Breast_Images/benign\\benign (202).png",
         "1"
        ],
        [
         "391",
         "C:/Users/elisa/OneDrive/Desktop/Deep Learning/DL_Project/Deep_Learning_FinalProject/Breast_Images/benign\\benign (160).png",
         "1"
        ],
        [
         "309",
         "C:/Users/elisa/OneDrive/Desktop/Deep Learning/DL_Project/Deep_Learning_FinalProject/Breast_Images/benign\\benign (120).png",
         "1"
        ],
        [
         "563",
         "C:/Users/elisa/OneDrive/Desktop/Deep Learning/DL_Project/Deep_Learning_FinalProject/Breast_Images/benign\\benign (291).png",
         "1"
        ],
        [
         "610",
         "C:/Users/elisa/OneDrive/Desktop/Deep Learning/DL_Project/Deep_Learning_FinalProject/Breast_Images/benign\\benign (319).png",
         "1"
        ],
        [
         "755",
         "C:/Users/elisa/OneDrive/Desktop/Deep Learning/DL_Project/Deep_Learning_FinalProject/Breast_Images/benign\\benign (384).png",
         "1"
        ],
        [
         "849",
         "C:/Users/elisa/OneDrive/Desktop/Deep Learning/DL_Project/Deep_Learning_FinalProject/Breast_Images/benign\\benign (425).png",
         "1"
        ],
        [
         "325",
         "C:/Users/elisa/OneDrive/Desktop/Deep Learning/DL_Project/Deep_Learning_FinalProject/Breast_Images/benign\\benign (129).png",
         "1"
        ],
        [
         "695",
         "C:/Users/elisa/OneDrive/Desktop/Deep Learning/DL_Project/Deep_Learning_FinalProject/Breast_Images/benign\\benign (357).png",
         "1"
        ],
        [
         "478",
         "C:/Users/elisa/OneDrive/Desktop/Deep Learning/DL_Project/Deep_Learning_FinalProject/Breast_Images/benign\\benign (198).png",
         "1"
        ],
        [
         "508",
         "C:/Users/elisa/OneDrive/Desktop/Deep Learning/DL_Project/Deep_Learning_FinalProject/Breast_Images/benign\\benign (224).png",
         "1"
        ],
        [
         "442",
         "C:/Users/elisa/OneDrive/Desktop/Deep Learning/DL_Project/Deep_Learning_FinalProject/Breast_Images/benign\\benign (182).png",
         "1"
        ],
        [
         "377",
         "C:/Users/elisa/OneDrive/Desktop/Deep Learning/DL_Project/Deep_Learning_FinalProject/Breast_Images/benign\\benign (154).png",
         "1"
        ],
        [
         "275",
         "C:/Users/elisa/OneDrive/Desktop/Deep Learning/DL_Project/Deep_Learning_FinalProject/Breast_Images/benign\\benign (102).png",
         "1"
        ],
        [
         "355",
         "C:/Users/elisa/OneDrive/Desktop/Deep Learning/DL_Project/Deep_Learning_FinalProject/Breast_Images/benign\\benign (144).png",
         "1"
        ]
       ],
       "shape": {
        "columns": 2,
        "rows": 112
       }
      },
      "text/html": [
       "<div>\n",
       "<style scoped>\n",
       "    .dataframe tbody tr th:only-of-type {\n",
       "        vertical-align: middle;\n",
       "    }\n",
       "\n",
       "    .dataframe tbody tr th {\n",
       "        vertical-align: top;\n",
       "    }\n",
       "\n",
       "    .dataframe thead th {\n",
       "        text-align: right;\n",
       "    }\n",
       "</style>\n",
       "<table border=\"1\" class=\"dataframe\">\n",
       "  <thead>\n",
       "    <tr style=\"text-align: right;\">\n",
       "      <th></th>\n",
       "      <th>image_path</th>\n",
       "      <th>label</th>\n",
       "    </tr>\n",
       "  </thead>\n",
       "  <tbody>\n",
       "    <tr>\n",
       "      <th>906</th>\n",
       "      <td>C:/Users/elisa/OneDrive/Desktop/Deep Learning/...</td>\n",
       "      <td>1</td>\n",
       "    </tr>\n",
       "    <tr>\n",
       "      <th>331</th>\n",
       "      <td>C:/Users/elisa/OneDrive/Desktop/Deep Learning/...</td>\n",
       "      <td>1</td>\n",
       "    </tr>\n",
       "    <tr>\n",
       "      <th>295</th>\n",
       "      <td>C:/Users/elisa/OneDrive/Desktop/Deep Learning/...</td>\n",
       "      <td>1</td>\n",
       "    </tr>\n",
       "    <tr>\n",
       "      <th>883</th>\n",
       "      <td>C:/Users/elisa/OneDrive/Desktop/Deep Learning/...</td>\n",
       "      <td>1</td>\n",
       "    </tr>\n",
       "    <tr>\n",
       "      <th>379</th>\n",
       "      <td>C:/Users/elisa/OneDrive/Desktop/Deep Learning/...</td>\n",
       "      <td>1</td>\n",
       "    </tr>\n",
       "    <tr>\n",
       "      <th>...</th>\n",
       "      <td>...</td>\n",
       "      <td>...</td>\n",
       "    </tr>\n",
       "    <tr>\n",
       "      <th>1281</th>\n",
       "      <td>C:/Users/elisa/OneDrive/Desktop/Deep Learning/...</td>\n",
       "      <td>2</td>\n",
       "    </tr>\n",
       "    <tr>\n",
       "      <th>1253</th>\n",
       "      <td>C:/Users/elisa/OneDrive/Desktop/Deep Learning/...</td>\n",
       "      <td>2</td>\n",
       "    </tr>\n",
       "    <tr>\n",
       "      <th>1133</th>\n",
       "      <td>C:/Users/elisa/OneDrive/Desktop/Deep Learning/...</td>\n",
       "      <td>2</td>\n",
       "    </tr>\n",
       "    <tr>\n",
       "      <th>1059</th>\n",
       "      <td>C:/Users/elisa/OneDrive/Desktop/Deep Learning/...</td>\n",
       "      <td>2</td>\n",
       "    </tr>\n",
       "    <tr>\n",
       "      <th>1235</th>\n",
       "      <td>C:/Users/elisa/OneDrive/Desktop/Deep Learning/...</td>\n",
       "      <td>2</td>\n",
       "    </tr>\n",
       "  </tbody>\n",
       "</table>\n",
       "<p>112 rows × 2 columns</p>\n",
       "</div>"
      ],
      "text/plain": [
       "                                             image_path  label\n",
       "906   C:/Users/elisa/OneDrive/Desktop/Deep Learning/...      1\n",
       "331   C:/Users/elisa/OneDrive/Desktop/Deep Learning/...      1\n",
       "295   C:/Users/elisa/OneDrive/Desktop/Deep Learning/...      1\n",
       "883   C:/Users/elisa/OneDrive/Desktop/Deep Learning/...      1\n",
       "379   C:/Users/elisa/OneDrive/Desktop/Deep Learning/...      1\n",
       "...                                                 ...    ...\n",
       "1281  C:/Users/elisa/OneDrive/Desktop/Deep Learning/...      2\n",
       "1253  C:/Users/elisa/OneDrive/Desktop/Deep Learning/...      2\n",
       "1133  C:/Users/elisa/OneDrive/Desktop/Deep Learning/...      2\n",
       "1059  C:/Users/elisa/OneDrive/Desktop/Deep Learning/...      2\n",
       "1235  C:/Users/elisa/OneDrive/Desktop/Deep Learning/...      2\n",
       "\n",
       "[112 rows x 2 columns]"
      ]
     },
     "execution_count": 21,
     "metadata": {},
     "output_type": "execute_result"
    }
   ],
   "source": [
    "df_filtered_rows = df.loc[df_filtered_NA]\n",
    "df_filtered_rows"
   ]
  },
  {
   "cell_type": "code",
   "execution_count": 22,
   "metadata": {},
   "outputs": [],
   "source": [
    "df_filtered_rows.to_csv(\"full_img_test.csv\", index=False)\n"
   ]
  }
 ],
 "metadata": {
  "kernelspec": {
   "display_name": "base",
   "language": "python",
   "name": "python3"
  },
  "language_info": {
   "codemirror_mode": {
    "name": "ipython",
    "version": 3
   },
   "file_extension": ".py",
   "mimetype": "text/x-python",
   "name": "python",
   "nbconvert_exporter": "python",
   "pygments_lexer": "ipython3",
   "version": "3.12.3"
  }
 },
 "nbformat": 4,
 "nbformat_minor": 2
}
